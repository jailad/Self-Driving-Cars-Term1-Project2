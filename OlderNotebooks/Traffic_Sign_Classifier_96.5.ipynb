{
 "cells": [
  {
   "cell_type": "markdown",
   "metadata": {
    "deletable": true,
    "editable": true
   },
   "source": [
    "# Self-Driving Car Engineer Nanodegree\n",
    "\n",
    "## Deep Learning\n",
    "\n",
    "## Project: Build a Traffic Sign Recognition Classifier\n",
    "\n",
    "In this notebook, a template is provided for you to implement your functionality in stages, which is required to successfully complete this project. If additional code is required that cannot be included in the notebook, be sure that the Python code is successfully imported and included in your submission if necessary. \n",
    "\n",
    "> **Note**: Once you have completed all of the code implementations, you need to finalize your work by exporting the iPython Notebook as an HTML document. Before exporting the notebook to html, all of the code cells need to have been run so that reviewers can see the final implementation and output. You can then export the notebook by using the menu above and navigating to  \\n\",\n",
    "    \"**File -> Download as -> HTML (.html)**. Include the finished document along with this notebook as your submission. \n",
    "\n",
    "In addition to implementing code, there is a writeup to complete. The writeup should be completed in a separate file, which can be either a markdown file or a pdf document. There is a [write up template](https://github.com/udacity/CarND-Traffic-Sign-Classifier-Project/blob/master/writeup_template.md) that can be used to guide the writing process. Completing the code template and writeup template will cover all of the [rubric points](https://review.udacity.com/#!/rubrics/481/view) for this project.\n",
    "\n",
    "The [rubric](https://review.udacity.com/#!/rubrics/481/view) contains \"Stand Out Suggestions\" for enhancing the project beyond the minimum requirements. The stand out suggestions are optional. If you decide to pursue the \"stand out suggestions\", you can include the code in this Ipython notebook and also discuss the results in the writeup file.\n",
    "\n",
    "\n",
    ">**Note:** Code and Markdown cells can be executed using the **Shift + Enter** keyboard shortcut. In addition, Markdown cells can be edited by typically double-clicking the cell to enter edit mode."
   ]
  },
  {
   "cell_type": "markdown",
   "metadata": {
    "deletable": true,
    "editable": true
   },
   "source": [
    "## Common Imports"
   ]
  },
  {
   "cell_type": "code",
   "execution_count": 13,
   "metadata": {
    "collapsed": true,
    "deletable": true,
    "editable": true
   },
   "outputs": [],
   "source": [
    "import numpy as np\n",
    "import os\n",
    "import time\n",
    "import sys\n",
    "import time\n",
    "import scipy\n",
    "import json\n",
    "import matplotlib.pyplot as plt\n"
   ]
  },
  {
   "cell_type": "markdown",
   "metadata": {
    "deletable": true,
    "editable": true
   },
   "source": [
    "## Define Convenience Function to rotate an image by an arbitrary angle"
   ]
  },
  {
   "cell_type": "code",
   "execution_count": 2,
   "metadata": {
    "collapsed": true,
    "deletable": true,
    "editable": true
   },
   "outputs": [],
   "source": [
    "from scipy.ndimage import rotate\n",
    "\n",
    "def rotateImage(image):\n",
    "    randomRotationAngle = random.randint(0, 360)\n",
    "    rotated_image = rotate(image, randomRotationAngle, reshape=False)\n",
    "    return rotated_image"
   ]
  },
  {
   "cell_type": "markdown",
   "metadata": {
    "deletable": true,
    "editable": true
   },
   "source": [
    "## Define Convenience Function to visualize samples of an image data array"
   ]
  },
  {
   "cell_type": "code",
   "execution_count": 15,
   "metadata": {
    "collapsed": true,
    "deletable": true,
    "editable": true
   },
   "outputs": [],
   "source": [
    "\n",
    "%matplotlib inline\n",
    "\n",
    "def visualizeSamplesFromData(dataArray):\n",
    "    for index in range(0, 10):\n",
    "        image = dataArray[index]\n",
    "        squeezedImage = image.squeeze()\n",
    "        plt.figure(figsize=(3,3))\n",
    "        plt.imshow(squeezedImage) \n",
    "        "
   ]
  },
  {
   "cell_type": "markdown",
   "metadata": {
    "deletable": true,
    "editable": true
   },
   "source": [
    "## Define Convenience Function to store data as JSON file for later analysis"
   ]
  },
  {
   "cell_type": "code",
   "execution_count": 4,
   "metadata": {
    "collapsed": true,
    "deletable": true,
    "editable": true
   },
   "outputs": [],
   "source": [
    "import json\n",
    "\n",
    "const_data_analysis_folder = 'data_for_analysis'\n",
    "\n",
    "def saveDataToDiskAsJson(data):\n",
    "    if not os.path.exists(const_data_analysis_folder):\n",
    "        os.makedirs(const_data_analysis_folder)\n",
    "    currentTime = time.time()\n",
    "    filename = const_data_analysis_folder + '/' + str(currentTime)\n",
    "    print(filename)\n",
    "    with open(filename, 'w') as outfile:\n",
    "        json.dump(data, outfile)\n",
    "        \n",
    "def getDataFromDisk(filename):\n",
    "    filename = const_data_analysis_folder + '/' + filename\n",
    "    with open(filename) as infile:\n",
    "        data = json.load(infile)"
   ]
  },
  {
   "cell_type": "markdown",
   "metadata": {
    "deletable": true,
    "editable": true
   },
   "source": [
    "## Define Convenience Function to store data as pickle file for later analysis"
   ]
  },
  {
   "cell_type": "code",
   "execution_count": 36,
   "metadata": {
    "collapsed": false,
    "deletable": true,
    "editable": true
   },
   "outputs": [
    {
     "name": "stdout",
     "output_type": "stream",
     "text": [
      "\n",
      "Data writing started : pickle_data_for_analysis/apple.pickle\n",
      "\n",
      "Data writing complete : pickle_data_for_analysis/apple.pickle\n",
      "\n",
      "Data loading started : pickle_data_for_analysis/apple.pickle\n",
      "\n",
      "Data loading complete : pickle_data_for_analysis/apple.pickle\n",
      "{1, 2, 3, 4, 5}\n"
     ]
    }
   ],
   "source": [
    "# Sample to write Data as Pickle File and read it back\n",
    "\n",
    "import pickle\n",
    "\n",
    "data_to_test_pickle = {1,2,3,4,5}\n",
    "\n",
    "const_pickle_data_analysis_folder = 'pickle_data_for_analysis'\n",
    "\n",
    "def saveDataToDiskAsPickle(data, param_filename = None):\n",
    "    if not os.path.exists(const_pickle_data_analysis_folder):\n",
    "        os.makedirs(const_pickle_data_analysis_folder)\n",
    "\n",
    "    fileName = param_filename\n",
    "    \n",
    "    if not fileName:\n",
    "        filename = str(time.time())\n",
    "    \n",
    "    filename = const_pickle_data_analysis_folder + '/' + param_filename + '.pickle'\n",
    "    \n",
    "    debugLog(\"Data writing started : \" + filename)\n",
    "\n",
    "    with open(filename, 'wb') as handle:\n",
    "        pickle.dump(data, handle, pickle.HIGHEST_PROTOCOL) \n",
    "    \n",
    "    debugLog(\"Data writing complete : \" + filename)\n",
    "\n",
    "        \n",
    "def getDataFromPickleFile(filename):\n",
    "    returnData = None\n",
    "    filename = const_pickle_data_analysis_folder + '/' + filename + '.pickle'\n",
    "    debugLog(\"Data loading started : \" + filename)\n",
    "    with open(filename, 'rb') as handle:\n",
    "        returnData = pickle.load(handle)\n",
    "    debugLog(\"Data loading complete : \" + filename)\n",
    "    return returnData\n",
    "        \n",
    "saveDataToDiskAsPickle(data_to_test_pickle, 'apple')\n",
    "print(getDataFromPickleFile(\"apple\"))"
   ]
  },
  {
   "cell_type": "markdown",
   "metadata": {
    "deletable": true,
    "editable": true
   },
   "source": [
    "## Define Convenience Function to make sound"
   ]
  },
  {
   "cell_type": "code",
   "execution_count": 6,
   "metadata": {
    "collapsed": true,
    "deletable": true,
    "editable": true
   },
   "outputs": [],
   "source": [
    "\n",
    "# This can be used to indicate the completion of training for example\n",
    "def makeSound():\n",
    "    os.system(\"printf '\\a'\") # or '\\7'\n",
    "    "
   ]
  },
  {
   "cell_type": "markdown",
   "metadata": {
    "deletable": true,
    "editable": true
   },
   "source": [
    "## Define Convenience Logging Functions"
   ]
  },
  {
   "cell_type": "code",
   "execution_count": 7,
   "metadata": {
    "collapsed": false,
    "deletable": true,
    "editable": true
   },
   "outputs": [],
   "source": [
    "const_info_log_enabled = False\n",
    "def infoLog(logMessage):\n",
    "    if const_info_log_enabled == True:\n",
    "        print(\"\")\n",
    "        print(logMessage)\n",
    "\n",
    "const_debug_log_enabled = True\n",
    "def debugLog(logMessage):\n",
    "    if const_debug_log_enabled == True:\n",
    "        print(\"\")\n",
    "        print(logMessage)\n",
    "        \n",
    "const_warning_log_enabled = True\n",
    "def warningLog(logMessage):\n",
    "    if const_warning_log_enabled == True:\n",
    "        print(\"\")\n",
    "        print(logMessage)\n",
    "        \n",
    "const_error_log_enabled = True\n",
    "def errorLog(logMessage):\n",
    "    if const_error_log_enabled == True:\n",
    "        print(\"\")\n",
    "        print(logMessage)"
   ]
  },
  {
   "cell_type": "markdown",
   "metadata": {
    "deletable": true,
    "editable": true
   },
   "source": [
    "## Convenience method - to show progress"
   ]
  },
  {
   "cell_type": "code",
   "execution_count": 8,
   "metadata": {
    "collapsed": true,
    "deletable": true,
    "editable": true
   },
   "outputs": [],
   "source": [
    "# Used From - http://stackoverflow.com/questions/3173320/text-progress-bar-in-the-console\n",
    "\n",
    "def progressIndicator(count, total, suffix=''):\n",
    "    bar_len = 60\n",
    "    filled_len = int(round(bar_len * count / float(total)))\n",
    "\n",
    "    percents = round(100.0 * count / float(total), 1)\n",
    "    bar = '=' * filled_len + '-' * (bar_len - filled_len)\n",
    "\n",
    "    sys.stdout.write('[%s] %s%s ...%s\\r' % (bar, percents, '%', suffix))\n",
    "    sys.stdout.flush()  "
   ]
  },
  {
   "cell_type": "markdown",
   "metadata": {
    "deletable": true,
    "editable": true
   },
   "source": [
    "---\n",
    "## Step 0: Load The Data"
   ]
  },
  {
   "cell_type": "markdown",
   "metadata": {
    "deletable": true,
    "editable": true
   },
   "source": [
    "### Load Preprocessed ( normalized ) training data to disk for future runs"
   ]
  },
  {
   "cell_type": "code",
   "execution_count": 76,
   "metadata": {
    "collapsed": false,
    "deletable": true,
    "editable": true
   },
   "outputs": [
    {
     "name": "stdout",
     "output_type": "stream",
     "text": [
      "\n",
      "Data loading started : pickle_data_for_analysis/X_train_normalized.pickle\n",
      "\n",
      "Data loading complete : pickle_data_for_analysis/X_train_normalized.pickle\n",
      "\n",
      "Data loading started : pickle_data_for_analysis/y_train_normalized.pickle\n",
      "\n",
      "Data loading complete : pickle_data_for_analysis/y_train_normalized.pickle\n"
     ]
    }
   ],
   "source": [
    "X_train = getDataFromPickleFile('X_train_normalized')\n",
    "y_train = getDataFromPickleFile('y_train_normalized')"
   ]
  },
  {
   "cell_type": "markdown",
   "metadata": {
    "deletable": true,
    "editable": true
   },
   "source": [
    "### Visualize the loaded data"
   ]
  },
  {
   "cell_type": "code",
   "execution_count": 77,
   "metadata": {
    "collapsed": false,
    "deletable": true,
    "editable": true
   },
   "outputs": [
    {
     "data": {
      "image/png": "[encoded data removed]",
      "text/plain": [
       "<matplotlib.figure.Figure at 0x7f9c4fb97eb8>"
      ]
     },
     "metadata": {},
     "output_type": "display_data"
    },
    {
     "data": {
      "image/png": "[encoded data removed]",
      "text/plain": [
       "<matplotlib.figure.Figure at 0x7f9c50e7f320>"
      ]
     },
     "metadata": {},
     "output_type": "display_data"
    },
    {
     "data": {
      "image/png": "[encoded data removed]",
      "text/plain": [
       "<matplotlib.figure.Figure at 0x7f9c53333f60>"
      ]
     },
     "metadata": {},
     "output_type": "display_data"
    },
    {
     "data": {
      "image/png": "[encoded data removed]",
      "text/plain": [
       "<matplotlib.figure.Figure at 0x7f9c532f96d8>"
      ]
     },
     "metadata": {},
     "output_type": "display_data"
    },
    {
     "data": {
      "image/png": "[encoded data removed]",
      "text/plain": [
       "<matplotlib.figure.Figure at 0x7f9c531c2da0>"
      ]
     },
     "metadata": {},
     "output_type": "display_data"
    },
    {
     "data": {
      "image/png": "[encoded data removed]",
      "text/plain": [
       "<matplotlib.figure.Figure at 0x7f9c5318b320>"
      ]
     },
     "metadata": {},
     "output_type": "display_data"
    },
    {
     "data": {
      "image/png": "[encoded data removed]",
      "text/plain": [
       "<matplotlib.figure.Figure at 0x7f9c531579e8>"
      ]
     },
     "metadata": {},
     "output_type": "display_data"
    },
    {
     "data": {
      "image/png": "[encoded data removed]",
      "text/plain": [
       "<matplotlib.figure.Figure at 0x7f9c5311af28>"
      ]
     },
     "metadata": {},
     "output_type": "display_data"
    },
    {
     "data": {
      "image/png": "[encoded data removed]",
      "text/plain": [
       "<matplotlib.figure.Figure at 0x7f9c530ec630>"
      ]
     },
     "metadata": {},
     "output_type": "display_data"
    },
    {
     "data": {
      "image/png": "[encoded data removed]",
      "text/plain": [
       "<matplotlib.figure.Figure at 0x7f9c530aeb70>"
      ]
     },
     "metadata": {},
     "output_type": "display_data"
    }
   ],
   "source": [
    "visualizeSamplesFromData(X_train)"
   ]
  },
  {
   "cell_type": "code",
   "execution_count": 18,
   "metadata": {
    "collapsed": false,
    "deletable": true,
    "editable": true
   },
   "outputs": [],
   "source": [
    "# Load pickled data\n",
    "import pickle\n",
    "import numpy\n",
    "\n",
    "# TODO: Fill this in based on where you saved the training and testing data\n",
    "\n",
    "# training_file = 'traffic-signs-data/train.p'\n",
    "validation_file = 'traffic-signs-data/valid.p'\n",
    "testing_file = 'traffic-signs-data/test.p'\n",
    "\n",
    "# with open(training_file, mode='rb') as f:\n",
    "#     train = pickle.load(f)\n",
    "with open(validation_file, mode='rb') as f:\n",
    "    valid = pickle.load(f)\n",
    "with open(testing_file, mode='rb') as f:\n",
    "    test = pickle.load(f)\n",
    "    \n",
    "# X_train, y_train = train['features'], train['labels']\n",
    "X_valid, y_valid = valid['features'], valid['labels']\n",
    "X_test, y_test = test['features'], test['labels']\n",
    "\n",
    "# JL - explore the data keys\n",
    "# infoLog(\"Training Data Keys : \" + str(train.keys()))\n",
    "infoLog(\"Validation Data Keys : \" + str(valid.keys()))\n",
    "infoLog(\"Test Data Keys : \" + str(test.keys()))\n",
    "\n",
    "# JL - explore data shape\n",
    "X_train_shape = X_train.shape\n",
    "y_train_shape = y_train.shape\n",
    "X_valid_shape = X_valid.shape\n",
    "y_valid_shape = y_valid.shape\n",
    "X_test_shape = X_test.shape\n",
    "y_test_shape = y_test.shape\n",
    "\n",
    "infoLog(\"Shape of X_train : \" + str(X_train_shape))\n",
    "infoLog(\"Shape of y_train : \" + str(y_train_shape))\n",
    "infoLog(\"Shape of X_valid : \" + str(X_valid_shape))\n",
    "infoLog(\"Shape of y_valid : \" + str(y_valid_shape))\n",
    "infoLog(\"Shape of X_test : \" + str(X_test_shape))\n",
    "infoLog(\"Shape of y_test : \" + str(y_test_shape))\n",
    "\n",
    "# JL - explore unique data labels\n",
    "combined_labels_array = numpy.concatenate((y_train,y_valid,y_test))\n",
    "num_of_unique_labels_in_all_data = len(numpy.unique(combined_labels_array))\n",
    "infoLog(\"Total Number of Unique Labels: \" + str(num_of_unique_labels_in_all_data))\n",
    "\n",
    "\n",
    "# JL - explore shape of one image\n",
    "X_train_zero_shape = X_train[0].shape\n",
    "infoLog(\"Shape of X_train[0] : \" + str(X_train_zero_shape))"
   ]
  },
  {
   "cell_type": "markdown",
   "metadata": {
    "deletable": true,
    "editable": true
   },
   "source": [
    "---\n",
    "\n",
    "## Step 1: Dataset Summary & Exploration\n",
    "\n",
    "The pickled data is a dictionary with 4 key/value pairs:\n",
    "\n",
    "- `'features'` is a 4D array containing raw pixel data of the traffic sign images, (num examples, width, height, channels).\n",
    "- `'labels'` is a 1D array containing the label/class id of the traffic sign. The file `signnames.csv` contains id -> name mappings for each id.\n",
    "- `'sizes'` is a list containing tuples, (width, height) representing the original width and height the image.\n",
    "- `'coords'` is a list containing tuples, (x1, y1, x2, y2) representing coordinates of a bounding box around the sign in the image. **THESE COORDINATES ASSUME THE ORIGINAL IMAGE. THE PICKLED DATA CONTAINS RESIZED VERSIONS (32 by 32) OF THESE IMAGES**\n",
    "\n",
    "Complete the basic data summary below. Use python, numpy and/or pandas methods to calculate the data summary rather than hard coding the results. For example, the [pandas shape method](http://pandas.pydata.org/pandas-docs/stable/generated/pandas.DataFrame.shape.html) might be useful for calculating some of the summary results. "
   ]
  },
  {
   "cell_type": "markdown",
   "metadata": {
    "deletable": true,
    "editable": true
   },
   "source": [
    "### Provide a Basic Summary of the Data Set Using Python, Numpy and/or Pandas"
   ]
  },
  {
   "cell_type": "code",
   "execution_count": 19,
   "metadata": {
    "collapsed": false,
    "deletable": true,
    "editable": true
   },
   "outputs": [],
   "source": [
    "### Replace each question mark with the appropriate value. \n",
    "### Use python, pandas or numpy methods rather than hard coding the results\n",
    "\n",
    "# TODO: Number of training examples\n",
    "n_train = X_train_shape[0]\n",
    "\n",
    "# TODO: Number of validation examples\n",
    "n_validation = X_valid_shape[0]\n",
    "\n",
    "# TODO: Number of testing examples.\n",
    "n_test = X_test_shape[0]\n",
    "\n",
    "# TODO: What's the shape of an traffic sign image?\n",
    "image_shape = (X_test_shape[1],X_test_shape[2])\n",
    "\n",
    "# TODO: How many unique classes/labels there are in the dataset.\n",
    "n_classes = num_of_unique_labels_in_all_data\n",
    "\n",
    "infoLog(\"Number of training examples =\" + str(n_train))\n",
    "infoLog(\"Number of testing examples =\" + str(n_test))\n",
    "infoLog(\"Image data shape =\" + str(image_shape))\n",
    "infoLog(\"Number of classes =\" + str(n_classes))"
   ]
  },
  {
   "cell_type": "markdown",
   "metadata": {
    "deletable": true,
    "editable": true
   },
   "source": [
    "### Convenience Mapper to convert a classId to Sign Name"
   ]
  },
  {
   "cell_type": "code",
   "execution_count": 20,
   "metadata": {
    "collapsed": false,
    "deletable": true,
    "editable": true
   },
   "outputs": [],
   "source": [
    "# JL - Convenience Mapper\n",
    "\n",
    "classIdSignNameDict = {0:\"Speed limit (20km/h)\",\n",
    "1:\"Speed limit (30km/h)\",\n",
    "2:\"Speed limit (50km/h)\",\n",
    "3:\"Speed limit (60km/h)\",\n",
    "4:\"Speed limit (70km/h)\",\n",
    "5:\"Speed limit (80km/h)\",\n",
    "6:\"End of speed limit (80km/h)\",\n",
    "7:\"Speed limit (100km/h)\",\n",
    "8:\"Speed limit (120km/h)\",\n",
    "9:\"No passing\",\n",
    "10:\"No passing for vehicles over 3.5 metric tons\",\n",
    "11:\"Right-of-way at the next intersection\",\n",
    "12:\"Priority road\",\n",
    "13:\"Yield\",\n",
    "14:\"Stop\",\n",
    "15:\"No vehicles\",\n",
    "16:\"Vehicles over 3.5 metric tons prohibited\",\n",
    "17:\"No entry\",\n",
    "18:\"General caution\",\n",
    "19:\"Dangerous curve to the left\",\n",
    "20:\"Dangerous curve to the right\",\n",
    "21:\"Double curve\",\n",
    "22:\"Bumpy road\",\n",
    "23:\"Slippery road\",\n",
    "24:\"Road narrows on the right\",\n",
    "25:\"Road work\",\n",
    "26:\"Traffic signals\",\n",
    "27:\"Pedestrians\",\n",
    "28:\"Children crossing\",\n",
    "29:\"Bicycles crossing\",\n",
    "30:\"Beware of ice/snow\",\n",
    "31:\"Wild animals crossing\",\n",
    "32:\"End of all speed and passing limits\",\n",
    "33:\"Turn right ahead\",\n",
    "34:\"Turn left ahead\",\n",
    "35:\"Ahead only\",\n",
    "36:\"Go straight or right\",\n",
    "37:\"Go straight or left\",\n",
    "38:\"Keep right\",\n",
    "39:\"Keep left\",\n",
    "40:\"Roundabout mandatory\",\n",
    "41:\"End of no passing\",\n",
    "42:\"End of no passing by vehicles over 3.5 metric tons\"}\n",
    "\n",
    "def getSignNameForClassId(classId):\n",
    "    return classIdSignNameDict[classId]\n",
    "\n",
    "infoLog(getSignNameForClassId(0))"
   ]
  },
  {
   "cell_type": "markdown",
   "metadata": {
    "deletable": true,
    "editable": true
   },
   "source": [
    "### Include an exploratory visualization of the dataset"
   ]
  },
  {
   "cell_type": "markdown",
   "metadata": {
    "deletable": true,
    "editable": true
   },
   "source": [
    "Visualize the German Traffic Signs Dataset using the pickled file(s). This is open ended, suggestions include: plotting traffic sign images, plotting the count of each sign, etc. \n",
    "\n",
    "The [Matplotlib](http://matplotlib.org/) [examples](http://matplotlib.org/examples/index.html) and [gallery](http://matplotlib.org/gallery.html) pages are a great resource for doing visualizations in Python.\n",
    "\n",
    "**NOTE:** It's recommended you start with something simple first. If you wish to do more, come back to it after you've completed the rest of the sections. It can be interesting to look at the distribution of classes in the training, validation and test set. Is the distribution the same? Are there more examples of some classes than others?"
   ]
  },
  {
   "cell_type": "code",
   "execution_count": 21,
   "metadata": {
    "collapsed": false,
    "deletable": true,
    "editable": true
   },
   "outputs": [
    {
     "name": "stdout",
     "output_type": "stream",
     "text": [
      "\n",
      "Speed limit (70km/h)\n",
      "\n",
      "Wild animals crossing\n"
     ]
    },
    {
     "data": {
      "image/png": "[encoded data removed]",
      "text/plain": [
       "<matplotlib.figure.Figure at 0x7f9c71357a90>"
      ]
     },
     "metadata": {},
     "output_type": "display_data"
    },
    {
     "data": {
      "image/png": "[encoded data removed]",
      "text/plain": [
       "<matplotlib.figure.Figure at 0x7f9c6fadf940>"
      ]
     },
     "metadata": {},
     "output_type": "display_data"
    }
   ],
   "source": [
    "### Data exploration visualization code goes here.\n",
    "### Feel free to use as many code cells as needed.\n",
    "import random\n",
    "# Visualizations will be shown in the notebook.\n",
    "%matplotlib inline\n",
    "\n",
    "for counter in range(0,2):\n",
    "    index = random.randint(0, len(X_train))\n",
    "    image = X_train[index].squeeze()\n",
    "    plt.figure(figsize=(3,3))\n",
    "    plt.imshow(image)\n",
    "    debugLog(getSignNameForClassId(y_train[index]))\n"
   ]
  },
  {
   "cell_type": "code",
   "execution_count": null,
   "metadata": {
    "collapsed": false,
    "deletable": true,
    "editable": true
   },
   "outputs": [],
   "source": [
    "# JL - Visualization continued\n",
    "\n",
    "for counter in range(0,2):\n",
    "    index = random.randint(0, len(X_train))\n",
    "    image = X_train[index].squeeze()\n",
    "    plt.figure(figsize=(3,3))\n",
    "    plt.imshow(image)\n",
    "    infoLog(getSignNameForClassId(y_train[index]))"
   ]
  },
  {
   "cell_type": "code",
   "execution_count": null,
   "metadata": {
    "collapsed": false,
    "deletable": true,
    "editable": true
   },
   "outputs": [],
   "source": [
    "# JL - Visualization continued\n",
    "\n",
    "for counter in range(0,2):\n",
    "    index = random.randint(0, len(X_train))\n",
    "    image = X_train[index].squeeze()\n",
    "    plt.figure(figsize=(3,3))\n",
    "    plt.imshow(image)\n",
    "    infoLog(getSignNameForClassId(y_train[index]))"
   ]
  },
  {
   "cell_type": "code",
   "execution_count": null,
   "metadata": {
    "collapsed": false,
    "deletable": true,
    "editable": true
   },
   "outputs": [],
   "source": [
    "# JL - Visualization continued\n",
    "\n",
    "for counter in range(0,2):\n",
    "    index = random.randint(0, len(X_train))\n",
    "    image = X_train[index].squeeze()\n",
    "    plt.figure(figsize=(3,3))\n",
    "    plt.imshow(image)\n",
    "    infoLog(getSignNameForClassId(y_train[index]))"
   ]
  },
  {
   "cell_type": "code",
   "execution_count": null,
   "metadata": {
    "collapsed": false,
    "deletable": true,
    "editable": true
   },
   "outputs": [],
   "source": [
    "# JL - Visualization continued\n",
    "\n",
    "for counter in range(0,2):\n",
    "    index = random.randint(0, len(X_train))\n",
    "    image = X_train[index].squeeze()\n",
    "    plt.figure(figsize=(3,3))\n",
    "    plt.imshow(image)\n",
    "    infoLog(getSignNameForClassId(y_train[index]))"
   ]
  },
  {
   "cell_type": "code",
   "execution_count": null,
   "metadata": {
    "collapsed": false,
    "deletable": true,
    "editable": true
   },
   "outputs": [],
   "source": [
    "# JL - Visualization continued\n",
    "\n",
    "for counter in range(0,2):\n",
    "    index = random.randint(0, len(X_train))\n",
    "    image = X_train[index].squeeze()\n",
    "    plt.figure(figsize=(3,3))\n",
    "    plt.imshow(image)\n",
    "    infoLog(getSignNameForClassId(y_train[index]))"
   ]
  },
  {
   "cell_type": "code",
   "execution_count": null,
   "metadata": {
    "collapsed": false,
    "deletable": true,
    "editable": true
   },
   "outputs": [],
   "source": [
    "# JL - Visualization continued\n",
    "\n",
    "for counter in range(0,2):\n",
    "    index = random.randint(0, len(X_train))\n",
    "    image = X_train[index].squeeze()\n",
    "    plt.figure(figsize=(3,3))\n",
    "    plt.imshow(image)\n",
    "    infoLog(getSignNameForClassId(y_train[index]))"
   ]
  },
  {
   "cell_type": "code",
   "execution_count": null,
   "metadata": {
    "collapsed": false,
    "deletable": true,
    "editable": true
   },
   "outputs": [],
   "source": [
    "# JL - Visualization continued\n",
    "\n",
    "for counter in range(0,3):\n",
    "    index = random.randint(0, len(X_train))\n",
    "    image = X_train[index].squeeze()\n",
    "    plt.figure(figsize=(3,3))\n",
    "    plt.imshow(image)\n",
    "    infoLog(getSignNameForClassId(y_train[index]))"
   ]
  },
  {
   "cell_type": "markdown",
   "metadata": {
    "deletable": true,
    "editable": true
   },
   "source": [
    "### Explore distribution of number of training labels for various classes\n",
    "\n",
    "Our goal here is to determine which classes are more heavily represented in the training data, and to then increased the representation for under represented classes so that the model gets proper training on all types of classifier(s)"
   ]
  },
  {
   "cell_type": "code",
   "execution_count": 78,
   "metadata": {
    "collapsed": false,
    "deletable": true,
    "editable": true
   },
   "outputs": [
    {
     "name": "stdout",
     "output_type": "stream",
     "text": [
      "\n",
      "function: generate_class_distribution\n",
      "\n",
      "Labels Dictionary : {0: 180, 1: 1980, 2: 2010, 3: 1260, 4: 1770, 5: 1650, 6: 360, 7: 1290, 8: 1260, 9: 1320, 10: 1800, 11: 1170, 12: 1890, 13: 1920, 14: 690, 15: 540, 16: 360, 17: 990, 18: 1080, 19: 180, 20: 300, 21: 270, 22: 330, 23: 450, 24: 240, 25: 1350, 26: 540, 27: 210, 28: 480, 29: 240, 30: 390, 31: 690, 32: 210, 33: 599, 34: 360, 35: 1080, 36: 330, 37: 180, 38: 1860, 39: 270, 40: 300, 41: 210, 42: 210}\n",
      "\n",
      "Mean :809\n",
      "\n",
      "Standard Deviation :619.420183705\n",
      "\n",
      "Max :2010\n"
     ]
    },
    {
     "data": {
      "image/png": "[encoded data removed]",
      "text/plain": [
       "<matplotlib.figure.Figure at 0x7f9c6f9630f0>"
      ]
     },
     "metadata": {},
     "output_type": "display_data"
    }
   ],
   "source": [
    "# Generate and visualize statistics regarding distribution of Class Labels and Instances for training data\n",
    "\n",
    "import numpy as np\n",
    "import matplotlib.pyplot as plt\n",
    "\n",
    "def generate_class_distribution(classArray):\n",
    "    classIds, countsForClassIds = np.unique(y_train, return_counts=True)\n",
    "    labels_count_dictionary = dict(zip(classIds, countsForClassIds))\n",
    "    mean_number_of_samples_per_class_list_training_data = int(np.mean(countsForClassIds))\n",
    "    standard_deviation_number_of_samples_per_class_list_training_data = np.std(countsForClassIds)\n",
    "    max_number_of_samples_per_class_list_training_data = int(np.max(countsForClassIds))\n",
    "    \n",
    "    debugLog(\"function: generate_class_distribution\")\n",
    "    debugLog(\"Labels Dictionary : \" + str(labels_count_dictionary))\n",
    "    debugLog(\"Mean :\" + str(mean_number_of_samples_per_class_list_training_data))\n",
    "    debugLog(\"Standard Deviation :\" + str(standard_deviation_number_of_samples_per_class_list_training_data))\n",
    "    debugLog(\"Max :\" + str(max_number_of_samples_per_class_list_training_data))\n",
    "    \n",
    "    return labels_count_dictionary, mean_number_of_samples_per_class_list_training_data,standard_deviation_number_of_samples_per_class_list_training_data,max_number_of_samples_per_class_list_training_data\n",
    "\n",
    "def visualize_class_distribution(labels_count_dictionary):\n",
    "    classIdlist_training_data = list(labels_count_dictionary.keys())\n",
    "    number_of_samples_per_class_list_training_data = list(labels_count_dictionary.values())\n",
    "    plt.plot(classIdlist_training_data,number_of_samples_per_class_list_training_data)\n",
    "    plt.ylabel('Number of training examples')\n",
    "    plt.xlabel('Class ID')\n",
    "    plt.show()\n",
    "\n",
    "labels_count_dictionary, mean_number_of_samples_per_class_list_training_data, standard_deviation_number_of_samples_per_class_list_training_data, max_number_of_samples_per_class_list_training_data = generate_class_distribution(y_train)\n",
    "\n",
    "visualize_class_distribution(labels_count_dictionary)"
   ]
  },
  {
   "cell_type": "code",
   "execution_count": 23,
   "metadata": {
    "collapsed": false,
    "deletable": true,
    "editable": true
   },
   "outputs": [
    {
     "name": "stdout",
     "output_type": "stream",
     "text": [
      "\n",
      "Classes with under representation in training samples : {0: 3, 6: 1, 14: 0, 15: 0, 16: 1, 19: 3, 20: 1, 21: 1, 22: 1, 23: 0, 24: 2, 26: 0, 27: 2, 28: 0, 29: 2, 30: 1, 31: 0, 32: 2, 33: 0, 34: 1, 36: 1, 37: 3, 39: 1, 40: 1, 41: 2, 42: 2}\n",
      "\n",
      "Classes with over representation in training samples : {1: -0.59141414141414139, 2: -0.59751243781094532, 3: -0.35793650793650794, 4: -0.54293785310734466, 5: -0.50969696969696965, 38: -0.56505376344086022, 7: -0.37286821705426354, 8: -0.35793650793650794, 9: -0.38712121212121214, 10: -0.55055555555555558, 11: -0.30854700854700856, 12: -0.571957671957672, 13: -0.5786458333333333, 17: -0.18282828282828284, 18: -0.25092592592592594, 35: -0.25092592592592594, 25: -0.40074074074074073}\n"
     ]
    }
   ],
   "source": [
    "# Separate into under-represented and over-represented classes by calculating mean\n",
    "\n",
    "training_data_under_represented_classes_dict = dict()\n",
    "training_data_over_represented_classes_dict = dict()\n",
    "\n",
    "for class_id, number_of_samples in labels_count_dictionary.items():\n",
    "    # Evaluate how big is the difference of the number of features for a class from the mean, relative to itself\n",
    "    # boost_ratio = number of times number_of_samples has to be 'added' to itself to equal 'max_number_of_samples_per_class_list_training_data'\n",
    "    # We do not want to reject any data, so we will not reject any features for now\n",
    "    ratio = (mean_number_of_samples_per_class_list_training_data - number_of_samples) / number_of_samples\n",
    "    if ratio >= 0:\n",
    "        boost_ratio = int(ratio)\n",
    "        training_data_under_represented_classes_dict[class_id] = boost_ratio\n",
    "    else:\n",
    "        training_data_over_represented_classes_dict[class_id] =  ratio\n",
    "        \n",
    "debugLog(\"Classes with under representation in training samples : \" + str(training_data_under_represented_classes_dict))\n",
    "debugLog(\"Classes with over representation in training samples : \" + str(training_data_over_represented_classes_dict))\n",
    "\n",
    "def is_class_underrepresented(classId):\n",
    "    boost_ratio = training_data_under_represented_classes_dict.get(classId, None)\n",
    "    if boost_ratio:\n",
    "        return boost_ratio\n",
    "    else:\n",
    "        return False\n",
    "    \n",
    "def is_class_overrepresented(classId):\n",
    "    ratio = training_data_over_represented_classes_dict.get(classId, None)\n",
    "    if ratio:\n",
    "        return ratio\n",
    "    else:\n",
    "        return False\n",
    "    \n",
    "infoLog(\"Is class with Class ID : 31 under represented : \" + str(is_class_underrepresented(31)))\n",
    "infoLog(\"Is class with Class ID : 1 over represented : \" + str(is_class_overrepresented(1)))\n"
   ]
  },
  {
   "cell_type": "code",
   "execution_count": 31,
   "metadata": {
    "collapsed": false,
    "deletable": true,
    "editable": true
   },
   "outputs": [
    {
     "name": "stdout",
     "output_type": "stream",
     "text": [
      "\n",
      "Started - Boosting and Rejection \n",
      "[============================================================] 100.0% ...\n",
      "Ended - Boosting and Rejection \n"
     ]
    }
   ],
   "source": [
    "# Iterate over training feature and label set and do a trivial 'Boost' of under-represented features and 'Reject' of over-represented features\n",
    "\n",
    "debugLog(\"Started - Boosting and Rejection \")\n",
    "\n",
    "training_data_boosted_labels_list = list()\n",
    "training_data_boosted_features_list = list()\n",
    "\n",
    "training_data_deboosted_index_list = list()\n",
    "\n",
    "new_X_train = list()\n",
    "new_y_train = list()\n",
    "\n",
    "number_of_labels = len(y_train)\n",
    "\n",
    "for index, class_id in enumerate(y_train):\n",
    "    boost_ratio_underrepresented = is_class_underrepresented(class_id)\n",
    "    boost_ratio_overrepresented = is_class_overrepresented(class_id)\n",
    "\n",
    "    if boost_ratio_underrepresented:\n",
    "        # Add original image and feature\n",
    "        new_X_train.append(X_train[index])\n",
    "        new_y_train.append(class_id)\n",
    "        \n",
    "        # Add boosted image and feature\n",
    "        new_X_train.append(rotateImage(X_train[index]))\n",
    "        new_y_train.append(class_id)\n",
    "    \n",
    "    elif boost_ratio_overrepresented and boost_ratio_overrepresented < -0.3:\n",
    "        randomValue = random.randint(0, 1)\n",
    "        # Add about 50% of the heavily represented features\n",
    "        if randomValue == 0:\n",
    "            new_X_train.append(X_train[index])\n",
    "            new_y_train.append(class_id)\n",
    "            \n",
    "    elif boost_ratio_overrepresented and boost_ratio_overrepresented >= -0.3:\n",
    "        # Add about 66% of the less heavily represented features\n",
    "        randomValue = random.randint(0, 2)\n",
    "        if randomValue == 0 or randomValue == 1:\n",
    "            new_X_train.append(X_train[index])\n",
    "            new_y_train.append(class_id)\n",
    "\n",
    "    progressIndicator(index,number_of_labels)\n",
    "\n",
    "infoLog(\" \")\n",
    "infoLog(\"Number of elements in :  new_X_train = \" + str(len(new_X_train)))\n",
    "infoLog(\"Number of elements in :  new_y_train = \" + str(len(new_y_train)))\n",
    "\n",
    "debugLog(\"Ended - Boosting and Rejection \")\n"
   ]
  },
  {
   "cell_type": "code",
   "execution_count": 32,
   "metadata": {
    "collapsed": true,
    "deletable": true,
    "editable": true
   },
   "outputs": [],
   "source": [
    "# Set the features and labels from boosted and rejected to the main training data\n",
    "X_train = new_X_train\n",
    "y_train = new_y_train"
   ]
  },
  {
   "cell_type": "code",
   "execution_count": 33,
   "metadata": {
    "collapsed": false,
    "deletable": true,
    "editable": true
   },
   "outputs": [
    {
     "name": "stdout",
     "output_type": "stream",
     "text": [
      "\n",
      "function: generate_class_distribution\n",
      "\n",
      "Labels Dictionary : {0: 360, 1: 1012, 2: 1012, 3: 621, 4: 885, 5: 796, 6: 720, 7: 660, 8: 586, 9: 674, 10: 923, 11: 586, 12: 1006, 13: 966, 16: 720, 17: 636, 18: 711, 19: 360, 20: 600, 21: 540, 22: 660, 24: 480, 25: 676, 27: 420, 29: 480, 30: 780, 32: 420, 34: 720, 35: 720, 36: 660, 37: 360, 38: 944, 39: 540, 40: 600, 41: 420, 42: 420}\n",
      "\n",
      "Mean :657\n",
      "\n",
      "Standard Deviation :191.920307214\n",
      "\n",
      "Max :1012\n",
      "{0: 360, 1: 1012, 2: 1012, 3: 621, 4: 885, 5: 796, 6: 720, 7: 660, 8: 586, 9: 674, 10: 923, 11: 586, 12: 1006, 13: 966, 16: 720, 17: 636, 18: 711, 19: 360, 20: 600, 21: 540, 22: 660, 24: 480, 25: 676, 27: 420, 29: 480, 30: 780, 32: 420, 34: 720, 35: 720, 36: 660, 37: 360, 38: 944, 39: 540, 40: 600, 41: 420, 42: 420}\n",
      "657\n",
      "191.920307214\n",
      "1012\n"
     ]
    },
    {
     "data": {
      "image/png": "[encoded data removed]",
      "text/plain": [
       "<matplotlib.figure.Figure at 0x7f9c6f2ef908>"
      ]
     },
     "metadata": {},
     "output_type": "display_data"
    }
   ],
   "source": [
    "labels_count_dictionary, mean, standard_deviation,maxvalue = generate_class_distribution(y_train)\n",
    "print(labels_count_dictionary)\n",
    "print(mean)\n",
    "print(standard_deviation)\n",
    "print(maxvalue)\n",
    "\n",
    "visualize_class_distribution(labels_count_dictionary)"
   ]
  },
  {
   "cell_type": "code",
   "execution_count": 37,
   "metadata": {
    "collapsed": false
   },
   "outputs": [
    {
     "name": "stdout",
     "output_type": "stream",
     "text": [
      "\n",
      "Data writing started : pickle_data_for_analysis/X_train_normalized_boosted.pickle\n",
      "\n",
      "Data writing complete : pickle_data_for_analysis/X_train_normalized_boosted.pickle\n",
      "\n",
      "Data writing started : pickle_data_for_analysis/y_train_normalized_boosted.pickle\n",
      "\n",
      "Data writing complete : pickle_data_for_analysis/y_train_normalized_boosted.pickle\n"
     ]
    }
   ],
   "source": [
    "saveDataToDiskAsPickle(X_train, 'X_train_normalized_boosted')\n",
    "saveDataToDiskAsPickle(y_train, 'y_train_normalized_boosted')"
   ]
  },
  {
   "cell_type": "markdown",
   "metadata": {
    "deletable": true,
    "editable": true
   },
   "source": [
    "----\n",
    "\n",
    "## Step 2: Design and Test a Model Architecture\n",
    "\n",
    "Design and implement a deep learning model that learns to recognize traffic signs. Train and test your model on the [German Traffic Sign Dataset](http://benchmark.ini.rub.de/?section=gtsrb&subsection=dataset).\n",
    "\n",
    "The LeNet-5 implementation shown in the [classroom](https://classroom.udacity.com/nanodegrees/nd013/parts/fbf77062-5703-404e-b60c-95b78b2f3f9e/modules/6df7ae49-c61c-4bb2-a23e-6527e69209ec/lessons/601ae704-1035-4287-8b11-e2c2716217ad/concepts/d4aca031-508f-4e0b-b493-e7b706120f81) at the end of the CNN lesson is a solid starting point. You'll have to change the number of classes and possibly the preprocessing, but aside from that it's plug and play! \n",
    "\n",
    "With the LeNet-5 solution from the lecture, you should expect a validation set accuracy of about 0.89. To meet specifications, the validation set accuracy will need to be at least 0.93. It is possible to get an even higher accuracy, but 0.93 is the minimum for a successful project submission. \n",
    "\n",
    "There are various aspects to consider when thinking about this problem:\n",
    "\n",
    "- Neural network architecture (is the network over or underfitting?)\n",
    "- Play around preprocessing techniques (normalization, rgb to grayscale, etc)\n",
    "- Number of examples per label (some have more than others).\n",
    "- Generate fake data.\n",
    "\n",
    "Here is an example of a [published baseline model on this problem](http://yann.lecun.com/exdb/publis/pdf/sermanet-ijcnn-11.pdf). It's not required to be familiar with the approach used in the paper but, it's good practice to try to read papers like these."
   ]
  },
  {
   "cell_type": "markdown",
   "metadata": {
    "deletable": true,
    "editable": true
   },
   "source": [
    "### Pre-process the Data Set (normalization, grayscale, etc.)"
   ]
  },
  {
   "cell_type": "markdown",
   "metadata": {
    "deletable": true,
    "editable": true
   },
   "source": [
    "Minimally, the image data should be normalized so that the data has mean zero and equal variance. For image data, `(pixel - 128)/ 128` is a quick way to approximately normalize the data and can be used in this project. \n",
    "\n",
    "Other pre-processing steps are optional. You can try different techniques to see if it improves performance. \n",
    "\n",
    "Use the code cell (or multiple code cells, if necessary) to implement the first step of your project."
   ]
  },
  {
   "cell_type": "code",
   "execution_count": 79,
   "metadata": {
    "collapsed": false,
    "deletable": true,
    "editable": true
   },
   "outputs": [],
   "source": [
    "### Preprocess the data here. It is required to normalize the data. Other preprocessing steps could include \n",
    "### converting to grayscale, etc.\n",
    "### Feel free to use as many code cells as needed.\n",
    "\n",
    "# JL - TBD - For the images for which we have less training data, we should focus on generating as much fake data as possible\n",
    "# so that eventually, for all the class(es) we have the same number of training images\n",
    "\n",
    "from sklearn.utils import shuffle\n",
    "\n",
    "X_train, y_train = shuffle(X_train, y_train)"
   ]
  },
  {
   "cell_type": "markdown",
   "metadata": {
    "deletable": true,
    "editable": true
   },
   "source": [
    "### JL - Preprocessing -  Normalization"
   ]
  },
  {
   "cell_type": "code",
   "execution_count": null,
   "metadata": {
    "collapsed": false,
    "deletable": true,
    "editable": true
   },
   "outputs": [],
   "source": [
    "# JL - Take a random image and normalize it\n",
    "\n",
    "import numpy as np\n",
    "import copy\n",
    "\n",
    "const_for_pixel_normalization = 128.0\n",
    "\n",
    "# Given an image, creates a copy of the same, and then performs normalization on it and returns it\n",
    "def normalize_image(image):\n",
    "    image = image.astype(np.float32)\n",
    "    return_image = copy.copy(image)\n",
    "    for index,pixel in np.ndenumerate(return_image):\n",
    "        infoLog(\"Pixel Intensity Before Normalization : \" + str(pixel))\n",
    "        pixel = (pixel-const_for_pixel_normalization) / const_for_pixel_normalization\n",
    "        infoLog(\"Pixel Intensity After Normalization : \" + str(pixel))\n",
    "        return_image[index] = pixel\n",
    "    return return_image\n",
    "\n",
    "index = random.randint(0, len(X_train))\n",
    "\n",
    "random_image = X_train[index]\n",
    "squeezedImage = random_image.squeeze()\n",
    "plt.figure(figsize=(3,3))\n",
    "plt.imshow(squeezedImage)\n",
    "\n",
    "normalized_image = normalize_image(random_image)\n",
    "squeezedNormalizedImage = normalized_image.squeeze()\n",
    "plt.figure(figsize=(3,3))\n",
    "plt.imshow(squeezedNormalizedImage)\n",
    "\n",
    "debugLog(\"Sign Name : \" + getSignNameForClassId(y_train[index]))"
   ]
  },
  {
   "cell_type": "markdown",
   "metadata": {
    "deletable": true,
    "editable": true
   },
   "source": [
    "### Run Normalization Preprocessing over the training data"
   ]
  },
  {
   "cell_type": "code",
   "execution_count": null,
   "metadata": {
    "collapsed": false,
    "deletable": true,
    "editable": true
   },
   "outputs": [],
   "source": [
    "#JL - Create a copy of the training data, so that we have access to the original\n",
    "\n",
    "num_training_samples = len(X_train)\n",
    "\n",
    "X_train = X_train.astype(np.float32)\n",
    "debugLog(\"X_train data type : \" + str(X_train.dtype))\n",
    "\n",
    "debugLog(\"START -- Preprocessing step - normalization - for all training images - Count : \" + str(num_training_samples))\n",
    "start_preprocessing_normalization_time = time.time()\n",
    "\n",
    "for index in range(0, num_training_samples):\n",
    "    image = X_train[index]\n",
    "    normalizedImage = normalize_image(image)\n",
    "    X_train[index] = normalizedImage\n",
    "    progressIndicator(index,num_training_samples)\n",
    "\n",
    "end_preprocessing_normalization_time = time.time() \n",
    "timediff_preprocessing_normalization_time = end_preprocessing_normalization_time - start_preprocessing_normalization_time\n",
    "debugLog(\"END -- Preprocessing step - normalization - for all training images in : \" + str(timediff_preprocessing_normalization_time) + \" seconds\")\n"
   ]
  },
  {
   "cell_type": "code",
   "execution_count": null,
   "metadata": {
    "collapsed": false,
    "deletable": true,
    "editable": true
   },
   "outputs": [],
   "source": [
    "# Visualize the data after normalization\n",
    "for index in range(0, 10):\n",
    "    image = X_train[index]\n",
    "    squeezedImage = image.squeeze()\n",
    "    plt.figure(figsize=(3,3))\n",
    "    plt.imshow(squeezedImage) "
   ]
  },
  {
   "cell_type": "markdown",
   "metadata": {
    "deletable": true,
    "editable": true
   },
   "source": [
    "### Save Preprocessed ( normalized ) and generated training data to disk for future runs"
   ]
  },
  {
   "cell_type": "code",
   "execution_count": null,
   "metadata": {
    "collapsed": false,
    "deletable": true,
    "editable": true
   },
   "outputs": [],
   "source": [
    "# Getting memory error\n",
    "saveDataToDiskAsPickle(X_train, 'X_train_normalized')\n",
    "saveDataToDiskAsPickle(y_train, 'y_train_normalized')"
   ]
  },
  {
   "cell_type": "markdown",
   "metadata": {
    "deletable": true,
    "editable": true
   },
   "source": []
  },
  {
   "cell_type": "markdown",
   "metadata": {
    "deletable": true,
    "editable": true
   },
   "source": [
    "### HyperParameters / Tunable Parameter(s)"
   ]
  },
  {
   "cell_type": "code",
   "execution_count": 119,
   "metadata": {
    "collapsed": true,
    "deletable": true,
    "editable": true
   },
   "outputs": [],
   "source": [
    "\n",
    "# Immediate Next :\n",
    "# * Increase CNN layers to say 5, using smaller filters and then run this for 30 epochs to compare accuracy, relative to the previous architecture.\n",
    "# * In progress - Within Side Experiments, Understand how model ( and variable ) save / restore works, by using a really small training / validation data set repeatedly across multiple sessions. Then apply it here to continue training. \n",
    "# * Examine which features from the validation set are not being predicted properly by the model.\n",
    "# * Regularization like L2.\n",
    "# * Manufacture fake data for under represented classes and store them in local files for later use.\n",
    "# * Done - Save model only if it's accuracy increases. \n",
    "# * Is this needed - While saving a model_append it's accuracy to the model name.\n",
    "# * Know how to do this, need to implement for fake data manufacturing - Check how to de-boost features. \n",
    "# Pending - Different types of Optimizer(s) - Adam, SGD, AdaGrad, Momentum\n",
    "# * Done - both are fairly similar - In side experiments folder examine the distribution of training data samples versus validation data sample distribution\n",
    "# * Done - current stat - 94.5% accuracy with 30 iterations. Try with 50 iterations. \n",
    "\n",
    "# --\n",
    "\n",
    "# Done - Epochs\n",
    "# Done - Batch Size\n",
    "# Partly done, do more if needed - More complex / better architectures - added one more conv layer, increased filter depth\n",
    "# Done - Statistical analysis of which classes are heavily represented in training versus validation data, and at a minimum represent all classes equivalently within training data\n",
    "# Done - From the above analysis, prepare a listing of under represented classes\n",
    "# Done - Data Augmentation via Image rotation for under represented classes\n",
    "# Done - Improved pre-processing like 0 mean, 1 standard deviation or other techniques\n",
    "# Pending - Data Augmentation via Image translation for under represented classes\n",
    "# Pending - Data Augmentation via Any other image manipulation for under represented classes\n",
    "# Pending - Data Augmentation via GreyScaling for under represented classes\n",
    "# In Progress - Regularization like Drop Out\n",
    "# Pending - Hyper parameter tuning - learning rate\n",
    "# Pending - You can use the concept of a Checkpoint to store / resume a training session\n",
    "# Pending - You can use the concept of a Summary writer to save training summaries for a session\n",
    "# Pending - Regularization like L2\n",
    "# Pending - Different Activation functions\n",
    "# Pending - You have been give the feature co ordinates within the image, so that you can take those co ordinates, and move them within the image !\n",
    "# Pending - Implement Learning Rate Decay if accuracy does not improve over x-iterations\n",
    "# Pending - If the Learning Rate improves, then Save the model to the Disk, so that it can be easily restored / tested at any time. This can be done by saving and restoring 'Checkpoint' files.\n",
    "# Pending - Review ConvNetJS to check out how they implement various Data Visualizations in real time and see if you can incorporate those.\n",
    "# For example using ConvNetJS, initiate a conv net training process, and see how the visualizations update in real time.\n",
    "# Pending - Performance against test data ( after 94% accuracy on validation set )\n",
    "# Pending - Performance against previously unseen images.\n",
    "# Pending - Extra credits\n",
    "# Pending - Write-up\n",
    "\n",
    "param_epochs = 1\n",
    "param_batchsize = 128\n",
    "param_mean = 0\n",
    "param_standard_deviation = 0.1\n",
    "param_learning_rate = 0.001\n",
    "param_activation_function = 'ReLU'\n",
    "param_pooling_function = 'Max'\n",
    "param_architecture_updates = '1. Incresed Filter Depths 2. Increased Size of fully connected layers 3. Added a convolution layer.' \n",
    "param_preprocessing_updates = '1. Implemented Normalization '\n",
    "param_data_augmentation_updates = ' '\n",
    "# param_data_augmentation_updates = '1. Implemented boosting of under represented classes and rejection of under represented classes.'\n"
   ]
  },
  {
   "cell_type": "markdown",
   "metadata": {
    "deletable": true,
    "editable": true
   },
   "source": [
    "### Model Architecture"
   ]
  },
  {
   "cell_type": "code",
   "execution_count": 108,
   "metadata": {
    "collapsed": true,
    "deletable": true,
    "editable": true
   },
   "outputs": [],
   "source": [
    "### Define your architecture here.\n",
    "### Feel free to use as many code cells as needed."
   ]
  },
  {
   "cell_type": "code",
   "execution_count": 109,
   "metadata": {
    "collapsed": true,
    "deletable": true,
    "editable": true
   },
   "outputs": [],
   "source": [
    "import tensorflow as tf\n",
    "\n",
    "S = param_epochs\n",
    "BATCH_SIZE = param_batchsize\n",
    "mu = param_mean\n",
    "sigma = param_standard_deviation\n",
    "const_initial_learning_rate = param_learning_rate"
   ]
  },
  {
   "cell_type": "code",
   "execution_count": 110,
   "metadata": {
    "collapsed": true,
    "deletable": true,
    "editable": true
   },
   "outputs": [],
   "source": [
    "x = tf.placeholder(tf.float32, (None, 32, 32, 3))\n",
    "y = tf.placeholder(tf.int32, (None))\n",
    "one_hot_y = tf.one_hot(y, 43)\n",
    "keep_prob = tf.placeholder(tf.float32)"
   ]
  },
  {
   "cell_type": "code",
   "execution_count": 123,
   "metadata": {
    "collapsed": true,
    "deletable": true,
    "editable": true
   },
   "outputs": [],
   "source": [
    "from tensorflow.contrib.layers import flatten\n",
    "    \n",
    "# Jai - Helper methods\n",
    "def maxpool2d(x, poolingsize=2):\n",
    "    return tf.nn.max_pool(\n",
    "        x,\n",
    "        ksize=[1, poolingsize, poolingsize, 1],\n",
    "        strides=[1, poolingsize, poolingsize, 1],\n",
    "        padding='VALID')\n",
    "      \n",
    "def conv2d_with_pooling(x, W, b, convstride=1, poolingsize=2):\n",
    "        x = tf.nn.conv2d(x, W, strides=[1, convstride, convstride, 1], padding='VALID')\n",
    "        x = tf.nn.bias_add(x, b)\n",
    "        x = tf.nn.relu(x)\n",
    "        x = maxpool2d(x)\n",
    "        return x\n",
    "    \n",
    "def conv2d(x, W, b, convstride=1):\n",
    "        x = tf.nn.conv2d(x, W, strides=[1, convstride, convstride, 1], padding='VALID')\n",
    "        x = tf.nn.bias_add(x, b)\n",
    "        x = tf.nn.relu(x)\n",
    "        return x\n",
    "    \n",
    "# Jai - Define Weights based on calculations below\n",
    "weights = {\n",
    "    'wconv1': tf.Variable(tf.truncated_normal(shape=(5, 5, 3, 16), mean=mu, stddev = sigma), name='wconv1'),\n",
    "    'wconv2': tf.Variable(tf.truncated_normal(shape=(5, 5, 16, 32), mean=mu, stddev = sigma), name='wconv2'),\n",
    "    'wconv3': tf.Variable(tf.truncated_normal(shape=(2, 2, 32, 256), mean=mu, stddev = sigma), name='wconv3'),\n",
    "    'wconv4': tf.Variable(tf.truncated_normal(shape=(1, 1, 256, 300), mean=mu, stddev = sigma), name='wconv4'),\n",
    "    'wfc1': tf.Variable(tf.truncated_normal(shape=(300,240), mean=mu, stddev = sigma), name='wfc1'),\n",
    "    'wfc2': tf.Variable(tf.truncated_normal(shape=(240,168), mean=mu, stddev = sigma), name='wfc2'),\n",
    "    'woutput': tf.Variable(tf.truncated_normal(shape=(168,43), mean=mu, stddev = sigma), name='woutput')}\n",
    "    \n",
    "# Jai - Define Biases based on calculations below\n",
    "biases = {\n",
    "    'bconv1': tf.Variable(tf.zeros([16]), name='bconv1'),\n",
    "    'bconv2': tf.Variable(tf.zeros([32]), name='bconv2'),\n",
    "    'bconv3': tf.Variable(tf.zeros([256]), name='bconv3'),\n",
    "    'bconv4': tf.Variable(tf.zeros([300]), name='bconv4'),\n",
    "    'bfc1': tf.Variable(tf.zeros([240]), name='bfc1'),\n",
    "    'bfc2': tf.Variable(tf.zeros([168]), name='bfc2'),\n",
    "    'boutput': tf.Variable(tf.zeros([43]), name='boutput')\n",
    "    }\n",
    "\n",
    "def LeNet(x, keep_prob):    \n",
    "    # Arguments used for tf.truncated_normal, randomly defines variables for the weights and biases for each layer\n",
    "    \n",
    "    # TODO: Layer 1: Convolutional. Input = 32x32x3. Output w/Pooling = 14x14x16.\n",
    "    convlayer1 = conv2d_with_pooling(x,weights['wconv1'],biases['bconv1'],1,2)\n",
    "    debugLog(convlayer1.get_shape())\n",
    "    \n",
    "    # TODO: Layer 2: Convolutional. Output w/Pooling = 5x5x32.\n",
    "    convlayer2 = conv2d_with_pooling(convlayer1,weights['wconv2'],biases['bconv2'],1,2)\n",
    "    debugLog(convlayer2.get_shape())\n",
    "    \n",
    "    # TODO: Layer 3: Convolutional. Output w/Pooling = 2x2x256.\n",
    "    convlayer3 = conv2d_with_pooling(convlayer2,weights['wconv3'],biases['bconv3'],1,2)\n",
    "    debugLog(convlayer3.get_shape())\n",
    "    \n",
    "    # TODO: Layer 4: Convolutional. Output = 1x1x300.\n",
    "    convlayer4 = conv2d_with_pooling(convlayer3,weights['wconv4'],biases['bconv4'],1,2)\n",
    "    debugLog(convlayer4.get_shape())\n",
    "\n",
    "    # TODO: Flatten. Input = 1x1x300. Output = 300.\n",
    "    flattened_convlayer4 = tf.contrib.layers.flatten(convlayer4)   \n",
    "    debugLog(flattened_convlayer4.get_shape())\n",
    "    \n",
    "    # TODO: Layer 3: Fully Connected. Input = 300. Output = 240.\n",
    "    fc1 = tf.add(tf.matmul(flattened_convlayer4,weights['wfc1']),biases['bfc1'])\n",
    "    \n",
    "    # TODO: Activation.\n",
    "    fc1_activated = tf.nn.relu(fc1)\n",
    "\n",
    "    # TODO: Layer 4: Fully Connected. Input = 240. Output = 168.\n",
    "    fc2 = tf.add(tf.matmul(fc1_activated,weights['wfc2']),biases['bfc2'])\n",
    "    \n",
    "    # TODO: Activation.\n",
    "    fc2_activated = tf.nn.relu(fc2)\n",
    "    \n",
    "    # Added a drop out layer\n",
    "    fc2_after_dropout = tf.nn.dropout(fc2_activated, keep_prob)\n",
    "\n",
    "    # TODO: Layer 5: Fully Connected. Input = 168. Output = 43.\n",
    "    logits = tf.add(tf.matmul(fc2_after_dropout,weights['woutput']),biases['boutput'])\n",
    "    \n",
    "    return logits"
   ]
  },
  {
   "cell_type": "code",
   "execution_count": null,
   "metadata": {
    "collapsed": false,
    "deletable": true,
    "editable": true
   },
   "outputs": [],
   "source": [
    "rate = const_initial_learning_rate\n",
    "\n",
    "logits = LeNet(x,keep_prob)\n",
    "cross_entropy = tf.nn.softmax_cross_entropy_with_logits(labels=one_hot_y, logits=logits)\n",
    "loss_operation = tf.reduce_mean(cross_entropy)\n",
    "optimizer = tf.train.AdamOptimizer(learning_rate = rate)\n",
    "training_operation = optimizer.minimize(loss_operation)"
   ]
  },
  {
   "cell_type": "markdown",
   "metadata": {
    "deletable": true,
    "editable": true
   },
   "source": [
    "## Model Evaluation"
   ]
  },
  {
   "cell_type": "code",
   "execution_count": 113,
   "metadata": {
    "collapsed": false,
    "deletable": true,
    "editable": true
   },
   "outputs": [],
   "source": [
    "# Model evaluation\n",
    "\n",
    "correct_prediction = tf.equal(tf.argmax(logits, 1), tf.argmax(one_hot_y, 1))\n",
    "accuracy_operation = tf.reduce_mean(tf.cast(correct_prediction, tf.float32))\n",
    "saver = tf.train.Saver()\n",
    "\n",
    "def evaluate(X_data, y_data):\n",
    "    num_examples = len(X_data)\n",
    "    total_accuracy = 0\n",
    "    sess = tf.get_default_session()\n",
    "    for offset in range(0, num_examples, BATCH_SIZE):\n",
    "        batch_x, batch_y = X_data[offset:offset+BATCH_SIZE], y_data[offset:offset+BATCH_SIZE]\n",
    "        accuracy = sess.run(accuracy_operation, feed_dict={x: batch_x, y: batch_y, keep_prob:1})\n",
    "        total_accuracy += (accuracy * len(batch_x))\n",
    "    return total_accuracy / num_examples"
   ]
  },
  {
   "cell_type": "code",
   "execution_count": 114,
   "metadata": {
    "collapsed": false,
    "deletable": true,
    "editable": true
   },
   "outputs": [
    {
     "name": "stdout",
     "output_type": "stream",
     "text": [
      "\n",
      "START -- Training and Validation ...\n",
      "\n",
      "\n",
      "[============================================================] 100.0% ...\n",
      "\n",
      "\n",
      "Epoch : 0 Training time : 83.02318048477173\n",
      "\n",
      "\n",
      "\n",
      "\n",
      "\n",
      "Epoch : 0 Validation time : 3.665578842163086\n",
      "\n",
      " Epoch 1 - \n",
      "\n",
      "Validation Accuracy = 0.769\n",
      "\n",
      "\n",
      "\n",
      "Saved current model to Disk.\n",
      "[============================================================] 100.0% ...\n",
      "\n",
      "\n",
      "Epoch : 1 Training time : 82.84136724472046\n",
      "\n",
      "\n",
      "\n",
      "\n",
      "\n",
      "Epoch : 1 Validation time : 3.609982490539551\n",
      "\n",
      " Epoch 2 - \n",
      "\n",
      "Validation Accuracy = 0.876\n",
      "\n",
      "\n",
      "\n",
      "Saved current model to Disk.\n",
      "[============================================================] 100.0% ...\n",
      "\n",
      "\n",
      "Epoch : 2 Training time : 81.88750123977661\n",
      "\n",
      "\n",
      "\n",
      "\n",
      "\n",
      "Epoch : 2 Validation time : 3.65129017829895\n",
      "\n",
      " Epoch 3 - \n",
      "\n",
      "Validation Accuracy = 0.901\n",
      "\n",
      "\n",
      "\n",
      "Saved current model to Disk.\n",
      "[============================================================] 100.0% ...\n",
      "\n",
      "\n",
      "Epoch : 3 Training time : 83.28228044509888\n",
      "\n",
      "\n",
      "\n",
      "\n",
      "\n",
      "Epoch : 3 Validation time : 3.6470043659210205\n",
      "\n",
      " Epoch 4 - \n",
      "\n",
      "Validation Accuracy = 0.898\n",
      "\n",
      "\n",
      "[============================================================] 100.0% ...\n",
      "\n",
      "\n",
      "Epoch : 4 Training time : 82.5198814868927\n",
      "\n",
      "\n",
      "\n",
      "\n",
      "\n",
      "Epoch : 4 Validation time : 3.62178897857666\n",
      "\n",
      " Epoch 5 - \n",
      "\n",
      "Validation Accuracy = 0.921\n",
      "\n",
      "\n",
      "\n",
      "Saved current model to Disk.\n",
      "[============================================================] 100.0% ...\n",
      "\n",
      "\n",
      "Epoch : 5 Training time : 83.72247433662415\n",
      "\n",
      "\n",
      "\n",
      "\n",
      "\n",
      "Epoch : 5 Validation time : 3.6007556915283203\n",
      "\n",
      " Epoch 6 - \n",
      "\n",
      "Validation Accuracy = 0.931\n",
      "\n",
      "\n",
      "\n",
      "Saved current model to Disk.\n",
      "[============================================================] 100.0% ...\n",
      "\n",
      "\n",
      "Epoch : 6 Training time : 82.80088090896606\n",
      "\n",
      "\n",
      "\n",
      "\n",
      "\n",
      "Epoch : 6 Validation time : 3.6496763229370117\n",
      "\n",
      " Epoch 7 - \n",
      "\n",
      "Validation Accuracy = 0.910\n",
      "\n",
      "\n",
      "[============================================================] 100.0% ...\n",
      "\n",
      "\n",
      "Epoch : 7 Training time : 84.30337834358215\n",
      "\n",
      "\n",
      "\n",
      "\n",
      "\n",
      "Epoch : 7 Validation time : 3.6429078578948975\n",
      "\n",
      " Epoch 8 - \n",
      "\n",
      "Validation Accuracy = 0.922\n",
      "\n",
      "\n",
      "[============================================================] 100.0% ...\n",
      "\n",
      "\n",
      "Epoch : 8 Training time : 83.09100770950317\n",
      "\n",
      "\n",
      "\n",
      "\n",
      "\n",
      "Epoch : 8 Validation time : 3.6403629779815674\n",
      "\n",
      " Epoch 9 - \n",
      "\n",
      "Validation Accuracy = 0.912\n",
      "\n",
      "\n",
      "[============================================================] 100.0% ...\n",
      "\n",
      "\n",
      "Epoch : 9 Training time : 85.18406867980957\n",
      "\n",
      "\n",
      "\n",
      "\n",
      "\n",
      "Epoch : 9 Validation time : 3.650200843811035\n",
      "\n",
      " Epoch 10 - \n",
      "\n",
      "Validation Accuracy = 0.905\n",
      "\n",
      "\n",
      "[============================================================] 100.0% ...\n",
      "\n",
      "\n",
      "Epoch : 10 Training time : 83.58665704727173\n",
      "\n",
      "\n",
      "\n",
      "\n",
      "\n",
      "Epoch : 10 Validation time : 3.6087043285369873\n",
      "\n",
      " Epoch 11 - \n",
      "\n",
      "Validation Accuracy = 0.922\n",
      "\n",
      "\n",
      "[============================================================] 100.0% ...\n",
      "\n",
      "\n",
      "Epoch : 11 Training time : 86.60644936561584\n",
      "\n",
      "\n",
      "\n",
      "\n",
      "\n",
      "Epoch : 11 Validation time : 3.625518798828125\n",
      "\n",
      " Epoch 12 - \n",
      "\n",
      "Validation Accuracy = 0.925\n",
      "\n",
      "\n",
      "[============================================================] 100.0% ...\n",
      "\n",
      "\n",
      "Epoch : 12 Training time : 85.8354721069336\n",
      "\n",
      "\n",
      "\n",
      "\n",
      "\n",
      "Epoch : 12 Validation time : 3.6044342517852783\n",
      "\n",
      " Epoch 13 - \n",
      "\n",
      "Validation Accuracy = 0.842\n",
      "\n",
      "\n",
      "[============================================================] 100.0% ...\n",
      "\n",
      "\n",
      "Epoch : 13 Training time : 87.03569293022156\n",
      "\n",
      "\n",
      "\n",
      "\n",
      "\n",
      "Epoch : 13 Validation time : 3.644841194152832\n",
      "\n",
      " Epoch 14 - \n",
      "\n",
      "Validation Accuracy = 0.948\n",
      "\n",
      "\n",
      "\n",
      "Saved current model to Disk.\n",
      "[============================================================] 100.0% ...\n",
      "\n",
      "\n",
      "Epoch : 14 Training time : 85.45911884307861\n",
      "\n",
      "\n",
      "\n",
      "\n",
      "\n",
      "Epoch : 14 Validation time : 3.6445236206054688\n",
      "\n",
      " Epoch 15 - \n",
      "\n",
      "Validation Accuracy = 0.930\n",
      "\n",
      "\n",
      "[============================================================] 100.0% ...\n",
      "\n",
      "\n",
      "Epoch : 15 Training time : 87.9704692363739\n",
      "\n",
      "\n",
      "\n",
      "\n",
      "\n",
      "Epoch : 15 Validation time : 3.66896653175354\n",
      "\n",
      " Epoch 16 - \n",
      "\n",
      "Validation Accuracy = 0.953\n",
      "\n",
      "\n",
      "\n",
      "Saved current model to Disk.\n",
      "[============================================================] 100.0% ...\n",
      "\n",
      "\n",
      "Epoch : 16 Training time : 85.96519041061401\n",
      "\n",
      "\n",
      "\n",
      "\n",
      "\n",
      "Epoch : 16 Validation time : 3.5869717597961426\n",
      "\n",
      " Epoch 17 - \n",
      "\n",
      "Validation Accuracy = 0.940\n",
      "\n",
      "\n",
      "[============================================================] 100.0% ...\n",
      "\n",
      "\n",
      "Epoch : 17 Training time : 87.91097831726074\n",
      "\n",
      "\n",
      "\n",
      "\n",
      "\n",
      "Epoch : 17 Validation time : 3.6357200145721436\n",
      "\n",
      " Epoch 18 - \n",
      "\n",
      "Validation Accuracy = 0.953\n",
      "\n",
      "\n",
      "\n",
      "Saved current model to Disk.\n",
      "[============================================================] 100.0% ...\n",
      "\n",
      "\n",
      "Epoch : 18 Training time : 87.66026210784912\n",
      "\n",
      "\n",
      "\n",
      "\n",
      "\n",
      "Epoch : 18 Validation time : 3.6043765544891357\n",
      "\n",
      " Epoch 19 - \n",
      "\n",
      "Validation Accuracy = 0.906\n",
      "\n",
      "\n",
      "[============================================================] 100.0% ...\n",
      "\n",
      "\n",
      "Epoch : 19 Training time : 88.3426206111908\n",
      "\n",
      "\n",
      "\n",
      "\n",
      "\n",
      "Epoch : 19 Validation time : 3.6621294021606445\n",
      "\n",
      " Epoch 20 - \n",
      "\n",
      "Validation Accuracy = 0.933\n",
      "\n",
      "\n",
      "[============================================================] 100.0% ...\n",
      "\n",
      "\n",
      "Epoch : 20 Training time : 90.58390402793884\n",
      "\n",
      "\n",
      "\n",
      "\n",
      "\n",
      "Epoch : 20 Validation time : 3.708395004272461\n",
      "\n",
      " Epoch 21 - \n",
      "\n",
      "Validation Accuracy = 0.937\n",
      "\n",
      "\n",
      "[============================================================] 100.0% ...\n",
      "\n",
      "\n",
      "Epoch : 21 Training time : 96.8106803894043\n",
      "\n",
      "\n",
      "\n",
      "\n",
      "\n",
      "Epoch : 21 Validation time : 3.636772632598877\n",
      "\n",
      " Epoch 22 - \n",
      "\n",
      "Validation Accuracy = 0.938\n",
      "\n",
      "\n",
      "[============================================================] 100.0% ...\n",
      "\n",
      "\n",
      "Epoch : 22 Training time : 93.85800290107727\n",
      "\n",
      "\n",
      "\n",
      "\n",
      "\n",
      "Epoch : 22 Validation time : 3.651585578918457\n",
      "\n",
      " Epoch 23 - \n",
      "\n",
      "Validation Accuracy = 0.890\n",
      "\n",
      "\n",
      "[============================================================] 100.0% ...\n",
      "\n",
      "\n",
      "Epoch : 23 Training time : 94.91315221786499\n",
      "\n",
      "\n",
      "\n",
      "\n",
      "\n",
      "Epoch : 23 Validation time : 3.631730079650879\n",
      "\n",
      " Epoch 24 - \n",
      "\n",
      "Validation Accuracy = 0.952\n",
      "\n",
      "\n",
      "[============================================================] 100.0% ...\n",
      "\n",
      "\n",
      "Epoch : 24 Training time : 95.79692697525024\n",
      "\n",
      "\n",
      "\n",
      "\n",
      "\n",
      "Epoch : 24 Validation time : 3.6588265895843506\n",
      "\n",
      " Epoch 25 - \n",
      "\n",
      "Validation Accuracy = 0.960\n",
      "\n",
      "\n",
      "\n",
      "Saved current model to Disk.\n",
      "[============================================================] 100.0% ...\n",
      "\n",
      "\n",
      "Epoch : 25 Training time : 98.5072340965271\n",
      "\n",
      "\n",
      "\n",
      "\n",
      "\n",
      "Epoch : 25 Validation time : 3.6665894985198975\n",
      "\n",
      " Epoch 26 - \n",
      "\n",
      "Validation Accuracy = 0.931\n",
      "\n",
      "\n",
      "[============================================================] 100.0% ...\n",
      "\n",
      "\n",
      "Epoch : 26 Training time : 95.2135214805603\n",
      "\n",
      "\n",
      "\n",
      "\n",
      "\n",
      "Epoch : 26 Validation time : 3.637162923812866\n",
      "\n",
      " Epoch 27 - \n",
      "\n",
      "Validation Accuracy = 0.896\n",
      "\n",
      "\n",
      "[============================================================] 100.0% ...\n",
      "\n",
      "\n",
      "Epoch : 27 Training time : 94.7225775718689\n",
      "\n",
      "\n",
      "\n",
      "\n",
      "\n",
      "Epoch : 27 Validation time : 3.617828607559204\n",
      "\n",
      " Epoch 28 - \n",
      "\n",
      "Validation Accuracy = 0.955\n",
      "\n",
      "\n",
      "[============================================================] 100.0% ...\n",
      "\n",
      "\n",
      "Epoch : 28 Training time : 97.98315596580505\n",
      "\n",
      "\n",
      "\n",
      "\n",
      "\n",
      "Epoch : 28 Validation time : 3.627979278564453\n",
      "\n",
      " Epoch 29 - \n",
      "\n",
      "Validation Accuracy = 0.956\n",
      "\n",
      "\n",
      "[============================================================] 100.0% ...\n",
      "\n",
      "\n",
      "Epoch : 29 Training time : 99.36389660835266\n",
      "\n",
      "\n",
      "\n",
      "\n",
      "\n",
      "Epoch : 29 Validation time : 3.645651340484619\n",
      "\n",
      " Epoch 30 - \n",
      "\n",
      "Validation Accuracy = 0.937\n",
      "\n",
      "\n",
      "[============================================================] 100.0% ...\n",
      "\n",
      "\n",
      "Epoch : 30 Training time : 98.72705221176147\n",
      "\n",
      "\n",
      "\n",
      "\n",
      "\n",
      "Epoch : 30 Validation time : 3.642587661743164\n",
      "\n",
      " Epoch 31 - \n",
      "\n",
      "Validation Accuracy = 0.938\n",
      "\n",
      "\n",
      "[============================================================] 100.0% ...\n",
      "\n",
      "\n",
      "Epoch : 31 Training time : 100.36769771575928\n",
      "\n",
      "\n",
      "\n",
      "\n",
      "\n",
      "Epoch : 31 Validation time : 3.667337417602539\n",
      "\n",
      " Epoch 32 - \n",
      "\n",
      "Validation Accuracy = 0.934\n",
      "\n",
      "\n",
      "[============================================================] 100.0% ...\n",
      "\n",
      "\n",
      "Epoch : 32 Training time : 98.33967566490173\n",
      "\n",
      "\n",
      "\n",
      "\n",
      "\n",
      "Epoch : 32 Validation time : 3.628037214279175\n",
      "\n",
      " Epoch 33 - \n",
      "\n",
      "Validation Accuracy = 0.907\n",
      "\n",
      "\n",
      "[============================================================] 100.0% ...\n",
      "\n",
      "\n",
      "Epoch : 33 Training time : 101.60407853126526\n",
      "\n",
      "\n",
      "\n",
      "\n",
      "\n",
      "Epoch : 33 Validation time : 3.574319362640381\n",
      "\n",
      " Epoch 34 - \n",
      "\n",
      "Validation Accuracy = 0.956\n",
      "\n",
      "\n",
      "[============================================================] 100.0% ...\n",
      "\n",
      "\n",
      "Epoch : 34 Training time : 103.45499801635742\n",
      "\n",
      "\n",
      "\n",
      "\n",
      "\n",
      "Epoch : 34 Validation time : 3.642235517501831\n",
      "\n",
      " Epoch 35 - \n",
      "\n",
      "Validation Accuracy = 0.950\n",
      "\n",
      "\n",
      "[============================================================] 100.0% ...\n",
      "\n",
      "\n",
      "Epoch : 35 Training time : 106.35278797149658\n",
      "\n",
      "\n",
      "\n",
      "\n",
      "\n",
      "Epoch : 35 Validation time : 3.566086769104004\n",
      "\n",
      " Epoch 36 - \n",
      "\n",
      "Validation Accuracy = 0.949\n",
      "\n",
      "\n",
      "[============================================================] 100.0% ...\n",
      "\n",
      "\n",
      "Epoch : 36 Training time : 105.31643581390381\n",
      "\n",
      "\n",
      "\n",
      "\n",
      "\n",
      "Epoch : 36 Validation time : 3.6608002185821533\n",
      "\n",
      " Epoch 37 - \n",
      "\n",
      "Validation Accuracy = 0.934\n",
      "\n",
      "\n",
      "[============================================================] 100.0% ...\n",
      "\n",
      "\n",
      "Epoch : 37 Training time : 107.9467785358429\n",
      "\n",
      "\n",
      "\n",
      "\n",
      "\n",
      "Epoch : 37 Validation time : 3.6173951625823975\n",
      "\n",
      " Epoch 38 - \n",
      "\n",
      "Validation Accuracy = 0.941\n",
      "\n",
      "\n",
      "[============================================================] 100.0% ...\n",
      "\n",
      "\n",
      "Epoch : 38 Training time : 108.01748728752136\n",
      "\n",
      "\n",
      "\n",
      "\n",
      "\n",
      "Epoch : 38 Validation time : 3.641763925552368\n",
      "\n",
      " Epoch 39 - \n",
      "\n",
      "Validation Accuracy = 0.943\n",
      "\n",
      "\n",
      "[============================================================] 100.0% ...\n",
      "\n",
      "\n",
      "Epoch : 39 Training time : 104.57644152641296\n",
      "\n",
      "\n",
      "\n",
      "\n",
      "\n",
      "Epoch : 39 Validation time : 3.637378692626953\n",
      "\n",
      " Epoch 40 - \n",
      "\n",
      "Validation Accuracy = 0.957\n",
      "\n",
      "\n",
      "[============================================================] 100.0% ...\n",
      "\n",
      "\n",
      "Epoch : 40 Training time : 104.99315524101257\n",
      "\n",
      "\n",
      "\n",
      "\n",
      "\n",
      "Epoch : 40 Validation time : 3.6552131175994873\n",
      "\n",
      " Epoch 41 - \n",
      "\n",
      "Validation Accuracy = 0.952\n",
      "\n",
      "\n",
      "[============================================================] 100.0% ...\n",
      "\n",
      "\n",
      "Epoch : 41 Training time : 104.47985458374023\n",
      "\n",
      "\n",
      "\n",
      "\n",
      "\n",
      "Epoch : 41 Validation time : 3.63930082321167\n",
      "\n",
      " Epoch 42 - \n",
      "\n",
      "Validation Accuracy = 0.939\n",
      "\n",
      "\n",
      "[============================================================] 100.0% ...\n",
      "\n",
      "\n",
      "Epoch : 42 Training time : 110.79547214508057\n",
      "\n",
      "\n",
      "\n",
      "\n",
      "\n",
      "Epoch : 42 Validation time : 3.632765054702759\n",
      "\n",
      " Epoch 43 - \n",
      "\n",
      "Validation Accuracy = 0.939\n",
      "\n",
      "\n",
      "[============================================================] 100.0% ...\n",
      "\n",
      "\n",
      "Epoch : 43 Training time : 111.13215756416321\n",
      "\n",
      "\n",
      "\n",
      "\n",
      "\n",
      "Epoch : 43 Validation time : 3.6364002227783203\n",
      "\n",
      " Epoch 44 - \n",
      "\n",
      "Validation Accuracy = 0.941\n",
      "\n",
      "\n",
      "[============================================================] 100.0% ...\n",
      "\n",
      "\n",
      "Epoch : 44 Training time : 111.304283618927\n",
      "\n",
      "\n",
      "\n",
      "\n",
      "\n",
      "Epoch : 44 Validation time : 3.6159873008728027\n",
      "\n",
      " Epoch 45 - \n",
      "\n",
      "Validation Accuracy = 0.954\n",
      "\n",
      "\n",
      "[============================================================] 100.0% ...\n",
      "\n",
      "\n",
      "Epoch : 45 Training time : 109.20960664749146\n",
      "\n",
      "\n",
      "\n",
      "\n",
      "\n",
      "Epoch : 45 Validation time : 3.6663570404052734\n",
      "\n",
      " Epoch 46 - \n",
      "\n",
      "Validation Accuracy = 0.928\n",
      "\n",
      "\n",
      "[============================================================] 100.0% ...\n",
      "\n",
      "\n",
      "Epoch : 46 Training time : 105.13593125343323\n",
      "\n",
      "\n",
      "\n",
      "\n",
      "\n",
      "Epoch : 46 Validation time : 3.6617376804351807\n",
      "\n",
      " Epoch 47 - \n",
      "\n",
      "Validation Accuracy = 0.934\n",
      "\n",
      "\n",
      "[============================================================] 100.0% ...\n",
      "\n",
      "\n",
      "Epoch : 47 Training time : 106.44628119468689\n",
      "\n",
      "\n",
      "\n",
      "\n",
      "\n",
      "Epoch : 47 Validation time : 3.6615521907806396\n",
      "\n",
      " Epoch 48 - \n",
      "\n",
      "Validation Accuracy = 0.947\n",
      "\n",
      "\n",
      "[============================================================] 100.0% ...\n",
      "\n",
      "\n",
      "Epoch : 48 Training time : 105.62175965309143\n",
      "\n",
      "\n",
      "\n",
      "\n",
      "\n",
      "Epoch : 48 Validation time : 3.609043598175049\n",
      "\n",
      " Epoch 49 - \n",
      "\n",
      "Validation Accuracy = 0.943\n",
      "\n",
      "\n",
      "[============================================================] 100.0% ...\n",
      "\n",
      "\n",
      "Epoch : 49 Training time : 110.33379411697388\n",
      "\n",
      "\n",
      "\n",
      "\n",
      "\n",
      "Epoch : 49 Validation time : 3.689152717590332\n",
      "\n",
      " Epoch 50 - \n",
      "\n",
      "Validation Accuracy = 0.966\n",
      "\n",
      "\n",
      "\n",
      "Saved current model to Disk.\n",
      "[============================================================] 100.0% ...\n",
      "\n",
      "\n",
      "Epoch : 50 Training time : 109.94310021400452\n",
      "\n",
      "\n",
      "\n",
      "\n",
      "\n",
      "Epoch : 50 Validation time : 3.6495375633239746\n",
      "\n",
      " Epoch 51 - \n",
      "\n",
      "Validation Accuracy = 0.938\n",
      "\n",
      "\n",
      "[============================================================] 100.0% ...\n",
      "\n",
      "\n",
      "Epoch : 51 Training time : 110.87823271751404\n",
      "\n",
      "\n",
      "\n",
      "\n",
      "\n",
      "Epoch : 51 Validation time : 3.6299214363098145\n",
      "\n",
      " Epoch 52 - \n",
      "\n",
      "Validation Accuracy = 0.963\n",
      "\n",
      "\n",
      "[============================================================] 100.0% ...\n",
      "\n",
      "\n",
      "Epoch : 52 Training time : 111.91832065582275\n",
      "\n",
      "\n",
      "\n",
      "\n",
      "\n",
      "Epoch : 52 Validation time : 3.6241838932037354\n",
      "\n",
      " Epoch 53 - \n",
      "\n",
      "Validation Accuracy = 0.951\n",
      "\n",
      "\n",
      "[============================================================] 100.0% ...\n",
      "\n",
      "\n",
      "Epoch : 53 Training time : 112.586585521698\n",
      "\n",
      "\n",
      "\n",
      "\n",
      "\n",
      "Epoch : 53 Validation time : 3.646275520324707\n",
      "\n",
      " Epoch 54 - \n",
      "\n",
      "Validation Accuracy = 0.944\n",
      "\n",
      "\n",
      "[============================================================] 100.0% ...\n",
      "\n",
      "\n",
      "Epoch : 54 Training time : 106.3595769405365\n",
      "\n",
      "\n",
      "\n",
      "\n",
      "\n",
      "Epoch : 54 Validation time : 3.6448593139648438\n",
      "\n",
      " Epoch 55 - \n",
      "\n",
      "Validation Accuracy = 0.935\n",
      "\n",
      "\n",
      "[============================================================] 100.0% ...\n",
      "\n",
      "\n",
      "Epoch : 55 Training time : 105.39086246490479\n",
      "\n",
      "\n",
      "\n",
      "\n",
      "\n",
      "Epoch : 55 Validation time : 3.6224892139434814\n",
      "\n",
      " Epoch 56 - \n",
      "\n",
      "Validation Accuracy = 0.954\n",
      "\n",
      "\n",
      "[============================================================] 100.0% ...\n",
      "\n",
      "\n",
      "Epoch : 56 Training time : 106.91332864761353\n",
      "\n",
      "\n",
      "\n",
      "\n",
      "\n",
      "Epoch : 56 Validation time : 3.610508441925049\n",
      "\n",
      " Epoch 57 - \n",
      "\n",
      "Validation Accuracy = 0.961\n",
      "\n",
      "\n",
      "[============================================================] 100.0% ...\n",
      "\n",
      "\n",
      "Epoch : 57 Training time : 108.3354742527008\n",
      "\n",
      "\n",
      "\n",
      "\n",
      "\n",
      "Epoch : 57 Validation time : 3.6533775329589844\n",
      "\n",
      " Epoch 58 - \n",
      "\n",
      "Validation Accuracy = 0.961\n",
      "\n",
      "\n",
      "[============================================================] 100.0% ...\n",
      "\n",
      "\n",
      "Epoch : 58 Training time : 107.59930658340454\n",
      "\n",
      "\n",
      "\n",
      "\n",
      "\n",
      "Epoch : 58 Validation time : 3.6153924465179443\n",
      "\n",
      " Epoch 59 - \n",
      "\n",
      "Validation Accuracy = 0.946\n",
      "\n",
      "\n",
      "[============================================================] 100.0% ...\n",
      "\n",
      "\n",
      "Epoch : 59 Training time : 107.61586093902588\n",
      "\n",
      "\n",
      "\n",
      "\n",
      "\n",
      "Epoch : 59 Validation time : 3.638627529144287\n",
      "\n",
      " Epoch 60 - \n",
      "\n",
      "Validation Accuracy = 0.962\n",
      "\n",
      "\n",
      "\n",
      "END -- Training and Validation...\n",
      "data_for_analysis/1492377857.4924717\n"
     ]
    },
    {
     "ename": "IndexError",
     "evalue": "list index out of range",
     "output_type": "error",
     "traceback": [
      "\u001b[0;31m---------------------------------------------------------------------------\u001b[0m",
      "\u001b[0;31mIndexError\u001b[0m                                Traceback (most recent call last)",
      "\u001b[0;32m<ipython-input-114-94b59a3e9ca2>\u001b[0m in \u001b[0;36m<module>\u001b[0;34m()\u001b[0m\n\u001b[1;32m     78\u001b[0m \u001b[0;34m\u001b[0m\u001b[0m\n\u001b[1;32m     79\u001b[0m     \u001b[0;31m# Notify of completion\u001b[0m\u001b[0;34m\u001b[0m\u001b[0;34m\u001b[0m\u001b[0m\n\u001b[0;32m---> 80\u001b[0;31m     \u001b[0mmakeSound\u001b[0m\u001b[0;34m(\u001b[0m\u001b[0;34m)\u001b[0m\u001b[0;34m\u001b[0m\u001b[0m\n\u001b[0m",
      "\u001b[0;32m/root/miniconda3/envs/carnd-term1/lib/python3.5/site-packages/tensorflow/python/client/session.py\u001b[0m in \u001b[0;36m__exit__\u001b[0;34m(self, exec_type, exec_value, exec_tb)\u001b[0m\n\u001b[1;32m   1206\u001b[0m     self._default_session_context_manager.__exit__(\n\u001b[1;32m   1207\u001b[0m         exec_type, exec_value, exec_tb)\n\u001b[0;32m-> 1208\u001b[0;31m     \u001b[0mself\u001b[0m\u001b[0;34m.\u001b[0m\u001b[0m_default_graph_context_manager\u001b[0m\u001b[0;34m.\u001b[0m\u001b[0m__exit__\u001b[0m\u001b[0;34m(\u001b[0m\u001b[0mexec_type\u001b[0m\u001b[0;34m,\u001b[0m \u001b[0mexec_value\u001b[0m\u001b[0;34m,\u001b[0m \u001b[0mexec_tb\u001b[0m\u001b[0;34m)\u001b[0m\u001b[0;34m\u001b[0m\u001b[0m\n\u001b[0m\u001b[1;32m   1209\u001b[0m \u001b[0;34m\u001b[0m\u001b[0m\n\u001b[1;32m   1210\u001b[0m     \u001b[0mself\u001b[0m\u001b[0;34m.\u001b[0m\u001b[0m_default_session_context_manager\u001b[0m \u001b[0;34m=\u001b[0m \u001b[0;32mNone\u001b[0m\u001b[0;34m\u001b[0m\u001b[0m\n",
      "\u001b[0;32m/root/miniconda3/envs/carnd-term1/lib/python3.5/contextlib.py\u001b[0m in \u001b[0;36m__exit__\u001b[0;34m(self, type, value, traceback)\u001b[0m\n\u001b[1;32m     64\u001b[0m         \u001b[0;32mif\u001b[0m \u001b[0mtype\u001b[0m \u001b[0;32mis\u001b[0m \u001b[0;32mNone\u001b[0m\u001b[0;34m:\u001b[0m\u001b[0;34m\u001b[0m\u001b[0m\n\u001b[1;32m     65\u001b[0m             \u001b[0;32mtry\u001b[0m\u001b[0;34m:\u001b[0m\u001b[0;34m\u001b[0m\u001b[0m\n\u001b[0;32m---> 66\u001b[0;31m                 \u001b[0mnext\u001b[0m\u001b[0;34m(\u001b[0m\u001b[0mself\u001b[0m\u001b[0;34m.\u001b[0m\u001b[0mgen\u001b[0m\u001b[0;34m)\u001b[0m\u001b[0;34m\u001b[0m\u001b[0m\n\u001b[0m\u001b[1;32m     67\u001b[0m             \u001b[0;32mexcept\u001b[0m \u001b[0mStopIteration\u001b[0m\u001b[0;34m:\u001b[0m\u001b[0;34m\u001b[0m\u001b[0m\n\u001b[1;32m     68\u001b[0m                 \u001b[0;32mreturn\u001b[0m\u001b[0;34m\u001b[0m\u001b[0m\n",
      "\u001b[0;32m/root/miniconda3/envs/carnd-term1/lib/python3.5/site-packages/tensorflow/python/framework/ops.py\u001b[0m in \u001b[0;36mget_controller\u001b[0;34m(self, default)\u001b[0m\n\u001b[1;32m   3518\u001b[0m     \u001b[0;32mfinally\u001b[0m\u001b[0;34m:\u001b[0m\u001b[0;34m\u001b[0m\u001b[0m\n\u001b[1;32m   3519\u001b[0m       \u001b[0;32mif\u001b[0m \u001b[0mself\u001b[0m\u001b[0;34m.\u001b[0m\u001b[0m_enforce_nesting\u001b[0m\u001b[0;34m:\u001b[0m\u001b[0;34m\u001b[0m\u001b[0m\n\u001b[0;32m-> 3520\u001b[0;31m         \u001b[0;32mif\u001b[0m \u001b[0mself\u001b[0m\u001b[0;34m.\u001b[0m\u001b[0mstack\u001b[0m\u001b[0;34m[\u001b[0m\u001b[0;34m-\u001b[0m\u001b[0;36m1\u001b[0m\u001b[0;34m]\u001b[0m \u001b[0;32mis\u001b[0m \u001b[0;32mnot\u001b[0m \u001b[0mdefault\u001b[0m\u001b[0;34m:\u001b[0m\u001b[0;34m\u001b[0m\u001b[0m\n\u001b[0m\u001b[1;32m   3521\u001b[0m           raise AssertionError(\n\u001b[1;32m   3522\u001b[0m               \u001b[0;34m\"Nesting violated for default stack of %s objects\"\u001b[0m\u001b[0;34m\u001b[0m\u001b[0m\n",
      "\u001b[0;31mIndexError\u001b[0m: list index out of range"
     ]
    }
   ],
   "source": [
    "with tf.Session() as sess:\n",
    "    sess.run(tf.global_variables_initializer())\n",
    "    \n",
    "    tf.reset_default_graph()\n",
    "    tf.add_to_collection('vars', weights['wconv1'])\n",
    "    \n",
    "    num_examples = len(X_train)\n",
    "    \n",
    "    debugLog(\"START -- Training and Validation ...\")\n",
    "    debugLog(\"\")\n",
    "    \n",
    "    start_overall_time = time.time()\n",
    "    validation_accuracy = None\n",
    "    highest_validation_accuracy = None\n",
    "    validation_accuracy_list = list()\n",
    "    \n",
    "    for i in range(S):\n",
    "        X_train, y_train = shuffle(X_train, y_train)\n",
    "        start_training_time = time.time()\n",
    "        for offset in range(0, num_examples, BATCH_SIZE):\n",
    "            end = offset + BATCH_SIZE\n",
    "            batch_x, batch_y = X_train[offset:end], y_train[offset:end]\n",
    "            sess.run(training_operation, feed_dict={x: batch_x, y: batch_y, keep_prob:0.7})\n",
    "            progressIndicator(end,num_examples)\n",
    "        end_training_time = time.time()\n",
    "        training_execution_time = end_training_time - start_training_time\n",
    "        debugLog(\"\")\n",
    "        debugLog(\"Epoch : \" + str(i) + \" Training time : \" + str(training_execution_time) )\n",
    "  \n",
    "        debugLog(\"\")\n",
    "        start_valdidation_time = time.time()\n",
    "        validation_accuracy = evaluate(X_valid, y_valid)\n",
    "        validation_accuracy_list.append(validation_accuracy)\n",
    "        end_valdidation_time = time.time()\n",
    "        validation_execution_time = end_valdidation_time - start_valdidation_time\n",
    "                    \n",
    "        debugLog(\"\")\n",
    "        debugLog(\"Epoch : \" + str(i) + \" Validation time : \" + str(validation_execution_time) )\n",
    "        debugLog(\" Epoch {} - \".format(i+1))\n",
    "        debugLog(\"Validation Accuracy = {:.3f}\".format(validation_accuracy))\n",
    "        debugLog(\"\")\n",
    "        \n",
    "        if highest_validation_accuracy is None:\n",
    "            highest_validation_accuracy = validation_accuracy\n",
    "        \n",
    "        # JL - Saving at each epoch, so that we can pick this up at any time, and so that the model is available for us to experiment during the training process as wel\n",
    "        if validation_accuracy >= highest_validation_accuracy:\n",
    "            saver.save(sess, './lenet')\n",
    "            highest_validation_accuracy = validation_accuracy\n",
    "            debugLog(\"Saved current model to Disk.\")\n",
    "    \n",
    "    end_overall_time = time.time()\n",
    "    overall_execution_time = end_overall_time - start_overall_time\n",
    "\n",
    "    debugLog(\"END -- Training and Validation...\")\n",
    "        \n",
    "    # Prepare Data to Save to Disk\n",
    "    performanceSummaryDict = {\"param_epochs\" : param_epochs,\n",
    "    \"param_batchsize\" : param_batchsize,\n",
    "    \"param_mean\" : param_mean,\n",
    "    \"param_standard_deviation\" : param_standard_deviation,\n",
    "    \"param_learning_rate\" : param_learning_rate,\n",
    "    \"param_activation_function\" : param_activation_function,\n",
    "    \"param_architecture_updates\" : param_architecture_updates,\n",
    "    \"param_preprocessing_updates\" : param_preprocessing_updates,\n",
    "    \"param_data_augmentation_updates\" : param_data_augmentation_updates, \n",
    "    \"param_pooling_function\" : param_pooling_function,\n",
    "    \"overall_execution_time\" : overall_execution_time,\n",
    "    \"average_training_and_validation_time\" : overall_execution_time/param_epochs,\n",
    "    \"validation_accuracy_trend\" : ','.join(map(str,validation_accuracy_list)),\n",
    "    \"validation_accuracy_on_last_epoch\" : validation_accuracy,\n",
    "    \"max_validation_accuracy\" : highest_validation_accuracy\n",
    "                             }\n",
    "    \n",
    "    # Print the Data\n",
    "#     debugLog(\"performanceSummaryDict : \" + str(performanceSummaryDict))\n",
    "\n",
    "    # Prepare Performance Data to Disk\n",
    "    saveDataToDiskAsJson(performanceSummaryDict)\n",
    "    \n",
    "\n",
    "# Notify of completion\n",
    "makeSound()\n"
   ]
  },
  {
   "cell_type": "markdown",
   "metadata": {
    "deletable": true,
    "editable": true
   },
   "source": [
    "### Code to restore a session"
   ]
  },
  {
   "cell_type": "code",
   "execution_count": 58,
   "metadata": {
    "collapsed": false,
    "deletable": true,
    "editable": true
   },
   "outputs": [
    {
     "name": "stdout",
     "output_type": "stream",
     "text": [
      "wconv1:0\n",
      "wconv1:0\n",
      "wconv1:0\n",
      "wconv1:0\n",
      "wconv1:0\n"
     ]
    }
   ],
   "source": [
    "with tf.Session() as resumesavedsession: \n",
    "    new_saver = tf.train.import_meta_graph('lenet.meta')\n",
    "    new_saver.restore(resumesavedsession, tf.train.latest_checkpoint('./'))\n",
    "    all_vars = tf.get_collection('vars')\n",
    "    for v in all_vars:\n",
    "        print(v.name)\n",
    "#         if v.name == 'wconv1':\n",
    "#             debugLog(\"Restored wconv1\")\n",
    "#         v_ = resumesavedsession.run(v)\n",
    "#         print(v_)\n"
   ]
  },
  {
   "cell_type": "markdown",
   "metadata": {
    "deletable": true,
    "editable": true
   },
   "source": [
    "### Train, Validate and Test the Model"
   ]
  },
  {
   "cell_type": "markdown",
   "metadata": {
    "deletable": true,
    "editable": true
   },
   "source": [
    "A validation set can be used to assess how well the model is performing. A low accuracy on the training and validation\n",
    "sets imply underfitting. A high accuracy on the training set but low accuracy on the validation set implies overfitting."
   ]
  },
  {
   "cell_type": "code",
   "execution_count": null,
   "metadata": {
    "collapsed": true,
    "deletable": true,
    "editable": true
   },
   "outputs": [],
   "source": [
    "### Train your model here.\n",
    "### Calculate and report the accuracy on the training and validation set.\n",
    "### Once a final model architecture is selected, \n",
    "### the accuracy on the test set should be calculated and reported as well.\n",
    "### Feel free to use as many code cells as needed."
   ]
  },
  {
   "cell_type": "markdown",
   "metadata": {
    "deletable": true,
    "editable": true
   },
   "source": [
    "---\n",
    "\n",
    "## Step 3: Test a Model on New Images\n",
    "\n",
    "To give yourself more insight into how your model is working, download at least five pictures of German traffic signs from the web and use your model to predict the traffic sign type.\n",
    "\n",
    "You may find `signnames.csv` useful as it contains mappings from the class id (integer) to the actual sign name."
   ]
  },
  {
   "cell_type": "markdown",
   "metadata": {
    "deletable": true,
    "editable": true
   },
   "source": [
    "### Load and Output the Images"
   ]
  },
  {
   "cell_type": "code",
   "execution_count": null,
   "metadata": {
    "collapsed": true,
    "deletable": true,
    "editable": true
   },
   "outputs": [],
   "source": [
    "### Load the images and plot them here.\n",
    "### Feel free to use as many code cells as needed."
   ]
  },
  {
   "cell_type": "markdown",
   "metadata": {
    "deletable": true,
    "editable": true
   },
   "source": [
    "### Predict the Sign Type for Each Image"
   ]
  },
  {
   "cell_type": "code",
   "execution_count": null,
   "metadata": {
    "collapsed": true,
    "deletable": true,
    "editable": true
   },
   "outputs": [],
   "source": [
    "### Run the predictions here and use the model to output the prediction for each image.\n",
    "### Make sure to pre-process the images with the same pre-processing pipeline used earlier.\n",
    "### Feel free to use as many code cells as needed."
   ]
  },
  {
   "cell_type": "markdown",
   "metadata": {
    "deletable": true,
    "editable": true
   },
   "source": [
    "### Analyze Performance"
   ]
  },
  {
   "cell_type": "code",
   "execution_count": null,
   "metadata": {
    "collapsed": true,
    "deletable": true,
    "editable": true
   },
   "outputs": [],
   "source": [
    "### Calculate the accuracy for these 5 new images. \n",
    "### For example, if the model predicted 1 out of 5 signs correctly, it's 20% accurate on these new images."
   ]
  },
  {
   "cell_type": "markdown",
   "metadata": {
    "deletable": true,
    "editable": true
   },
   "source": [
    "### Output Top 5 Softmax Probabilities For Each Image Found on the Web"
   ]
  },
  {
   "cell_type": "markdown",
   "metadata": {
    "deletable": true,
    "editable": true
   },
   "source": [
    "For each of the new images, print out the model's softmax probabilities to show the **certainty** of the model's predictions (limit the output to the top 5 probabilities for each image). [`tf.nn.top_k`](https://www.tensorflow.org/versions/r0.12/api_docs/python/nn.html#top_k) could prove helpful here. \n",
    "\n",
    "The example below demonstrates how tf.nn.top_k can be used to find the top k predictions for each image.\n",
    "\n",
    "`tf.nn.top_k` will return the values and indices (class ids) of the top k predictions. So if k=3, for each sign, it'll return the 3 largest probabilities (out of a possible 43) and the correspoding class ids.\n",
    "\n",
    "Take this numpy array as an example. The values in the array represent predictions. The array contains softmax probabilities for five candidate images with six possible classes. `tk.nn.top_k` is used to choose the three classes with the highest probability:\n",
    "\n",
    "```\n",
    "# (5, 6) array\n",
    "a = np.array([[ 0.24879643,  0.07032244,  0.12641572,  0.34763842,  0.07893497,\n",
    "         0.12789202],\n",
    "       [ 0.28086119,  0.27569815,  0.08594638,  0.0178669 ,  0.18063401,\n",
    "         0.15899337],\n",
    "       [ 0.26076848,  0.23664738,  0.08020603,  0.07001922,  0.1134371 ,\n",
    "         0.23892179],\n",
    "       [ 0.11943333,  0.29198961,  0.02605103,  0.26234032,  0.1351348 ,\n",
    "         0.16505091],\n",
    "       [ 0.09561176,  0.34396535,  0.0643941 ,  0.16240774,  0.24206137,\n",
    "         0.09155967]])\n",
    "```\n",
    "\n",
    "Running it through `sess.run(tf.nn.top_k(tf.constant(a), k=3))` produces:\n",
    "\n",
    "```\n",
    "TopKV2(values=array([[ 0.34763842,  0.24879643,  0.12789202],\n",
    "       [ 0.28086119,  0.27569815,  0.18063401],\n",
    "       [ 0.26076848,  0.23892179,  0.23664738],\n",
    "       [ 0.29198961,  0.26234032,  0.16505091],\n",
    "       [ 0.34396535,  0.24206137,  0.16240774]]), indices=array([[3, 0, 5],\n",
    "       [0, 1, 4],\n",
    "       [0, 5, 1],\n",
    "       [1, 3, 5],\n",
    "       [1, 4, 3]], dtype=int32))\n",
    "```\n",
    "\n",
    "Looking just at the first row we get `[ 0.34763842,  0.24879643,  0.12789202]`, you can confirm these are the 3 largest probabilities in `a`. You'll also notice `[3, 0, 5]` are the corresponding indices."
   ]
  },
  {
   "cell_type": "code",
   "execution_count": null,
   "metadata": {
    "collapsed": true,
    "deletable": true,
    "editable": true
   },
   "outputs": [],
   "source": [
    "### Print out the top five softmax probabilities for the predictions on the German traffic sign images found on the web. \n",
    "### Feel free to use as many code cells as needed."
   ]
  },
  {
   "cell_type": "markdown",
   "metadata": {
    "deletable": true,
    "editable": true
   },
   "source": [
    "### Project Writeup\n",
    "\n",
    "Once you have completed the code implementation, document your results in a project writeup using this [template](https://github.com/udacity/CarND-Traffic-Sign-Classifier-Project/blob/master/writeup_template.md) as a guide. The writeup can be in a markdown or pdf file. "
   ]
  },
  {
   "cell_type": "markdown",
   "metadata": {
    "deletable": true,
    "editable": true
   },
   "source": [
    "> **Note**: Once you have completed all of the code implementations and successfully answered each question above, you may finalize your work by exporting the iPython Notebook as an HTML document. You can do this by using the menu above and navigating to  \\n\",\n",
    "    \"**File -> Download as -> HTML (.html)**. Include the finished document along with this notebook as your submission."
   ]
  },
  {
   "cell_type": "markdown",
   "metadata": {
    "deletable": true,
    "editable": true
   },
   "source": [
    "---\n",
    "\n",
    "## Step 4 (Optional): Visualize the Neural Network's State with Test Images\n",
    "\n",
    " This Section is not required to complete but acts as an additional excersise for understaning the output of a neural network's weights. While neural networks can be a great learning device they are often referred to as a black box. We can understand what the weights of a neural network look like better by plotting their feature maps. After successfully training your neural network you can see what it's feature maps look like by plotting the output of the network's weight layers in response to a test stimuli image. From these plotted feature maps, it's possible to see what characteristics of an image the network finds interesting. For a sign, maybe the inner network feature maps react with high activation to the sign's boundary outline or to the contrast in the sign's painted symbol.\n",
    "\n",
    " Provided for you below is the function code that allows you to get the visualization output of any tensorflow weight layer you want. The inputs to the function should be a stimuli image, one used during training or a new one you provided, and then the tensorflow variable name that represents the layer's state during the training process, for instance if you wanted to see what the [LeNet lab's](https://classroom.udacity.com/nanodegrees/nd013/parts/fbf77062-5703-404e-b60c-95b78b2f3f9e/modules/6df7ae49-c61c-4bb2-a23e-6527e69209ec/lessons/601ae704-1035-4287-8b11-e2c2716217ad/concepts/d4aca031-508f-4e0b-b493-e7b706120f81) feature maps looked like for it's second convolutional layer you could enter conv2 as the tf_activation variable.\n",
    "\n",
    "For an example of what feature map outputs look like, check out NVIDIA's results in their paper [End-to-End Deep Learning for Self-Driving Cars](https://devblogs.nvidia.com/parallelforall/deep-learning-self-driving-cars/) in the section Visualization of internal CNN State. NVIDIA was able to show that their network's inner weights had high activations to road boundary lines by comparing feature maps from an image with a clear path to one without. Try experimenting with a similar test to show that your trained network's weights are looking for interesting features, whether it's looking at differences in feature maps from images with or without a sign, or even what feature maps look like in a trained network vs a completely untrained one on the same sign image.\n",
    "\n",
    "<figure>\n",
    " <img src=\"visualize_cnn.png\" width=\"380\" alt=\"Combined Image\" />\n",
    " <figcaption>\n",
    " <p></p> \n",
    " <p style=\"text-align: center;\"> Your output should look something like this (above)</p> \n",
    " </figcaption>\n",
    "</figure>\n",
    " <p></p> \n"
   ]
  },
  {
   "cell_type": "code",
   "execution_count": null,
   "metadata": {
    "collapsed": true,
    "deletable": true,
    "editable": true
   },
   "outputs": [],
   "source": [
    "### Visualize your network's feature maps here.\n",
    "### Feel free to use as many code cells as needed.\n",
    "\n",
    "# image_input: the test image being fed into the network to produce the feature maps\n",
    "# tf_activation: should be a tf variable name used during your training procedure that represents the calculated state of a specific weight layer\n",
    "# activation_min/max: can be used to view the activation contrast in more detail, by default matplot sets min and max to the actual min and max values of the output\n",
    "# plt_num: used to plot out multiple different weight feature map sets on the same block, just extend the plt number for each new feature map entry\n",
    "\n",
    "def outputFeatureMap(image_input, tf_activation, activation_min=-1, activation_max=-1 ,plt_num=1):\n",
    "    # Here make sure to preprocess your image_input in a way your network expects\n",
    "    # with size, normalization, ect if needed\n",
    "    # image_input =\n",
    "    # Note: x should be the same name as your network's tensorflow data placeholder variable\n",
    "    # If you get an error tf_activation is not defined it may be having trouble accessing the variable from inside a function\n",
    "    activation = tf_activation.eval(session=sess,feed_dict={x : image_input})\n",
    "    featuremaps = activation.shape[3]\n",
    "    plt.figure(plt_num, figsize=(15,15))\n",
    "    for featuremap in range(featuremaps):\n",
    "        plt.subplot(6,8, featuremap+1) # sets the number of feature maps to show on each row and column\n",
    "        plt.title('FeatureMap ' + str(featuremap)) # displays the feature map number\n",
    "        if activation_min != -1 & activation_max != -1:\n",
    "            plt.imshow(activation[0,:,:, featuremap], interpolation=\"nearest\", vmin =activation_min, vmax=activation_max, cmap=\"gray\")\n",
    "        elif activation_max != -1:\n",
    "            plt.imshow(activation[0,:,:, featuremap], interpolation=\"nearest\", vmax=activation_max, cmap=\"gray\")\n",
    "        elif activation_min !=-1:\n",
    "            plt.imshow(activation[0,:,:, featuremap], interpolation=\"nearest\", vmin=activation_min, cmap=\"gray\")\n",
    "        else:\n",
    "            plt.imshow(activation[0,:,:, featuremap], interpolation=\"nearest\", cmap=\"gray\")"
   ]
  }
 ],
 "metadata": {
  "anaconda-cloud": {},
  "kernelspec": {
   "display_name": "Python 3",
   "language": "python",
   "name": "python3"
  },
  "language_info": {
   "codemirror_mode": {
    "name": "ipython",
    "version": 3
   },
   "file_extension": ".py",
   "mimetype": "text/x-python",
   "name": "python",
   "nbconvert_exporter": "python",
   "pygments_lexer": "ipython3",
   "version": "3.5.2"
  },
  "widgets": {
   "state": {},
   "version": "1.1.2"
  }
 },
 "nbformat": 4,
 "nbformat_minor": 1
}
