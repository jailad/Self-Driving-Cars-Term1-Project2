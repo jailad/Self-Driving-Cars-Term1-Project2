{
 "cells": [
  {
   "cell_type": "markdown",
   "metadata": {
    "deletable": true,
    "editable": true
   },
   "source": [
    "# Self-Driving Car Engineer Nanodegree\n",
    "\n",
    "## Deep Learning\n",
    "\n",
    "## Project: Build a Traffic Sign Recognition Classifier\n",
    "\n",
    "In this notebook, a template is provided for you to implement your functionality in stages, which is required to successfully complete this project. If additional code is required that cannot be included in the notebook, be sure that the Python code is successfully imported and included in your submission if necessary. \n",
    "\n",
    "> **Note**: Once you have completed all of the code implementations, you need to finalize your work by exporting the iPython Notebook as an HTML document. Before exporting the notebook to html, all of the code cells need to have been run so that reviewers can see the final implementation and output. You can then export the notebook by using the menu above and navigating to  \\n\",\n",
    "    \"**File -> Download as -> HTML (.html)**. Include the finished document along with this notebook as your submission. \n",
    "\n",
    "In addition to implementing code, there is a writeup to complete. The writeup should be completed in a separate file, which can be either a markdown file or a pdf document. There is a [write up template](https://github.com/udacity/CarND-Traffic-Sign-Classifier-Project/blob/master/writeup_template.md) that can be used to guide the writing process. Completing the code template and writeup template will cover all of the [rubric points](https://review.udacity.com/#!/rubrics/481/view) for this project.\n",
    "\n",
    "The [rubric](https://review.udacity.com/#!/rubrics/481/view) contains \"Stand Out Suggestions\" for enhancing the project beyond the minimum requirements. The stand out suggestions are optional. If you decide to pursue the \"stand out suggestions\", you can include the code in this Ipython notebook and also discuss the results in the writeup file.\n",
    "\n",
    "\n",
    ">**Note:** Code and Markdown cells can be executed using the **Shift + Enter** keyboard shortcut. In addition, Markdown cells can be edited by typically double-clicking the cell to enter edit mode."
   ]
  },
  {
   "cell_type": "markdown",
   "metadata": {
    "deletable": true,
    "editable": true
   },
   "source": [
    "## Code Structure\n",
    "\n",
    "In this notebook, I have tried to follow a pattern in which, within each code cell, I implement a function for a task, and towards the end of the cell, I have a 'test' function which invokes that function right away, so that we are testing the functionality as we are building it out. This reduces surprises, when we start using the functions later on to do more complex tasks."
   ]
  },
  {
   "cell_type": "markdown",
   "metadata": {
    "deletable": true,
    "editable": true
   },
   "source": [
    "## Common Constants"
   ]
  },
  {
   "cell_type": "code",
   "execution_count": 101,
   "metadata": {
    "collapsed": true,
    "deletable": true,
    "editable": true
   },
   "outputs": [],
   "source": [
    "# Useful to have these defined up front for clear visibility\n",
    "\n",
    "const_desired_accuracy_for_validation_data = 0.939 # A bit more than the project requiremenets of 93%\n",
    "\n",
    "const_minimum_validation_accuracy_to_save_to_disk = 0.90 # Start saving model(s) to disk once we reach this threshold, early on in the training process this threshold can be low, and as we train further, we can increase this.\n",
    "\n",
    "const_model_name_to_save = './jltrafficclassifier' # probably a better name would be germantrafficclassifier\n",
    "\n",
    "const_new_images_folder = \"NewImages/\" # Folder where new images sourced from the internet are located\n",
    "\n",
    "const_top_k_softmax = 5 # For new image categorization, this constant defines the top 'X' predicted classes\n",
    "\n",
    "const_for_pixel_normalization = 128.0 # Constant for image pixel intensity normalization ( because pixel intensity range is 0, 255 )\n",
    "\n",
    "const_get_top_x_misclassified_classes = 3 # Once a trained model is used to make predictions, this constant is used to determine how many misclassified classes to we want to investigate \n",
    "\n"
   ]
  },
  {
   "cell_type": "markdown",
   "metadata": {
    "deletable": true,
    "editable": true
   },
   "source": [
    "## Common Imports"
   ]
  },
  {
   "cell_type": "code",
   "execution_count": 2,
   "metadata": {
    "collapsed": false,
    "deletable": true,
    "editable": true
   },
   "outputs": [],
   "source": [
    "# Including common imports for the notebook\n",
    "# There might be a slight performance penalty in including these all up front rather than including them as needed, but it definitely improves the readability\n",
    "\n",
    "import numpy as np\n",
    "import os # Used for inspecting the folder structure, and loading or writing files to disk\n",
    "import sys\n",
    "import time # Used for calculating the run-time of code segments\n",
    "import scipy\n",
    "import json\n",
    "import matplotlib.pyplot as plt\n",
    "# this signifies that we will use matplotlib to show graphics inline within the jupyter notebook\n",
    "%matplotlib inline\n",
    "import matplotlib.image as mpimg\n",
    "import cv2\n",
    "import tensorflow as tf\n",
    "import copy # Used to make copy of images for processing, rather than operating on the original images\n",
    "import resource # Useful for getting memory usage\n",
    "from random import randint\n",
    "import operator\n"
   ]
  },
  {
   "cell_type": "markdown",
   "metadata": {
    "deletable": true,
    "editable": true
   },
   "source": [
    "## Define Convenience Logging Functions"
   ]
  },
  {
   "cell_type": "code",
   "execution_count": 3,
   "metadata": {
    "collapsed": true,
    "deletable": true,
    "editable": true
   },
   "outputs": [],
   "source": [
    "# Useful to selectively turn on / off logging at different levels\n",
    "\n",
    "const_info_log_enabled = True\n",
    "def infoLog(logMessage):\n",
    "    if const_info_log_enabled == True:\n",
    "        print(\"\")\n",
    "        print(logMessage)\n",
    "\n",
    "const_debug_log_enabled = True\n",
    "def debugLog(logMessage):\n",
    "    if const_debug_log_enabled == True:\n",
    "        print(\"\")\n",
    "        print(logMessage)\n",
    "        \n",
    "const_warning_log_enabled = True\n",
    "def warningLog(logMessage):\n",
    "    if const_warning_log_enabled == True:\n",
    "        print(\"\")\n",
    "        print(logMessage)\n",
    "        \n",
    "const_error_log_enabled = True\n",
    "def errorLog(logMessage):\n",
    "    if const_error_log_enabled == True:\n",
    "        print(\"\")\n",
    "        print(logMessage)\n",
    "        "
   ]
  },
  {
   "cell_type": "markdown",
   "metadata": {
    "deletable": true,
    "editable": true
   },
   "source": [
    "### Convenience Function to print memory usage"
   ]
  },
  {
   "cell_type": "code",
   "execution_count": 99,
   "metadata": {
    "collapsed": false,
    "deletable": true,
    "editable": true
   },
   "outputs": [
    {
     "name": "stdout",
     "output_type": "stream",
     "text": [
      "\n",
      "1313760 Kb\n"
     ]
    }
   ],
   "source": [
    "# Early on in the training process, I ran into issues where I was getting a memory error\n",
    "# This was resolved by terminating the Docker process, terminating all notebooks, restarting Chrome, relaunching Docker, and relaunching the notebooks\n",
    "# Jupyter notebooks tend to become 'heavy' when there size increases, so the restarts were a regular feature ( once everyday ) of the overall process\n",
    "\n",
    "def print_memory_usage():\n",
    "    infoLog(\"{} Kb\".format(resource.getrusage(resource.RUSAGE_SELF).ru_maxrss))\n",
    "    \n",
    "print_memory_usage()\n"
   ]
  },
  {
   "cell_type": "markdown",
   "metadata": {
    "deletable": true,
    "editable": true
   },
   "source": [
    "### Convenience Mapper to convert a classId to Sign Name"
   ]
  },
  {
   "cell_type": "code",
   "execution_count": 100,
   "metadata": {
    "collapsed": false,
    "deletable": true,
    "editable": true
   },
   "outputs": [
    {
     "name": "stdout",
     "output_type": "stream",
     "text": [
      "\n",
      "Speed limit (20km/h)\n"
     ]
    }
   ],
   "source": [
    "## Provides an easy way to convert the class ID to a human interpretable format\n",
    "## Allows us to avoid having to do a manual lookup of signnames.csv each time. \n",
    "## A better approach would be to read the CSV file, and to not have this hard coded here, but this is sufficient for us \n",
    "\n",
    "classIdSignNameDict = {0:\"Speed limit (20km/h)\",\n",
    "1:\"Speed limit (30km/h)\",\n",
    "2:\"Speed limit (50km/h)\",\n",
    "3:\"Speed limit (60km/h)\",\n",
    "4:\"Speed limit (70km/h)\",\n",
    "5:\"Speed limit (80km/h)\",\n",
    "6:\"End of speed limit (80km/h)\",\n",
    "7:\"Speed limit (100km/h)\",\n",
    "8:\"Speed limit (120km/h)\",\n",
    "9:\"No passing\",\n",
    "10:\"No passing for vehicles over 3.5 metric tons\",\n",
    "11:\"Right-of-way at the next intersection\",\n",
    "12:\"Priority road\",\n",
    "13:\"Yield\",\n",
    "14:\"Stop\",\n",
    "15:\"No vehicles\",\n",
    "16:\"Vehicles over 3.5 metric tons prohibited\",\n",
    "17:\"No entry\",\n",
    "18:\"General caution\",\n",
    "19:\"Dangerous curve to the left\",\n",
    "20:\"Dangerous curve to the right\",\n",
    "21:\"Double curve\",\n",
    "22:\"Bumpy road\",\n",
    "23:\"Slippery road\",\n",
    "24:\"Road narrows on the right\",\n",
    "25:\"Road work\",\n",
    "26:\"Traffic signals\",\n",
    "27:\"Pedestrians\",\n",
    "28:\"Children crossing\",\n",
    "29:\"Bicycles crossing\",\n",
    "30:\"Beware of ice/snow\",\n",
    "31:\"Wild animals crossing\",\n",
    "32:\"End of all speed and passing limits\",\n",
    "33:\"Turn right ahead\",\n",
    "34:\"Turn left ahead\",\n",
    "35:\"Ahead only\",\n",
    "36:\"Go straight or right\",\n",
    "37:\"Go straight or left\",\n",
    "38:\"Keep right\",\n",
    "39:\"Keep left\",\n",
    "40:\"Roundabout mandatory\",\n",
    "41:\"End of no passing\",\n",
    "42:\"End of no passing by vehicles over 3.5 metric tons\"}\n",
    "\n",
    "def getSignNameForClassId(classId):\n",
    "    return classIdSignNameDict[classId]\n",
    "\n",
    "infoLog(getSignNameForClassId(0))\n"
   ]
  },
  {
   "cell_type": "markdown",
   "metadata": {
    "deletable": true,
    "editable": true
   },
   "source": [
    "## Define Convenience Function to rotate an image by an arbitrary angle"
   ]
  },
  {
   "cell_type": "code",
   "execution_count": 6,
   "metadata": {
    "collapsed": true,
    "deletable": true,
    "editable": true
   },
   "outputs": [],
   "source": [
    "# This can be used to rotate an image to manufacture fake data\n",
    "\n",
    "from scipy.ndimage import rotate\n",
    "\n",
    "def rotateImage(image):\n",
    "    randomRotationAngle = np.random.randint(0, 360)\n",
    "    rotated_image = rotate(image, randomRotationAngle, reshape=False)\n",
    "    return rotated_image\n"
   ]
  },
  {
   "cell_type": "markdown",
   "metadata": {
    "deletable": true,
    "editable": true
   },
   "source": [
    "## Define Convenience Function to visualize samples of an image data array"
   ]
  },
  {
   "cell_type": "code",
   "execution_count": 7,
   "metadata": {
    "collapsed": false,
    "deletable": true,
    "editable": true
   },
   "outputs": [],
   "source": [
    "# Given an array of images, this function plots 10 random images from this array\n",
    "# Also does a lookup on the class ID to provide a convenient title for the image, for quick validation\n",
    "\n",
    "def visualizeSamplesFromData(image_data_array, labels_array):\n",
    "    for counter in range(0, 10):\n",
    "        image_index = np.random.randint(0, len(image_data_array))\n",
    "        image = image_data_array[image_index]\n",
    "        labelId = labels_array[image_index]\n",
    "        labelIdName = getSignNameForClassId(labelId)\n",
    "        squeezedImage = image.squeeze()\n",
    "        plt.figure(figsize=(3,3))\n",
    "        plt.title(labelIdName)\n",
    "        plt.imshow(squeezedImage) \n",
    "        "
   ]
  },
  {
   "cell_type": "markdown",
   "metadata": {
    "deletable": true,
    "editable": true
   },
   "source": [
    "## Define Convenience Function to store data as JSON file for later analysis"
   ]
  },
  {
   "cell_type": "code",
   "execution_count": 8,
   "metadata": {
    "collapsed": true,
    "deletable": true,
    "editable": true
   },
   "outputs": [],
   "source": [
    "# At the end of the training and validation process after all epochs have executed, we write the overall performance, run time, accuracy trends to a JSON file on the Disk under the folder data_for_analysis \n",
    "# I chose JSON because this is human readable / consumable easily.\n",
    "# The name of the file is the current epoch time - e.g. '1492470140.0814645', which you can view with a text editor\n",
    "\n",
    "import json\n",
    "\n",
    "const_data_analysis_folder = 'data_for_analysis'\n",
    "\n",
    "def saveDataToDiskAsJson(data):\n",
    "    if not os.path.exists(const_data_analysis_folder):\n",
    "        os.makedirs(const_data_analysis_folder)\n",
    "    currentTime = time.time()\n",
    "    filename = const_data_analysis_folder + '/' + str(currentTime)\n",
    "    try:\n",
    "        with open(filename, 'w') as outfile:\n",
    "            json.dump(data, outfile)\n",
    "            debugLog(\"Performance Data Stored as JSON file to: \" + filename)\n",
    "    except IndexError:\n",
    "        warningLog(\"Caught IndexError in saveDataToDiskAsJson.\")\n",
    "        \n",
    "def getDataFromDisk(filename):\n",
    "    filename = const_data_analysis_folder + '/' + filename\n",
    "    with open(filename) as infile:\n",
    "        data = json.load(infile)\n",
    "        "
   ]
  },
  {
   "cell_type": "markdown",
   "metadata": {
    "deletable": true,
    "editable": true
   },
   "source": [
    "## Define Convenience Function to store data as pickle file for later analysis"
   ]
  },
  {
   "cell_type": "code",
   "execution_count": 9,
   "metadata": {
    "collapsed": false,
    "deletable": true,
    "editable": true
   },
   "outputs": [
    {
     "name": "stdout",
     "output_type": "stream",
     "text": [
      "\n",
      "Data writing started : pickle_data_for_analysis/apple.pickle\n",
      "\n",
      "Data writing complete : pickle_data_for_analysis/apple.pickle\n",
      "\n",
      "Found data for pickle_data_for_analysis/apple.pickle\n",
      "\n",
      "{1, 2, 3, 4, 5}\n"
     ]
    }
   ],
   "source": [
    "# Sample to write Data as Pickle File and read it back\n",
    "# Pickle file(s) are used in the project to save and restore Normalized training data, under the folder 'pickle_data_for_analysis'\n",
    "# As part of the validation process, we write and read back a file named apple.pickle to the folder\n",
    "\n",
    "import pickle\n",
    "\n",
    "data_to_test_pickle = {1,2,3,4,5}\n",
    "\n",
    "const_pickle_data_analysis_folder = 'pickle_data_for_analysis'\n",
    "\n",
    "def saveDataToDiskAsPickle(data, param_filename = None):\n",
    "    if not os.path.exists(const_pickle_data_analysis_folder):\n",
    "        os.makedirs(const_pickle_data_analysis_folder)\n",
    "\n",
    "    fileName = param_filename\n",
    "    \n",
    "    if not fileName:\n",
    "        filename = str(time.time())\n",
    "    \n",
    "    filename = const_pickle_data_analysis_folder + '/' + param_filename + '.pickle'\n",
    "    \n",
    "    debugLog(\"Data writing started : \" + filename)\n",
    "\n",
    "    with open(filename, 'wb') as handle:\n",
    "        pickle.dump(data, handle, pickle.HIGHEST_PROTOCOL) \n",
    "    \n",
    "    debugLog(\"Data writing complete : \" + filename)\n",
    "\n",
    "        \n",
    "def getDataFromPickleFile(filename):\n",
    "    returnData = None\n",
    "    filename = const_pickle_data_analysis_folder + '/' + filename + '.pickle'\n",
    "    try:\n",
    "        with open(filename, 'rb') as handle:\n",
    "            returnData = pickle.load(handle)\n",
    "            infoLog(\"Found data for \" + filename)\n",
    "        return returnData\n",
    "    except FileNotFoundError:\n",
    "        return None\n",
    "        \n",
    "saveDataToDiskAsPickle(data_to_test_pickle, 'apple')\n",
    "debugLog(getDataFromPickleFile(\"apple\"))\n"
   ]
  },
  {
   "cell_type": "markdown",
   "metadata": {
    "deletable": true,
    "editable": true
   },
   "source": [
    "## Define Convenience Function to make sound"
   ]
  },
  {
   "cell_type": "code",
   "execution_count": 10,
   "metadata": {
    "collapsed": true,
    "deletable": true,
    "editable": true
   },
   "outputs": [],
   "source": [
    "# This can be used to indicate the completion of training for example\n",
    "# This works on a Mac, but not sure of other platforms\n",
    "\n",
    "def makeSound():\n",
    "    os.system(\"printf '\\a'\") # or '\\7'    \n",
    "    "
   ]
  },
  {
   "cell_type": "markdown",
   "metadata": {
    "deletable": true,
    "editable": true
   },
   "source": [
    "## Define Convenience method to show progress indicator of a process"
   ]
  },
  {
   "cell_type": "code",
   "execution_count": 11,
   "metadata": {
    "collapsed": true,
    "deletable": true,
    "editable": true
   },
   "outputs": [],
   "source": [
    "# Shows a nice progress bar for long running operations\n",
    "# Used From - http://stackoverflow.com/questions/3173320/text-progress-bar-in-the-console\n",
    "\n",
    "def progressIndicator(count, total, suffix=''):\n",
    "    bar_len = 60\n",
    "    filled_len = int(round(bar_len * count / float(total)))\n",
    "\n",
    "    percents = round(100.0 * count / float(total), 1)\n",
    "    bar = '=' * filled_len + '-' * (bar_len - filled_len)\n",
    "\n",
    "    sys.stdout.write('[%s] %s%s ...%s\\r' % (bar, percents, '%', suffix))\n",
    "    sys.stdout.flush()  \n",
    "    "
   ]
  },
  {
   "cell_type": "markdown",
   "metadata": {
    "deletable": true,
    "editable": true
   },
   "source": [
    "---\n",
    "## Step 0: Load The Data"
   ]
  },
  {
   "cell_type": "markdown",
   "metadata": {},
   "source": [
    "### Load training data from Disk ( normalized or non-normalized )"
   ]
  },
  {
   "cell_type": "code",
   "execution_count": null,
   "metadata": {
    "collapsed": true
   },
   "outputs": [],
   "source": [
    "# This section is used to load the normalized training data, if stored already on the Disk\n",
    "# If training data has not been normalized, we load the 'default' data as provided in the original set, and normalize and save it later\n",
    "\n",
    "import pickle\n",
    "import numpy\n",
    "\n",
    "# Load training data\n",
    "training_file = 'traffic-signs-data/train.p'\n",
    "with open(training_file, mode='rb') as f:\n",
    "    train = pickle.load(f)\n",
    "\n",
    "X_train, y_train = train['features'], train['labels']\n",
    "\n",
    "infoLog(\"Training Data Keys : \" + str(train.keys()))\n",
    "\n",
    "# Check if we already have normalized data saved to disk\n",
    "X_train_normalized = getDataFromPickleFile('X_train_normalized')\n",
    "y_train_normalized = getDataFromPickleFile('y_train_normalized')\n",
    "\n",
    "is_training_data_normalized = False\n",
    "\n",
    "if X_train_normalized is not None:\n",
    "    infoLog(\"Normalized training data loaded from Disk.\")\n",
    "    is_training_data_normalized = True\n",
    "    X_train = X_train_normalized\n",
    "    y_train = y_train_normalized\n",
    "else:\n",
    "    infoLog(\"Training data has not been previously normalized.\")\n",
    "    is_training_data_normalized = False    \n",
    "    "
   ]
  },
  {
   "cell_type": "markdown",
   "metadata": {},
   "source": [
    "### Normalize the training data ( if not already normalized ) and store to Disk"
   ]
  },
  {
   "cell_type": "code",
   "execution_count": 96,
   "metadata": {
    "collapsed": false
   },
   "outputs": [
    {
     "name": "stdout",
     "output_type": "stream",
     "text": [
      "\n",
      "Training data is already normalized, skipping normalization\n"
     ]
    }
   ],
   "source": [
    "# Take a random image and preprocess it by normalizing it\n",
    "# This is useful to confirm the normalization process\n",
    "# We only run this if the data has not been normalized previously\n",
    "\n",
    "import numpy as np\n",
    "\n",
    "# Given an image, creates a copy of the same, and then performs normalization on it and returns it\n",
    "def normalize_image(image):\n",
    "    image = image.astype(np.float32)\n",
    "    return_image = copy.copy(image)\n",
    "    for index,pixel in np.ndenumerate(return_image):\n",
    "#         infoLog(\"Pixel Intensity Before Normalization : \" + str(pixel))\n",
    "        pixel = (pixel-const_for_pixel_normalization) / const_for_pixel_normalization\n",
    "#         infoLog(\"Pixel Intensity After Normalization : \" + str(pixel))\n",
    "        return_image[index] = pixel\n",
    "    return return_image\n",
    "\n",
    "if is_training_data_normalized == False:\n",
    "    index = random.randint(0, len(X_train))\n",
    "    random_image = X_train[index]\n",
    "    squeezedImage = random_image.squeeze()\n",
    "    plt.figure(figsize=(3,3))\n",
    "    plt.imshow(squeezedImage)\n",
    "\n",
    "    normalized_image = normalize_image(random_image)\n",
    "    squeezedNormalizedImage = normalized_image.squeeze()\n",
    "    plt.figure(figsize=(3,3))\n",
    "    plt.imshow(squeezedNormalizedImage)\n",
    "\n",
    "    debugLog(\"Sign Name : \" + getSignNameForClassId(y_train[index]))\n",
    "    \n",
    "# If the complete training data set has not been normalized previously we perform normalization on the complete training data set\n",
    "\n",
    "if is_training_data_normalized == False:\n",
    "    num_training_samples = len(X_train)\n",
    "    X_train = X_train.astype(np.float32)\n",
    "    debugLog(\"X_train data type : \" + str(X_train.dtype))\n",
    "\n",
    "    debugLog(\"START -- Preprocessing step - normalization - for all training images - Count : \" + str(num_training_samples))\n",
    "    start_preprocessing_normalization_time = time.time()\n",
    "\n",
    "    for index in range(0, num_training_samples):\n",
    "        image = X_train[index]\n",
    "        normalizedImage = normalize_image(image)\n",
    "        X_train[index] = normalizedImage\n",
    "        progressIndicator(index,num_training_samples)\n",
    "\n",
    "    end_preprocessing_normalization_time = time.time() \n",
    "    timediff_preprocessing_normalization_time = end_preprocessing_normalization_time - start_preprocessing_normalization_time\n",
    "    debugLog(\"END -- Preprocessing step - normalization - for all training images in : \" + str(timediff_preprocessing_normalization_time) + \" seconds\")\n",
    "    \n",
    "    # JL - Save preprocessed ( normalized ) data to Disk\n",
    "    saveDataToDiskAsPickle(X_train, 'X_train_normalized')\n",
    "    saveDataToDiskAsPickle(y_train, 'y_train_normalized')\n",
    "    is_training_data_normalized = True\n",
    "    \n",
    "else:\n",
    "    debugLog(\"Training data is already normalized, skipping normalization\")\n",
    "    "
   ]
  },
  {
   "cell_type": "markdown",
   "metadata": {},
   "source": [
    "### Visualize the training data after normalization"
   ]
  },
  {
   "cell_type": "code",
   "execution_count": 97,
   "metadata": {
    "collapsed": false
   },
   "outputs": [
    {
     "data": {
      "image/png": "[encoded data removed]",
      "text/plain": [
       "<matplotlib.figure.Figure at 0x7f823ceaf278>"
      ]
     },
     "metadata": {},
     "output_type": "display_data"
    },
    {
     "data": {
      "image/png": "[encoded data removed]",
      "text/plain": [
       "<matplotlib.figure.Figure at 0x7f823d0070f0>"
      ]
     },
     "metadata": {},
     "output_type": "display_data"
    },
    {
     "data": {
      "image/png": "[encoded data removed]",
      "text/plain": [
       "<matplotlib.figure.Figure at 0x7f823cf7e710>"
      ]
     },
     "metadata": {},
     "output_type": "display_data"
    },
    {
     "data": {
      "image/png": "[encoded data removed]",
      "text/plain": [
       "<matplotlib.figure.Figure at 0x7f823ce23860>"
      ]
     },
     "metadata": {},
     "output_type": "display_data"
    },
    {
     "data": {
      "image/png": "[encoded data removed]",
      "text/plain": [
       "<matplotlib.figure.Figure at 0x7f823c697cf8>"
      ]
     },
     "metadata": {},
     "output_type": "display_data"
    },
    {
     "data": {
      "image/png": "[encoded data removed]",
      "text/plain": [
       "<matplotlib.figure.Figure at 0x7f823c5e7fd0>"
      ]
     },
     "metadata": {},
     "output_type": "display_data"
    },
    {
     "data": {
      "image/png": "[encoded data removed]",
      "text/plain": [
       "<matplotlib.figure.Figure at 0x7f823cf0f160>"
      ]
     },
     "metadata": {},
     "output_type": "display_data"
    },
    {
     "data": {
      "image/png": "[encoded data removed]",
      "text/plain": [
       "<matplotlib.figure.Figure at 0x7f823c17f940>"
      ]
     },
     "metadata": {},
     "output_type": "display_data"
    },
    {
     "data": {
      "image/png": "[encoded data removed]",
      "text/plain": [
       "<matplotlib.figure.Figure at 0x7f823e383518>"
      ]
     },
     "metadata": {},
     "output_type": "display_data"
    },
    {
     "data": {
      "image/png": "[encoded data removed]",
      "text/plain": [
       "<matplotlib.figure.Figure at 0x7f823ced7d68>"
      ]
     },
     "metadata": {},
     "output_type": "display_data"
    }
   ],
   "source": [
    "visualizeSamplesFromData(X_train,y_train)"
   ]
  },
  {
   "cell_type": "markdown",
   "metadata": {
    "deletable": true,
    "editable": true
   },
   "source": [
    "### Load the validation and testing data"
   ]
  },
  {
   "cell_type": "code",
   "execution_count": 12,
   "metadata": {
    "collapsed": false,
    "deletable": true,
    "editable": true
   },
   "outputs": [
    {
     "name": "stdout",
     "output_type": "stream",
     "text": [
      "\n",
      "Validation Data Keys : dict_keys(['coords', 'labels', 'sizes', 'features'])\n",
      "\n",
      "Test Data Keys : dict_keys(['coords', 'features', 'sizes', 'labels'])\n",
      "\n",
      "Shape of X_valid : (4410, 32, 32, 3)\n",
      "\n",
      "Shape of y_valid : (4410,)\n",
      "\n",
      "Shape of X_test : (12630, 32, 32, 3)\n",
      "\n",
      "Shape of y_test : (12630,)\n"
     ]
    }
   ],
   "source": [
    "# Load pickled data as downloaded from https://d17h27t6h515a5.cloudfront.net/topher/2017/February/5898cd6f_traffic-signs-data/traffic-signs-data.zip\n",
    "# We load the validation and testing data initially, while the training data is loaded later\n",
    "\n",
    "import pickle\n",
    "import numpy\n",
    "\n",
    "# TODO: Fill this in based on where you saved the training and testing data\n",
    "\n",
    "validation_file = 'traffic-signs-data/valid.p'\n",
    "testing_file = 'traffic-signs-data/test.p'\n",
    "\n",
    "with open(validation_file, mode='rb') as f:\n",
    "    valid = pickle.load(f)\n",
    "with open(testing_file, mode='rb') as f:\n",
    "    test = pickle.load(f)\n",
    "    \n",
    "X_valid, y_valid = valid['features'], valid['labels']\n",
    "X_test, y_test = test['features'], test['labels']\n",
    "\n",
    "# JL - explore the data keys\n",
    "infoLog(\"Validation Data Keys : \" + str(valid.keys()))\n",
    "infoLog(\"Test Data Keys : \" + str(test.keys()))\n",
    "\n",
    "# JL - explore data shape\n",
    "X_valid_shape = X_valid.shape\n",
    "y_valid_shape = y_valid.shape\n",
    "X_test_shape = X_test.shape\n",
    "y_test_shape = y_test.shape\n",
    "\n",
    "infoLog(\"Shape of X_valid : \" + str(X_valid_shape))\n",
    "infoLog(\"Shape of y_valid : \" + str(y_valid_shape))\n",
    "infoLog(\"Shape of X_test : \" + str(X_test_shape))\n",
    "infoLog(\"Shape of y_test : \" + str(y_test_shape))\n"
   ]
  },
  {
   "cell_type": "markdown",
   "metadata": {
    "deletable": true,
    "editable": true
   },
   "source": [
    "### Include an exploratory visualization of the validation dataset "
   ]
  },
  {
   "cell_type": "code",
   "execution_count": 13,
   "metadata": {
    "collapsed": false,
    "deletable": true,
    "editable": true
   },
   "outputs": [
    {
     "data": {
      "image/png": "[encoded data removed]",
      "text/plain": [
       "<matplotlib.figure.Figure at 0x7f8285bf6048>"
      ]
     },
     "metadata": {},
     "output_type": "display_data"
    },
    {
     "data": {
      "image/png": "[encoded data removed]",
      "text/plain": [
       "<matplotlib.figure.Figure at 0x7f82c7595e10>"
      ]
     },
     "metadata": {},
     "output_type": "display_data"
    },
    {
     "data": {
      "image/png": "[encoded data removed]",
      "text/plain": [
       "<matplotlib.figure.Figure at 0x7f828438ae80>"
      ]
     },
     "metadata": {},
     "output_type": "display_data"
    },
    {
     "data": {
      "image/png": "[encoded data removed]",
      "text/plain": [
       "<matplotlib.figure.Figure at 0x7f828435a8d0>"
      ]
     },
     "metadata": {},
     "output_type": "display_data"
    },
    {
     "data": {
      "image/png": "[encoded data removed]",
      "text/plain": [
       "<matplotlib.figure.Figure at 0x7f82842addd8>"
      ]
     },
     "metadata": {},
     "output_type": "display_data"
    },
    {
     "data": {
      "image/png": "[encoded data removed]",
      "text/plain": [
       "<matplotlib.figure.Figure at 0x7f828427c470>"
      ]
     },
     "metadata": {},
     "output_type": "display_data"
    },
    {
     "data": {
      "image/png": "[encoded data removed]",
      "text/plain": [
       "<matplotlib.figure.Figure at 0x7f828424da90>"
      ]
     },
     "metadata": {},
     "output_type": "display_data"
    },
    {
     "data": {
      "image/png": "[encoded data removed]",
      "text/plain": [
       "<matplotlib.figure.Figure at 0x7f8284218fd0>"
      ]
     },
     "metadata": {},
     "output_type": "display_data"
    },
    {
     "data": {
      "image/png": "[encoded data removed]",
      "text/plain": [
       "<matplotlib.figure.Figure at 0x7f8284171630>"
      ]
     },
     "metadata": {},
     "output_type": "display_data"
    },
    {
     "data": {
      "image/png": "[encoded data removed]",
      "text/plain": [
       "<matplotlib.figure.Figure at 0x7f8284138b70>"
      ]
     },
     "metadata": {},
     "output_type": "display_data"
    }
   ],
   "source": [
    "visualizeSamplesFromData(X_valid,y_valid)"
   ]
  },
  {
   "cell_type": "markdown",
   "metadata": {
    "deletable": true,
    "editable": true
   },
   "source": [
    "### Include an exploratory visualization of the testing dataset "
   ]
  },
  {
   "cell_type": "code",
   "execution_count": 14,
   "metadata": {
    "collapsed": false,
    "deletable": true,
    "editable": true
   },
   "outputs": [
    {
     "data": {
      "image/png": "[encoded data removed]",
      "text/plain": [
       "<matplotlib.figure.Figure at 0x7f82840006d8>"
      ]
     },
     "metadata": {},
     "output_type": "display_data"
    },
    {
     "data": {
      "image/png": "[encoded data removed]",
      "text/plain": [
       "<matplotlib.figure.Figure at 0x7f8283fdea20>"
      ]
     },
     "metadata": {},
     "output_type": "display_data"
    },
    {
     "data": {
      "image/png": "[encoded data removed]",
      "text/plain": [
       "<matplotlib.figure.Figure at 0x7f8283f36080>"
      ]
     },
     "metadata": {},
     "output_type": "display_data"
    },
    {
     "data": {
      "image/png": "[encoded data removed]",
      "text/plain": [
       "<matplotlib.figure.Figure at 0x7f8283efc588>"
      ]
     },
     "metadata": {},
     "output_type": "display_data"
    },
    {
     "data": {
      "image/png": "[encoded data removed]",
      "text/plain": [
       "<matplotlib.figure.Figure at 0x7f8283ecc978>"
      ]
     },
     "metadata": {},
     "output_type": "display_data"
    },
    {
     "data": {
      "image/png": "[encoded data removed]",
      "text/plain": [
       "<matplotlib.figure.Figure at 0x7f8283e93fd0>"
      ]
     },
     "metadata": {},
     "output_type": "display_data"
    },
    {
     "data": {
      "image/png": "[encoded data removed]",
      "text/plain": [
       "<matplotlib.figure.Figure at 0x7f8283deb320>"
      ]
     },
     "metadata": {},
     "output_type": "display_data"
    },
    {
     "data": {
      "image/png": "[encoded data removed]",
      "text/plain": [
       "<matplotlib.figure.Figure at 0x7f8283db56d8>"
      ]
     },
     "metadata": {},
     "output_type": "display_data"
    },
    {
     "data": {
      "image/png": "[encoded data removed]",
      "text/plain": [
       "<matplotlib.figure.Figure at 0x7f8283d86828>"
      ]
     },
     "metadata": {},
     "output_type": "display_data"
    },
    {
     "data": {
      "image/png": "[encoded data removed]",
      "text/plain": [
       "<matplotlib.figure.Figure at 0x7f8283d50518>"
      ]
     },
     "metadata": {},
     "output_type": "display_data"
    }
   ],
   "source": [
    "visualizeSamplesFromData(X_test,y_test)"
   ]
  },
  {
   "cell_type": "markdown",
   "metadata": {
    "deletable": true,
    "editable": true
   },
   "source": [
    "### Explore shape of training data"
   ]
  },
  {
   "cell_type": "code",
   "execution_count": 16,
   "metadata": {
    "collapsed": false,
    "deletable": true,
    "editable": true
   },
   "outputs": [
    {
     "name": "stdout",
     "output_type": "stream",
     "text": [
      "\n",
      "Shape of X_train : (34799, 32, 32, 3)\n",
      "\n",
      "Shape of y_train : (34799,)\n"
     ]
    }
   ],
   "source": [
    "# Explore shape of the training data\n",
    "\n",
    "X_train_shape = X_train.shape\n",
    "y_train_shape = y_train.shape\n",
    "\n",
    "infoLog(\"Shape of X_train : \" + str(X_train_shape))\n",
    "infoLog(\"Shape of y_train : \" + str(y_train_shape)) "
   ]
  },
  {
   "cell_type": "markdown",
   "metadata": {
    "deletable": true,
    "editable": true
   },
   "source": [
    "### Explore unique data labels by viewing labels from training, validation and test data"
   ]
  },
  {
   "cell_type": "code",
   "execution_count": 17,
   "metadata": {
    "collapsed": false,
    "deletable": true,
    "editable": true
   },
   "outputs": [
    {
     "name": "stdout",
     "output_type": "stream",
     "text": [
      "\n",
      "Total Number of Unique Labels: 43\n"
     ]
    }
   ],
   "source": [
    "# Explore unique data labels\n",
    "\n",
    "combined_labels_array = numpy.concatenate((y_train,y_valid,y_test))\n",
    "num_of_unique_labels_in_all_data = len(numpy.unique(combined_labels_array))\n",
    "infoLog(\"Total Number of Unique Labels: \" + str(num_of_unique_labels_in_all_data))"
   ]
  },
  {
   "cell_type": "markdown",
   "metadata": {
    "deletable": true,
    "editable": true
   },
   "source": [
    "### Explore shape of one training image"
   ]
  },
  {
   "cell_type": "code",
   "execution_count": 18,
   "metadata": {
    "collapsed": false,
    "deletable": true,
    "editable": true
   },
   "outputs": [
    {
     "name": "stdout",
     "output_type": "stream",
     "text": [
      "\n",
      "Shape of X_train[0] : (32, 32, 3)\n"
     ]
    }
   ],
   "source": [
    "# Explore shape of one training image, so that we know the shape of the input to our neural network\n",
    "\n",
    "X_train_zero_shape = X_train[0].shape\n",
    "infoLog(\"Shape of X_train[0] : \" + str(X_train_zero_shape))"
   ]
  },
  {
   "cell_type": "markdown",
   "metadata": {
    "deletable": true,
    "editable": true
   },
   "source": [
    "---\n",
    "\n",
    "## Step 1: Dataset Summary & Exploration\n",
    "\n",
    "The pickled data is a dictionary with 4 key/value pairs:\n",
    "\n",
    "- `'features'` is a 4D array containing raw pixel data of the traffic sign images, (num examples, width, height, channels).\n",
    "- `'labels'` is a 1D array containing the label/class id of the traffic sign. The file `signnames.csv` contains id -> name mappings for each id.\n",
    "- `'sizes'` is a list containing tuples, (width, height) representing the original width and height the image.\n",
    "- `'coords'` is a list containing tuples, (x1, y1, x2, y2) representing coordinates of a bounding box around the sign in the image. **THESE COORDINATES ASSUME THE ORIGINAL IMAGE. THE PICKLED DATA CONTAINS RESIZED VERSIONS (32 by 32) OF THESE IMAGES**\n",
    "\n",
    "Complete the basic data summary below. Use python, numpy and/or pandas methods to calculate the data summary rather than hard coding the results. For example, the [pandas shape method](http://pandas.pydata.org/pandas-docs/stable/generated/pandas.DataFrame.shape.html) might be useful for calculating some of the summary results. "
   ]
  },
  {
   "cell_type": "markdown",
   "metadata": {
    "deletable": true,
    "editable": true
   },
   "source": [
    "### Provide a Basic Summary of the Data Set Using Python, Numpy and/or Pandas"
   ]
  },
  {
   "cell_type": "code",
   "execution_count": 20,
   "metadata": {
    "collapsed": false,
    "deletable": true,
    "editable": true
   },
   "outputs": [
    {
     "name": "stdout",
     "output_type": "stream",
     "text": [
      "\n",
      "Number of training examples = 34799\n",
      "\n",
      "Number of validation examples = 4410\n",
      "\n",
      "Number of testing examples = 12630\n",
      "\n",
      "Image data shape = (32, 32)\n",
      "\n",
      "Number of classes = 43\n"
     ]
    }
   ],
   "source": [
    "# Additional data points regarding training, validation and test data\n",
    "\n",
    "# Number of training examples\n",
    "n_train = X_train_shape[0]\n",
    "\n",
    "# Number of validation examples\n",
    "n_validation = X_valid_shape[0]\n",
    "\n",
    "# Number of testing examples.\n",
    "n_test = X_test_shape[0]\n",
    "\n",
    "# What's the shape of an traffic sign image?\n",
    "image_shape = (X_test_shape[1],X_test_shape[2])\n",
    "\n",
    "# How many unique classes/labels there are in the dataset.\n",
    "n_classes = num_of_unique_labels_in_all_data\n",
    "\n",
    "infoLog(\"Number of training examples = \" + str(n_train))\n",
    "infoLog(\"Number of validation examples = \" + str(n_validation))\n",
    "infoLog(\"Number of testing examples = \" + str(n_test))\n",
    "infoLog(\"Image data shape = \" + str(image_shape))\n",
    "infoLog(\"Number of classes = \" + str(n_classes))"
   ]
  },
  {
   "cell_type": "markdown",
   "metadata": {
    "deletable": true,
    "editable": true
   },
   "source": [
    "### Explore distribution of number of training labels for various classes\n",
    "\n",
    "Our goal here is to determine which classes are more heavily represented in the training data, and to then increased the representation for under represented classes so that the model gets proper training on all types of classifier(s)"
   ]
  },
  {
   "cell_type": "code",
   "execution_count": 98,
   "metadata": {
    "collapsed": false,
    "deletable": true,
    "editable": true
   },
   "outputs": [
    {
     "name": "stdout",
     "output_type": "stream",
     "text": [
      "\n",
      "function: generate_class_distribution\n",
      "\n",
      "Labels Dictionary : {0: 180, 1: 1980, 2: 2010, 3: 1260, 4: 1770, 5: 1650, 6: 360, 7: 1290, 8: 1260, 9: 1320, 10: 1800, 11: 1170, 12: 1890, 13: 1920, 14: 690, 15: 540, 16: 360, 17: 990, 18: 1080, 19: 180, 20: 300, 21: 270, 22: 330, 23: 450, 24: 240, 25: 1350, 26: 540, 27: 210, 28: 480, 29: 240, 30: 390, 31: 690, 32: 210, 33: 599, 34: 360, 35: 1080, 36: 330, 37: 180, 38: 1860, 39: 270, 40: 300, 41: 210, 42: 210}\n",
      "\n",
      "Mean num classes per label: 809\n",
      "\n",
      "Standard Deviation of num classes per label: 619.420183705\n",
      "\n",
      "Max num classes per label : 2010\n"
     ]
    },
    {
     "data": {
      "image/png": "[encoded data removed]",
      "text/plain": [
       "<matplotlib.figure.Figure at 0x7f823cec79b0>"
      ]
     },
     "metadata": {},
     "output_type": "display_data"
    }
   ],
   "source": [
    "# Generate and visualize statistics regarding distribution of Class Labels and Instances for training data\n",
    "# This is useful to determine which classes are highly represented, and which classes are less represented\n",
    "# By intuition, the neural network will learn those classes better, for whom we have more training data, and will learn those classes poorly, for whom we have less training data\n",
    "\n",
    "import numpy as np\n",
    "import matplotlib.pyplot as plt\n",
    "\n",
    "def generate_class_distribution(classArray):\n",
    "    classIds, countsForClassIds = np.unique(classArray, return_counts=True)\n",
    "    labels_count_dictionary = dict(zip(classIds, countsForClassIds))\n",
    "    mean_number_of_samples_per_class_list_training_data = int(np.mean(countsForClassIds))\n",
    "    standard_deviation_number_of_samples_per_class_list_training_data = np.std(countsForClassIds)\n",
    "    max_number_of_samples_per_class_list_training_data = int(np.max(countsForClassIds))\n",
    "    \n",
    "    debugLog(\"function: generate_class_distribution\")\n",
    "    debugLog(\"Labels Dictionary : \" + str(labels_count_dictionary))\n",
    "    debugLog(\"Mean num classes per label: \" + str(mean_number_of_samples_per_class_list_training_data))\n",
    "    debugLog(\"Standard Deviation of num classes per label: \" + str(standard_deviation_number_of_samples_per_class_list_training_data))\n",
    "    debugLog(\"Max num classes per label : \" + str(max_number_of_samples_per_class_list_training_data))\n",
    "    \n",
    "    return labels_count_dictionary, mean_number_of_samples_per_class_list_training_data,standard_deviation_number_of_samples_per_class_list_training_data,max_number_of_samples_per_class_list_training_data\n",
    "\n",
    "def visualize_class_distribution(labels_count_dictionary):\n",
    "                    \n",
    "    classIdlist_training_data = list(labels_count_dictionary.keys())\n",
    "    number_of_samples_per_class_list_training_data = list(labels_count_dictionary.values())\n",
    "    plt.plot(classIdlist_training_data,number_of_samples_per_class_list_training_data)\n",
    "    plt.ylabel('Number of examples')\n",
    "    plt.xlabel('Class ID')\n",
    "    plt.show()\n",
    "\n",
    "labels_count_dictionary, mean_number_of_samples_per_class_list_training_data, standard_deviation_number_of_samples_per_class_list_training_data, max_number_of_samples_per_class_list_training_data = generate_class_distribution(y_train)\n",
    "\n",
    "visualize_class_distribution(labels_count_dictionary)"
   ]
  },
  {
   "cell_type": "code",
   "execution_count": 22,
   "metadata": {
    "collapsed": false,
    "deletable": true,
    "editable": true
   },
   "outputs": [
    {
     "name": "stdout",
     "output_type": "stream",
     "text": [
      "\n",
      "Classes with under representation in training samples : {0: 3, 6: 1, 14: 0, 15: 0, 16: 1, 19: 3, 20: 1, 21: 1, 22: 1, 23: 0, 24: 2, 26: 0, 27: 2, 28: 0, 29: 2, 30: 1, 31: 0, 32: 2, 33: 0, 34: 1, 36: 1, 37: 3, 39: 1, 40: 1, 41: 2, 42: 2}\n",
      "\n",
      "Classes with over representation in training samples : {1: -0.59141414141414139, 2: -0.59751243781094532, 3: -0.35793650793650794, 4: -0.54293785310734466, 5: -0.50969696969696965, 38: -0.56505376344086022, 7: -0.37286821705426354, 8: -0.35793650793650794, 9: -0.38712121212121214, 10: -0.55055555555555558, 11: -0.30854700854700856, 12: -0.571957671957672, 13: -0.5786458333333333, 17: -0.18282828282828284, 18: -0.25092592592592594, 35: -0.25092592592592594, 25: -0.40074074074074073}\n",
      "\n",
      "Is class with Class ID : 31 under represented : False\n",
      "\n",
      "Is class with Class ID : 1 over represented : -0.591414141414\n"
     ]
    }
   ],
   "source": [
    "# Separate into under-represented and over-represented classes by calculating mean\n",
    "# We also calculate 'how much' is a class under-represented or 'over-represented', so that this information can be used in generating fake data\n",
    "\n",
    "training_data_under_represented_classes_dict = dict()\n",
    "training_data_over_represented_classes_dict = dict()\n",
    "\n",
    "for class_id, number_of_samples in labels_count_dictionary.items():\n",
    "    # Evaluate how big is the difference of the number of features for a class from the mean, relative to itself\n",
    "    # boost_ratio = number of times number_of_samples has to be 'added' to itself to equal 'max_number_of_samples_per_class_list_training_data'\n",
    "    # We do not want to reject any data, so we will not reject any features for now\n",
    "    ratio = (mean_number_of_samples_per_class_list_training_data - number_of_samples) / number_of_samples\n",
    "    if ratio >= 0:\n",
    "        boost_ratio = int(ratio)\n",
    "        training_data_under_represented_classes_dict[class_id] = boost_ratio\n",
    "    else:\n",
    "        training_data_over_represented_classes_dict[class_id] =  ratio\n",
    "        \n",
    "debugLog(\"Classes with under representation in training samples : \" + str(training_data_under_represented_classes_dict))\n",
    "debugLog(\"Classes with over representation in training samples : \" + str(training_data_over_represented_classes_dict))\n",
    "\n",
    "def is_class_underrepresented(classId):\n",
    "    boost_ratio = training_data_under_represented_classes_dict.get(classId, None)\n",
    "    if boost_ratio:\n",
    "        return boost_ratio\n",
    "    else:\n",
    "        return False\n",
    "    \n",
    "def is_class_overrepresented(classId):\n",
    "    ratio = training_data_over_represented_classes_dict.get(classId, None)\n",
    "    if ratio:\n",
    "        return ratio\n",
    "    else:\n",
    "        return False\n",
    "    \n",
    "infoLog(\"Is class with Class ID : 31 under represented : \" + str(is_class_underrepresented(31)))\n",
    "infoLog(\"Is class with Class ID : 1 over represented : \" + str(is_class_overrepresented(1)))\n"
   ]
  },
  {
   "cell_type": "code",
   "execution_count": 108,
   "metadata": {
    "collapsed": false,
    "deletable": true,
    "editable": true
   },
   "outputs": [
    {
     "name": "stdout",
     "output_type": "stream",
     "text": [
      "\n",
      "Started - Preparing additional data set with fake data generated for under represented classes \n",
      "\n",
      "Found data for pickle_data_for_analysis/X_train_fake_normalized.pickle\n",
      "\n",
      "Found data for pickle_data_for_analysis/y_train_fake_normalized.pickle\n",
      "\n",
      "Fake data loaded from Disk, skipping regeneration.\n",
      "\n",
      "Ended - Preparing additional data set with fake data generated for under represented classes \n"
     ]
    }
   ],
   "source": [
    "# Iterate over training feature and label set and do a 'Boost' of under-represented features, that is generate fake data for them\n",
    "# Data 'equalization' can be verified by regenerating the standard deviation of class distribution and checking that the standard deviation has reduced from the original data set\n",
    "\n",
    "debugLog(\"Started - Preparing additional data set with fake data generated for under represented classes \")\n",
    "\n",
    "training_data_boosted_labels_list = list()\n",
    "training_data_boosted_features_list = list()\n",
    "\n",
    "X_train_fake_normalized = list() # Stands for list of features which are fake / generated and normalized\n",
    "y_train_fake_normalized = list()\n",
    "\n",
    "# Check if we already have normalized fake data saved to disk\n",
    "X_train_fake_normalized_from_disk = getDataFromPickleFile('X_train_fake_normalized')\n",
    "y_train_fake_normalized_from_disk = getDataFromPickleFile('y_train_fake_normalized')\n",
    "is_fake_normalized_data_saved_to_disk = False\n",
    "\n",
    "if X_train_fake_normalized_from_disk is not None:\n",
    "    is_fake_normalized_data_saved_to_disk = True\n",
    "    X_train_fake_normalized = X_train_fake_normalized_from_disk\n",
    "    y_train_fake_normalized = y_train_fake_normalized_from_disk\n",
    "    \n",
    "if is_fake_normalized_data_saved_to_disk == False:\n",
    "    debugLog(\"Start generating fake data.\")\n",
    "    number_of_labels = len(y_train)\n",
    "    for index, class_id in enumerate(y_train):\n",
    "        boost_ratio_underrepresented = is_class_underrepresented(class_id)\n",
    "        boost_ratio_overrepresented = is_class_overrepresented(class_id)\n",
    "\n",
    "        if boost_ratio_underrepresented:\n",
    "        # Add boosted image and feature\n",
    "            for i in range(0,boost_ratio_underrepresented):\n",
    "                X_train_fake_normalized.append(rotateImage(X_train[index]))\n",
    "                y_train_fake_normalized.append(class_id)\n",
    "    \n",
    "        progressIndicator(index,number_of_labels)\n",
    "    \n",
    "    saveDataToDiskAsPickle(X_train_fake_normalized, 'X_train_fake_normalized')\n",
    "    saveDataToDiskAsPickle(y_train_fake_normalized, 'y_train_fake_normalized')\n",
    "    debugLog(\"Generated fake data stored to disk.\")\n",
    "    infoLog(\"Number of elements in :  X_train_fake_normalized = \" + str(len(X_train_fake_normalized)))\n",
    "    infoLog(\"Number of elements in :  y_train_fake_normalized = \" + str(len(y_train_fake_normalized)))\n",
    "    visualizeSamplesFromData(X_train_fake_normalized,y_train_fake_normalized)\n",
    "else:\n",
    "    debugLog(\"Fake data loaded from Disk, skipping regeneration.\")\n",
    "    \n",
    "\n",
    "debugLog(\"Ended - Preparing additional data set with fake data generated for under represented classes \")\n"
   ]
  },
  {
   "cell_type": "markdown",
   "metadata": {},
   "source": [
    "### Explore the numeric distribution from the fake generated data set\n"
   ]
  },
  {
   "cell_type": "code",
   "execution_count": 111,
   "metadata": {
    "collapsed": false
   },
   "outputs": [
    {
     "name": "stdout",
     "output_type": "stream",
     "text": [
      "\n",
      "function: generate_class_distribution\n",
      "\n",
      "Labels Dictionary : {0: 540, 32: 420, 34: 360, 36: 330, 37: 540, 6: 360, 39: 270, 40: 300, 41: 420, 42: 420, 16: 360, 19: 540, 20: 300, 21: 270, 22: 330, 24: 480, 27: 420, 29: 480, 30: 390}\n",
      "\n",
      "Mean num classes per label: 396\n",
      "\n",
      "Standard Deviation of num classes per label: 86.280480583\n",
      "\n",
      "Max num classes per label : 540\n"
     ]
    }
   ],
   "source": [
    "\n",
    "fake_data_labels_count_dictionary, fake_data_mean_number_of_samples, fake_data_standard_deviation_number_of_samples, fake_data_max_number_of_samples = generate_class_distribution(y_train_fake_normalized)\n"
   ]
  },
  {
   "cell_type": "markdown",
   "metadata": {
    "deletable": true,
    "editable": true
   },
   "source": [
    "----\n",
    "\n",
    "## Step 2: Design and Test a Model Architecture\n",
    "\n",
    "Design and implement a deep learning model that learns to recognize traffic signs. Train and test your model on the [German Traffic Sign Dataset](http://benchmark.ini.rub.de/?section=gtsrb&subsection=dataset).\n",
    "\n",
    "The LeNet-5 implementation shown in the [classroom](https://classroom.udacity.com/nanodegrees/nd013/parts/fbf77062-5703-404e-b60c-95b78b2f3f9e/modules/6df7ae49-c61c-4bb2-a23e-6527e69209ec/lessons/601ae704-1035-4287-8b11-e2c2716217ad/concepts/d4aca031-508f-4e0b-b493-e7b706120f81) at the end of the CNN lesson is a solid starting point. You'll have to change the number of classes and possibly the preprocessing, but aside from that it's plug and play! \n",
    "\n",
    "With the LeNet-5 solution from the lecture, you should expect a validation set accuracy of about 0.89. To meet specifications, the validation set accuracy will need to be at least 0.93. It is possible to get an even higher accuracy, but 0.93 is the minimum for a successful project submission. \n",
    "\n",
    "There are various aspects to consider when thinking about this problem:\n",
    "\n",
    "- Neural network architecture (is the network over or underfitting?)\n",
    "- Play around preprocessing techniques (normalization, rgb to grayscale, etc)\n",
    "- Number of examples per label (some have more than others).\n",
    "- Generate fake data.\n",
    "\n",
    "Here is an example of a [published baseline model on this problem](http://yann.lecun.com/exdb/publis/pdf/sermanet-ijcnn-11.pdf). It's not required to be familiar with the approach used in the paper but, it's good practice to try to read papers like these."
   ]
  },
  {
   "cell_type": "markdown",
   "metadata": {
    "deletable": true,
    "editable": true
   },
   "source": [
    "### Pre-process the Data Set (normalization, grayscale, etc.)"
   ]
  },
  {
   "cell_type": "markdown",
   "metadata": {
    "deletable": true,
    "editable": true
   },
   "source": [
    "Minimally, the image data should be normalized so that the data has mean zero and equal variance. For image data, `(pixel - 128)/ 128` is a quick way to approximately normalize the data and can be used in this project. \n",
    "\n",
    "Other pre-processing steps are optional. You can try different techniques to see if it improves performance. \n",
    "\n",
    "Use the code cell (or multiple code cells, if necessary) to implement the first step of your project."
   ]
  },
  {
   "cell_type": "code",
   "execution_count": 25,
   "metadata": {
    "collapsed": false,
    "deletable": true,
    "editable": true
   },
   "outputs": [],
   "source": [
    "### Shuffle the training data \n",
    "\n",
    "from sklearn.utils import shuffle\n",
    "\n",
    "X_train, y_train = shuffle(X_train, y_train)"
   ]
  },
  {
   "cell_type": "markdown",
   "metadata": {
    "deletable": true,
    "editable": true
   },
   "source": [
    "### HyperParameters / Tunable Parameter(s)"
   ]
  },
  {
   "cell_type": "code",
   "execution_count": 29,
   "metadata": {
    "collapsed": true,
    "deletable": true,
    "editable": true
   },
   "outputs": [],
   "source": [
    "# Useful to identify these parameters up-front so that we know what 'knobs' to have to control the network \n",
    "\n",
    "param_epochs = 30\n",
    "param_batchsize = 128\n",
    "param_mean = 0\n",
    "param_standard_deviation = 0.1\n",
    "param_learning_rate = 0.001\n",
    "param_activation_function = 'ReLU'\n",
    "param_pooling_function = 'Max'\n",
    "param_architecture_updates = '1. Incresed Filter Depths 2. Increased Size of fully connected layers 3. Added a convolution layer.' \n",
    "param_preprocessing_updates = '1. Implemented Normalization '\n",
    "param_data_augmentation_updates = ' '\n",
    "# param_data_augmentation_updates = '1. Implemented boosting of under represented classes and rejection of under represented classes.'\n"
   ]
  },
  {
   "cell_type": "markdown",
   "metadata": {
    "deletable": true,
    "editable": true
   },
   "source": [
    "### Model Architecture"
   ]
  },
  {
   "cell_type": "code",
   "execution_count": 30,
   "metadata": {
    "collapsed": true,
    "deletable": true,
    "editable": true
   },
   "outputs": [],
   "source": [
    "### Define your architecture here.\n",
    "### Feel free to use as many code cells as needed."
   ]
  },
  {
   "cell_type": "code",
   "execution_count": 31,
   "metadata": {
    "collapsed": false,
    "deletable": true,
    "editable": true
   },
   "outputs": [],
   "source": [
    "import tensorflow as tf\n",
    "\n",
    "S = param_epochs\n",
    "BATCH_SIZE = param_batchsize\n",
    "mu = param_mean\n",
    "sigma = param_standard_deviation\n",
    "const_initial_learning_rate = param_learning_rate"
   ]
  },
  {
   "cell_type": "code",
   "execution_count": 32,
   "metadata": {
    "collapsed": true,
    "deletable": true,
    "editable": true
   },
   "outputs": [],
   "source": [
    "x = tf.placeholder(tf.float32, (None, 32, 32, 3))\n",
    "y = tf.placeholder(tf.int32, (None))\n",
    "one_hot_y = tf.one_hot(y, 43)\n",
    "keep_prob = tf.placeholder(tf.float32)"
   ]
  },
  {
   "cell_type": "code",
   "execution_count": 33,
   "metadata": {
    "collapsed": true,
    "deletable": true,
    "editable": true
   },
   "outputs": [],
   "source": [
    "# Convenience methods to create convolution layers, given input features, weights, biases, convolution filter stride, convolution filter size, convolution filter depth, pooling filter size, and pooling filter stride\n",
    "# Initial architecture chosen was the LeNet architecture.\n",
    "# To achieve the current accuracy ( 93.94 %) I made the following updates to the architecture :\n",
    "# Increased the filter depth for convolution layers.\n",
    "# Increased the dimensions of the fully connected layers.\n",
    "# Added one more convolution layer with pooling.\n",
    "# Introduced Dropout regularization ( with keep probability of 0.7 for training process, and 1 for validation and testing process.)\n",
    "# Other than the above I experimented with adding one more convolution layer, but I did not see significant gain(s) from this and discarded this layer.\n",
    "# During my experimentation phase, I achieved a best validation accuracy of 96.5%, though at the time, I did not know how to restore a saved model, and thus lost it.\n",
    "# With this architecure in place, I was consistently hitting a validation accuracy of 90%+ within the first 7 epochs.\n",
    "\n",
    "from tensorflow.contrib.layers import flatten\n",
    "    \n",
    "# Jai - Helper methods\n",
    "def maxpool2d(x, poolingsize=2):\n",
    "    return tf.nn.max_pool(\n",
    "        x,\n",
    "        ksize=[1, poolingsize, poolingsize, 1],\n",
    "        strides=[1, poolingsize, poolingsize, 1],\n",
    "        padding='VALID')\n",
    "      \n",
    "def conv2d_with_pooling(x, W, b, convstride=1, poolingsize=2):\n",
    "        x = tf.nn.conv2d(x, W, strides=[1, convstride, convstride, 1], padding='VALID')\n",
    "        x = tf.nn.bias_add(x, b)\n",
    "        x = tf.nn.relu(x)\n",
    "        x = maxpool2d(x)\n",
    "        return x\n",
    "    \n",
    "def conv2d(x, W, b, convstride=1):\n",
    "        x = tf.nn.conv2d(x, W, strides=[1, convstride, convstride, 1], padding='VALID')\n",
    "        x = tf.nn.bias_add(x, b)\n",
    "        x = tf.nn.relu(x)\n",
    "        return x\n",
    "    \n",
    "# Jai - Define Weights based on calculations below\n",
    "weights = {\n",
    "    'wconv1': tf.Variable(tf.truncated_normal(shape=(5, 5, 3, 16), mean=mu, stddev = sigma), name='wconv1'),\n",
    "    'wconv2': tf.Variable(tf.truncated_normal(shape=(5, 5, 16, 32), mean=mu, stddev = sigma), name='wconv2'),\n",
    "    'wconv3': tf.Variable(tf.truncated_normal(shape=(2, 2, 32, 256), mean=mu, stddev = sigma), name='wconv3'),\n",
    "    'wfc1': tf.Variable(tf.truncated_normal(shape=(1024,240), mean=mu, stddev = sigma), name='wfc1'),\n",
    "    'wfc2': tf.Variable(tf.truncated_normal(shape=(240,168), mean=mu, stddev = sigma), name='wfc2'),\n",
    "    'woutput': tf.Variable(tf.truncated_normal(shape=(168,43), mean=mu, stddev = sigma), name='woutput')}\n",
    "    \n",
    "# Jai - Define Biases based on calculations below\n",
    "biases = {\n",
    "    'bconv1': tf.Variable(tf.zeros([16]), name='bconv1'),\n",
    "    'bconv2': tf.Variable(tf.zeros([32]), name='bconv2'),\n",
    "    'bconv3': tf.Variable(tf.zeros([256]), name='bconv3'),\n",
    "    'bfc1': tf.Variable(tf.zeros([240]), name='bfc1'),\n",
    "    'bfc2': tf.Variable(tf.zeros([168]), name='bfc2'),\n",
    "    'boutput': tf.Variable(tf.zeros([43]), name='boutput')\n",
    "    }\n",
    "\n",
    "def LeNet(x, keep_prob):    \n",
    "    # Arguments used for tf.truncated_normal, randomly defines variables for the weights and biases for each layer\n",
    "    \n",
    "    # Layer 1: Convolutional. Input = 32x32x3. Output w/Pooling = 14x14x16.\n",
    "    # Input Volume = 3072 Output Volume = 3136\n",
    "    convlayer1 = conv2d_with_pooling(x,weights['wconv1'],biases['bconv1'],1,2)\n",
    "    debugLog(convlayer1.get_shape())\n",
    "    \n",
    "    # Layer 2: Convolutional. Output w/Pooling = 5x5x32.\n",
    "    # Input Volume = 3136 Output Volume = 800\n",
    "    convlayer2 = conv2d_with_pooling(convlayer1,weights['wconv2'],biases['bconv2'],1,2)\n",
    "    debugLog(convlayer2.get_shape())\n",
    "    \n",
    "    # Layer 3: Convolutional. Output w/Pooling = 2x2x256.\n",
    "    # Input Volume = 800 Output Volume = 1024\n",
    "    convlayer3 = conv2d_with_pooling(convlayer2,weights['wconv3'],biases['bconv3'],1,2)\n",
    "    debugLog(convlayer3.get_shape())\n",
    "    \n",
    "    # Layer 4 - Flatten. Input = 2x2x256. Output = 1024.\n",
    "    # Input Volume = 1024 Output Volume = 1024\n",
    "    flattened_convlayer4 = tf.contrib.layers.flatten(convlayer3)   \n",
    "    debugLog(flattened_convlayer4.get_shape())\n",
    "    \n",
    "    # Layer 5 - Fully Connected #1. Input = 1024. Output = 240.\n",
    "    # Input Volume = 1024 Output Volume = 240\n",
    "    fc1 = tf.add(tf.matmul(flattened_convlayer4,weights['wfc1']),biases['bfc1'])\n",
    "    \n",
    "    # Activation.\n",
    "    fc1_activated = tf.nn.relu(fc1)\n",
    "\n",
    "    # Layer 6 - Fully Connected #2. Input = 240. Output = 168.\n",
    "    # Input Volume = 1024 Output Volume = 168\n",
    "    fc2 = tf.add(tf.matmul(fc1_activated,weights['wfc2']),biases['bfc2'])\n",
    "    \n",
    "    # Activation.\n",
    "    fc2_activated = tf.nn.relu(fc2)\n",
    "    \n",
    "    # Layer 7 - Drop Out\n",
    "    # Input Volume = 168 Output Volume = 168\n",
    "    fc2_after_dropout = tf.nn.dropout(fc2_activated, keep_prob)\n",
    "\n",
    "    # Layer 8 - Fully Connected #3. Input = 168. Output = 43.\n",
    "    # Input Volume = 168 Output Volume = 43\n",
    "    logits = tf.add(tf.matmul(fc2_after_dropout,weights['woutput']),biases['boutput'])\n",
    "    \n",
    "    return logits"
   ]
  },
  {
   "cell_type": "code",
   "execution_count": 34,
   "metadata": {
    "collapsed": false,
    "deletable": true,
    "editable": true
   },
   "outputs": [
    {
     "name": "stdout",
     "output_type": "stream",
     "text": [
      "\n",
      "(?, 14, 14, 16)\n",
      "\n",
      "(?, 5, 5, 32)\n",
      "\n",
      "(?, 2, 2, 256)\n",
      "\n",
      "(?, 1024)\n"
     ]
    }
   ],
   "source": [
    "rate = const_initial_learning_rate\n",
    "\n",
    "logits = LeNet(x,keep_prob)\n",
    "cross_entropy = tf.nn.softmax_cross_entropy_with_logits(labels=one_hot_y, logits=logits)\n",
    "loss_operation = tf.reduce_mean(cross_entropy)\n",
    "optimizer = tf.train.AdamOptimizer(learning_rate = rate)\n",
    "training_operation = optimizer.minimize(loss_operation)"
   ]
  },
  {
   "cell_type": "markdown",
   "metadata": {
    "deletable": true,
    "editable": true
   },
   "source": [
    "## Model Evaluation"
   ]
  },
  {
   "cell_type": "markdown",
   "metadata": {
    "deletable": true,
    "editable": true
   },
   "source": [
    "## Evaluating Accuracy"
   ]
  },
  {
   "cell_type": "code",
   "execution_count": 35,
   "metadata": {
    "collapsed": false,
    "deletable": true,
    "editable": true
   },
   "outputs": [],
   "source": [
    "# Model evaluation\n",
    "\n",
    "correct_prediction = tf.equal(tf.argmax(logits, 1), tf.argmax(one_hot_y, 1))\n",
    "accuracy_operation = tf.reduce_mean(tf.cast(correct_prediction, tf.float32))\n",
    "saver = tf.train.Saver()\n",
    "\n",
    "def evaluate(X_data, y_data):\n",
    "    num_examples = len(X_data)\n",
    "    total_accuracy = 0\n",
    "    sess = tf.get_default_session()\n",
    "    for offset in range(0, num_examples, BATCH_SIZE):\n",
    "        batch_x, batch_y = X_data[offset:offset+BATCH_SIZE], y_data[offset:offset+BATCH_SIZE]\n",
    "        accuracy = sess.run(accuracy_operation, feed_dict={x: batch_x, y: batch_y, keep_prob:1})\n",
    "        total_accuracy += (accuracy * len(batch_x))\n",
    "        progressIndicator(offset, num_examples)\n",
    "    return total_accuracy / num_examples"
   ]
  },
  {
   "cell_type": "markdown",
   "metadata": {
    "deletable": true,
    "editable": true
   },
   "source": [
    "## Evaluating Inaccuracy - Classes for which prediction is failing"
   ]
  },
  {
   "cell_type": "code",
   "execution_count": 42,
   "metadata": {
    "collapsed": true,
    "deletable": true,
    "editable": true
   },
   "outputs": [],
   "source": [
    "# Model evaluation\n",
    "\n",
    "incorrect_prediction = tf.not_equal(tf.argmax(logits, 1), tf.argmax(one_hot_y, 1))\n",
    "\n",
    "\n",
    "## Given the features, and labels, generates predictions from a pre-trained model ( saved on a checkpoint )\n",
    "## to obtain a dictionary with key as the class ID, and value as the total number of instances of mislabelling\n",
    "def evaluate_inaccuracy(X_data, y_data):\n",
    "    BATCH_SIZE_FOR_INACCURACY = 1\n",
    "    inaccurate_prediction_dict = dict()\n",
    "    num_examples = len(X_data)\n",
    "    sess = tf.get_default_session()\n",
    "    for offset in range(0, num_examples, BATCH_SIZE_FOR_INACCURACY):\n",
    "        batch_x, batch_y = X_data[offset:offset+BATCH_SIZE_FOR_INACCURACY], y_data[offset:offset+BATCH_SIZE_FOR_INACCURACY]\n",
    "        incorrect_prediction_value = sess.run(incorrect_prediction, feed_dict={x: batch_x, y: batch_y, keep_prob:1})\n",
    "        if incorrect_prediction_value == True:\n",
    "            current_number_of_incorrect_predictions_for_class = inaccurate_prediction_dict.get(y_data[offset],0)\n",
    "            current_number_of_incorrect_predictions_for_class = current_number_of_incorrect_predictions_for_class + 1\n",
    "            inaccurate_prediction_dict[y_data[offset]] = current_number_of_incorrect_predictions_for_class\n",
    "        progressIndicator(offset, num_examples)\n",
    "    return inaccurate_prediction_dict\n",
    "\n",
    "## Converts the dictionary returned above into a sorted list and returns the top two classes for which the model is performing badly\n",
    "def get_classes_with_worst_performance(inaccurate_prediction_dict, num_of_classes_to_return):\n",
    "    sorted_prediction_list = sorted(inaccurate_prediction_dict.items(), key=operator.itemgetter(1), reverse=True) # itemgetter(1) implies sort by value\n",
    "    top_classes_with_worst_performance = sorted_prediction_list[:num_of_classes_to_return]\n",
    "    return top_classes_with_worst_performance"
   ]
  },
  {
   "cell_type": "markdown",
   "metadata": {
    "deletable": true,
    "editable": true
   },
   "source": [
    "## Train and Validate"
   ]
  },
  {
   "cell_type": "code",
   "execution_count": null,
   "metadata": {
    "collapsed": false,
    "deletable": true,
    "editable": true
   },
   "outputs": [],
   "source": [
    "with tf.Session() as sess:\n",
    "\n",
    "    # If running training for the first time, uncomment sess.run, and comment out saver.restore, and if you want to\n",
    "    # resume training then leavel sess.run commented out and run saver.restore\n",
    "    sess.run(tf.global_variables_initializer())\n",
    "#     saver.restore(sess, tf.train.latest_checkpoint('.'))\n",
    "       \n",
    "    num_examples = len(X_train)\n",
    "    \n",
    "    debugLog(\"START -- Training and Validation ...\")\n",
    "    \n",
    "    start_overall_time = time.time()\n",
    "    validation_accuracy_list = list()\n",
    "    training_accuracy_list = list()\n",
    "    validation_accuracy = None\n",
    "    highest_validation_accuracy = 0\n",
    "    testing_accuracy = None\n",
    "    \n",
    "    epoch_counter = 0\n",
    "    \n",
    "    while epoch_counter < S and highest_validation_accuracy < const_desired_accuracy_for_validation_data:\n",
    "        X_train, y_train = shuffle(X_train, y_train)\n",
    "        \n",
    "        # Train over the training data in batches\n",
    "        start_training_time = time.time()\n",
    "        for offset in range(0, num_examples, BATCH_SIZE):\n",
    "            end = offset + BATCH_SIZE\n",
    "            batch_x, batch_y = X_train[offset:end], y_train[offset:end]\n",
    "            sess.run(training_operation, feed_dict={x: batch_x, y: batch_y, keep_prob:0.7})\n",
    "            progressIndicator(end,num_examples)\n",
    "        end_training_time = time.time()\n",
    "        training_execution_time = end_training_time - start_training_time\n",
    "        debugLog(\"Epoch : \" + str(epoch_counter) + \" Training time : \" + str(training_execution_time) )\n",
    "        \n",
    "        # Evaluate prediction accuracy against validation data\n",
    "        start_valdidation_time = time.time()\n",
    "        validation_accuracy = evaluate(X_valid, y_valid)\n",
    "        validation_accuracy_list.append(validation_accuracy)\n",
    "        end_valdidation_time = time.time()\n",
    "        validation_execution_time = end_valdidation_time - start_valdidation_time\n",
    "        debugLog(\"\")\n",
    "        debugLog(\"Epoch : \" + str(epoch_counter) + \" Validation time : \" + str(validation_execution_time) )\n",
    "        debugLog(\" Epoch {} - \".format(epoch_counter+1))\n",
    "        debugLog(\"Prediction Accuracy against validation data = {:.3f}\".format(validation_accuracy))\n",
    "        \n",
    "        if highest_validation_accuracy == 0:\n",
    "            highest_validation_accuracy = validation_accuracy\n",
    "            infoLog(\"Highest Validation accuracy was 0.\")\n",
    "        \n",
    "        # JL - Saving at each epoch, so that we can pick this up at any time, and so that the model is available for us to experiment during the training process as wel\n",
    "        if validation_accuracy >= highest_validation_accuracy:\n",
    "            infoLog(\"Validation accuracy was > highest_validation_accuracy\")\n",
    "            highest_validation_accuracy = validation_accuracy\n",
    "            if validation_accuracy >= const_minimum_validation_accuracy_to_save_to_disk:\n",
    "                debugLog(\"Validation accuracy was > const_minimum_validation_accuracy_to_save_to_disk\")\n",
    "                int_validation_accuracy = int(validation_accuracy*10000) # 0.9315 => 9315\n",
    "                model_name = const_model_name_to_save + str(int_validation_accuracy)\n",
    "                saver.save(sess, model_name)\n",
    "                debugLog(\"Saved model to Disk : \" + model_name)\n",
    "            else:\n",
    "                infoLog(\"Validation accuracy was < const_minimum_validation_accuracy_to_save_to_disk\")\n",
    "                infoLog(\"Validation accuracy : \" + str(validation_accuracy))\n",
    "        else:\n",
    "            infoLog(\"Validation accuracy was < highest_validation_accuracy\")\n",
    "            \n",
    "        if highest_validation_accuracy >= const_desired_accuracy_for_validation_data:\n",
    "            debugLog(\"Achieved desired validation accuracy of : \" + str(const_desired_accuracy_for_validation_data) + \" in epoch # : \" + str(epoch_counter))\n",
    "            \n",
    "        # Evaluate prediction accuracy against training data\n",
    "        debugLog(\"Evaluating prediction accuracy against training data...\")\n",
    "        start_training_accuracy_calculation_time = time.time()\n",
    "        training_accuracy = evaluate(X_train, y_train)\n",
    "        training_accuracy_list.append(training_accuracy)\n",
    "        end_training_accuracy_calculation_time = time.time()\n",
    "        training_accuracy_calculation_execution_time = end_training_accuracy_calculation_time - start_training_accuracy_calculation_time\n",
    "        debugLog(\"Epoch : \" + str(epoch_counter) + \" Training Accuracy Calculation time ( seconds ): \" + str(training_accuracy_calculation_execution_time) )\n",
    "        debugLog(\"Epoch {} - \".format(epoch_counter+1))\n",
    "        debugLog(\"Prediction Accuracy against training data = {:.3f}\".format(training_accuracy))\n",
    "        \n",
    "        epoch_counter = epoch_counter + 1\n",
    "    \n",
    "    end_overall_time = time.time()\n",
    "    overall_execution_time = end_overall_time - start_overall_time\n",
    "\n",
    "    debugLog(\"END -- Training and Validation...\")\n",
    "    \n",
    "    if highest_validation_accuracy >= const_desired_accuracy_for_validation_data:\n",
    "        debugLog(\"Proceeding to evaluate predictions for testing data.\")\n",
    "        # Evaluate prediction accuracy against testing data if we have achieved desired validationa accuracy\n",
    "        start_testing_accuracy_calculation_time = time.time()\n",
    "        testing_accuracy = evaluate(X_test, y_test)\n",
    "        end_testing_accuracy_calculation_time = time.time()\n",
    "        testing_accuracy_calculation_execution_time = end_testing_accuracy_calculation_time - start_testing_accuracy_calculation_time\n",
    "        debugLog(\"Testing Accuracy Calculation : \" + str(testing_accuracy_calculation_execution_time) )\n",
    "        debugLog(\"Prediction Accuracy against testing data = {:.3f}\".format(testing_accuracy))\n",
    "        \n",
    "    # Prepare Data to Save to Disk\n",
    "    performanceSummaryDict = {\"param_epochs\" : param_epochs,\n",
    "    \"param_batchsize\" : param_batchsize,\n",
    "    \"param_mean\" : param_mean,\n",
    "    \"param_standard_deviation\" : param_standard_deviation,\n",
    "    \"param_learning_rate\" : param_learning_rate,\n",
    "    \"param_activation_function\" : param_activation_function,\n",
    "    \"param_architecture_updates\" : param_architecture_updates,\n",
    "    \"param_preprocessing_updates\" : param_preprocessing_updates,\n",
    "    \"param_data_augmentation_updates\" : param_data_augmentation_updates, \n",
    "    \"param_pooling_function\" : param_pooling_function,\n",
    "    \"overall_execution_time\" : overall_execution_time,\n",
    "    \"average_training_and_validation_time\" : overall_execution_time/param_epochs,\n",
    "    \"validation_accuracy_trend\" : ','.join(map(str,validation_accuracy_list)),\n",
    "    \"training_accuracy_trend\" : ','.join(map(str,training_accuracy_list)),\n",
    "    \"validation_accuracy_on_last_epoch\" : validation_accuracy,\n",
    "    \"max_validation_accuracy\" : highest_validation_accuracy,\n",
    "    \"testing_dataset_accuracy\" : testing_accuracy}\n",
    "\n",
    "    # Prepare Performance Data to Disk\n",
    "    saveDataToDiskAsJson(performanceSummaryDict)\n",
    "    \n",
    "    # Notify of completion\n",
    "    makeSound()\n"
   ]
  },
  {
   "cell_type": "markdown",
   "metadata": {
    "deletable": true,
    "editable": true
   },
   "source": [
    "### Accuracy against Training data set"
   ]
  },
  {
   "cell_type": "markdown",
   "metadata": {
    "collapsed": true,
    "deletable": true,
    "editable": true
   },
   "source": [
    "### 99.7%"
   ]
  },
  {
   "cell_type": "code",
   "execution_count": 88,
   "metadata": {
    "collapsed": false,
    "deletable": true,
    "editable": true
   },
   "outputs": [
    {
     "name": "stdout",
     "output_type": "stream",
     "text": [
      "[============================================================] 99.7% ...\n",
      "Training Accuracy = 0.998\n"
     ]
    }
   ],
   "source": [
    "### Testing the final trained model against training data\n",
    "\n",
    "training_accuracy = None\n",
    "\n",
    "with tf.Session() as sess:\n",
    "    saver.restore(sess, tf.train.latest_checkpoint('.'))\n",
    "\n",
    "    training_accuracy = evaluate(X_train, y_train)\n",
    "    debugLog(\"Training Accuracy = {:.3f}\".format(training_accuracy))"
   ]
  },
  {
   "cell_type": "markdown",
   "metadata": {
    "deletable": true,
    "editable": true
   },
   "source": [
    "### Inaccuracy against Training data set\n",
    "\n",
    "Exploring the classes from the training data set which are being mis labelled by the model"
   ]
  },
  {
   "cell_type": "code",
   "execution_count": 39,
   "metadata": {
    "collapsed": false,
    "deletable": true,
    "editable": true
   },
   "outputs": [
    {
     "name": "stdout",
     "output_type": "stream",
     "text": [
      "[============================================================] 100.0% ...\r"
     ]
    }
   ],
   "source": [
    "###  Inaccuracy against Training data set\n",
    "\n",
    "y_train_inaccurate_classified_count_by_class_id_dict = dict()\n",
    "\n",
    "with tf.Session() as sess:\n",
    "    saver.restore(sess, tf.train.latest_checkpoint('.'))\n",
    "    y_train_inaccurate_classified_count_by_class_id_dict = evaluate_inaccuracy(X_train, y_train)\n",
    "    \n",
    "debugLog(\"Dictionary of class IDs and mis-labelling count for training data : \" + str(y_train_inaccurate_classified_count_by_class_id_dict))"
   ]
  },
  {
   "cell_type": "code",
   "execution_count": 75,
   "metadata": {
    "collapsed": false
   },
   "outputs": [
    {
     "name": "stdout",
     "output_type": "stream",
     "text": [
      "\n",
      "function: generate_class_distribution\n",
      "\n",
      "Labels Dictionary : {0: 180, 1: 1980, 2: 2010, 3: 1260, 4: 1770, 5: 1650, 6: 360, 7: 1290, 8: 1260, 9: 1320, 10: 1800, 11: 1170, 12: 1890, 13: 1920, 14: 690, 15: 540, 16: 360, 17: 990, 18: 1080, 19: 180, 20: 300, 21: 270, 22: 330, 23: 450, 24: 240, 25: 1350, 26: 540, 27: 210, 28: 480, 29: 240, 30: 390, 31: 690, 32: 210, 33: 599, 34: 360, 35: 1080, 36: 330, 37: 180, 38: 1860, 39: 270, 40: 300, 41: 210, 42: 210}\n",
      "\n",
      "Mean num classes per label: 809\n",
      "\n",
      "Standard Deviation of num classes per label: 619.420183705\n",
      "\n",
      "Max num classes per label : 2010\n",
      "\n",
      "Class ID : 0 ||| Mislabelled ratio : 0.0\n",
      "\n",
      "Class ID : 1 ||| Mislabelled ratio : 0.000505050505051\n",
      "\n",
      "Class ID : 2 ||| Mislabelled ratio : 0.0\n",
      "\n",
      "Class ID : 3 ||| Mislabelled ratio : 0.0\n",
      "\n",
      "Class ID : 4 ||| Mislabelled ratio : 0.0\n",
      "\n",
      "Class ID : 5 ||| Mislabelled ratio : 0.00606060606061\n",
      "\n",
      "Class ID : 6 ||| Mislabelled ratio : 0.0416666666667\n",
      "\n",
      "Class ID : 7 ||| Mislabelled ratio : 0.0139534883721\n",
      "\n",
      "Class ID : 8 ||| Mislabelled ratio : 0.0\n",
      "\n",
      "Class ID : 9 ||| Mislabelled ratio : 0.000757575757576\n",
      "\n",
      "Class ID : 10 ||| Mislabelled ratio : 0.0\n",
      "\n",
      "Class ID : 11 ||| Mislabelled ratio : 0.0017094017094\n",
      "\n",
      "Class ID : 12 ||| Mislabelled ratio : 0.0\n",
      "\n",
      "Class ID : 13 ||| Mislabelled ratio : 0.00260416666667\n",
      "\n",
      "Class ID : 14 ||| Mislabelled ratio : 0.0\n",
      "\n",
      "Class ID : 15 ||| Mislabelled ratio : 0.0\n",
      "\n",
      "Class ID : 16 ||| Mislabelled ratio : 0.00277777777778\n",
      "\n",
      "Class ID : 17 ||| Mislabelled ratio : 0.0010101010101\n",
      "\n",
      "Class ID : 18 ||| Mislabelled ratio : 0.000925925925926\n",
      "\n",
      "Class ID : 19 ||| Mislabelled ratio : 0.0\n",
      "\n",
      "Class ID : 20 ||| Mislabelled ratio : 0.0\n",
      "\n",
      "Class ID : 21 ||| Mislabelled ratio : 0.0037037037037\n",
      "\n",
      "Class ID : 22 ||| Mislabelled ratio : 0.0\n",
      "\n",
      "Class ID : 23 ||| Mislabelled ratio : 0.00222222222222\n",
      "\n",
      "Class ID : 24 ||| Mislabelled ratio : 0.0\n",
      "\n",
      "Class ID : 25 ||| Mislabelled ratio : 0.0\n",
      "\n",
      "Class ID : 26 ||| Mislabelled ratio : 0.0\n",
      "\n",
      "Class ID : 27 ||| Mislabelled ratio : 0.0\n",
      "\n",
      "Class ID : 28 ||| Mislabelled ratio : 0.00208333333333\n",
      "\n",
      "Class ID : 29 ||| Mislabelled ratio : 0.0\n",
      "\n",
      "Class ID : 30 ||| Mislabelled ratio : 0.0102564102564\n",
      "\n",
      "Class ID : 31 ||| Mislabelled ratio : 0.0\n",
      "\n",
      "Class ID : 32 ||| Mislabelled ratio : 0.0\n",
      "\n",
      "Class ID : 33 ||| Mislabelled ratio : 0.0016694490818\n",
      "\n",
      "Class ID : 34 ||| Mislabelled ratio : 0.0\n",
      "\n",
      "Class ID : 35 ||| Mislabelled ratio : 0.0\n",
      "\n",
      "Class ID : 36 ||| Mislabelled ratio : 0.0030303030303\n",
      "\n",
      "Class ID : 37 ||| Mislabelled ratio : 0.0\n",
      "\n",
      "Class ID : 38 ||| Mislabelled ratio : 0.0\n",
      "\n",
      "Class ID : 39 ||| Mislabelled ratio : 0.0\n",
      "\n",
      "Class ID : 40 ||| Mislabelled ratio : 0.0\n",
      "\n",
      "Class ID : 41 ||| Mislabelled ratio : 0.0\n",
      "\n",
      "Class ID : 42 ||| Mislabelled ratio : 0.00952380952381\n"
     ]
    }
   ],
   "source": [
    "# Average out the mislabellings by dividing count of mislabelled, with total number of samples for that class\n",
    "train_labels_count_dict, train_mean,train_std_dev, train_max_samples_per_class = generate_class_distribution(y_train)\n",
    "\n",
    "train_mislabelled_ratio_by_class_dict = dict()\n",
    "\n",
    "for class_id, total_samples in train_labels_count_dict.items():\n",
    "    mislabelled_count = y_train_inaccurate_classified_count_by_class_id_dict.get(class_id,0)\n",
    "    mislabelled_ratio = mislabelled_count / total_samples\n",
    "    train_mislabelled_ratio_by_class_dict[class_id] = mislabelled_ratio\n",
    "    debugLog(\"Training Class ID : \" + str(class_id) + \" ||| Mislabelled ratio : \" + str(mislabelled_ratio))\n"
   ]
  },
  {
   "cell_type": "code",
   "execution_count": 84,
   "metadata": {
    "collapsed": false,
    "deletable": true,
    "editable": true
   },
   "outputs": [
    {
     "name": "stdout",
     "output_type": "stream",
     "text": [
      "\n",
      "List of top mislabelled training data classes : [(6, 0.041666666666666664), (7, 0.013953488372093023), (30, 0.010256410256410256)]\n",
      "\n",
      " Training Class: End of speed limit (80km/h) ||| Mislabelled count : 0.0416666666667\n",
      "\n",
      " Training Class: Speed limit (100km/h) ||| Mislabelled count : 0.0139534883721\n",
      "\n",
      " Training Class: Beware of ice/snow ||| Mislabelled count : 0.0102564102564\n"
     ]
    }
   ],
   "source": [
    "# Pick Top mislabelled classes in training set\n",
    "\n",
    "top_mislabelled_training_data_list = get_classes_with_worst_performance(train_mislabelled_ratio_by_class_dict,const_get_top_x_misclassified_classes)\n",
    "debugLog(\"List of top mislabelled training data classes : \" + str(top_mislabelled_training_data_list))\n",
    "\n",
    "for (class_id,mislabelled_count) in top_mislabelled_training_data_list:\n",
    "    debugLog(\" Training Class: \" + getSignNameForClassId(class_id) + \" ||| Mislabelled count : \" + str(mislabelled_count))"
   ]
  },
  {
   "cell_type": "markdown",
   "metadata": {
    "deletable": true,
    "editable": true
   },
   "source": [
    "### Accuracy against Validation data set"
   ]
  },
  {
   "cell_type": "markdown",
   "metadata": {
    "collapsed": true,
    "deletable": true,
    "editable": true
   },
   "source": [
    "### 93.94%"
   ]
  },
  {
   "cell_type": "markdown",
   "metadata": {
    "deletable": true,
    "editable": true
   },
   "source": [
    "Because the accuracy against the validation set is lower than that of the training set, this implies some level of underfitting. "
   ]
  },
  {
   "cell_type": "code",
   "execution_count": 89,
   "metadata": {
    "collapsed": false,
    "deletable": true,
    "editable": true
   },
   "outputs": [
    {
     "name": "stdout",
     "output_type": "stream",
     "text": [
      "[===========================================================-] 98.7% ...\n",
      "Validation Accuracy = 0.939\n"
     ]
    }
   ],
   "source": [
    "\n",
    "validation_accuracy = None\n",
    "\n",
    "### Testing the final trained model against validation data\n",
    "with tf.Session() as sess:\n",
    "    saver.restore(sess, tf.train.latest_checkpoint('.'))\n",
    "\n",
    "    validation_accuracy = evaluate(X_valid, y_valid)\n",
    "    debugLog(\"Validation Accuracy = {:.3f}\".format(validation_accuracy))"
   ]
  },
  {
   "cell_type": "markdown",
   "metadata": {
    "deletable": true,
    "editable": true
   },
   "source": [
    "### Inaccuracy against Validation data set\n",
    "\n",
    "Evaluate the classes in validation set for which the predictions are incorrect"
   ]
  },
  {
   "cell_type": "code",
   "execution_count": 48,
   "metadata": {
    "collapsed": false,
    "deletable": true,
    "editable": true
   },
   "outputs": [
    {
     "name": "stdout",
     "output_type": "stream",
     "text": [
      "[============================================================] 100.0% ...\n",
      "Dictionary of class IDs and mis-labelling count for validation data : {0: 7, 1: 18, 2: 1, 3: 2, 5: 19, 6: 2, 7: 7, 8: 8, 9: 13, 10: 1, 11: 4, 13: 1, 15: 5, 16: 28, 17: 4, 18: 2, 20: 31, 21: 8, 23: 5, 24: 22, 25: 18, 26: 3, 27: 7, 29: 3, 30: 4, 31: 7, 32: 1, 33: 11, 36: 1, 38: 2, 40: 18, 41: 1, 42: 3}\n"
     ]
    }
   ],
   "source": [
    "###  Inaccuracy against Validation data set\n",
    "\n",
    "y_valid_inaccurate_classified_count_by_class_id_dict = dict()\n",
    "\n",
    "with tf.Session() as sess:\n",
    "    saver.restore(sess, tf.train.latest_checkpoint('.'))\n",
    "    y_valid_inaccurate_classified_count_by_class_id_dict = evaluate_inaccuracy(X_valid, y_valid)\n",
    "    \n",
    "debugLog(\"Dictionary of class IDs and mis-labelling count for validation data : \" + str(y_valid_inaccurate_classified_count_by_class_id_dict))"
   ]
  },
  {
   "cell_type": "code",
   "execution_count": 81,
   "metadata": {
    "collapsed": false
   },
   "outputs": [
    {
     "name": "stdout",
     "output_type": "stream",
     "text": [
      "\n",
      "function: generate_class_distribution\n",
      "\n",
      "Labels Dictionary : {0: 30, 1: 240, 2: 240, 3: 150, 4: 210, 5: 210, 6: 60, 7: 150, 8: 150, 9: 150, 10: 210, 11: 150, 12: 210, 13: 240, 14: 90, 15: 90, 16: 60, 17: 120, 18: 120, 19: 30, 20: 60, 21: 60, 22: 60, 23: 60, 24: 30, 25: 150, 26: 60, 27: 30, 28: 60, 29: 30, 30: 60, 31: 90, 32: 30, 33: 90, 34: 60, 35: 120, 36: 60, 37: 30, 38: 210, 39: 30, 40: 60, 41: 30, 42: 30}\n",
      "\n",
      "Mean num classes per label: 102\n",
      "\n",
      "Standard Deviation of num classes per label: 68.8474222468\n",
      "\n",
      "Max num classes per label : 240\n",
      "\n",
      "Class ID : 0 ||| Mislabelled ratio : 0.233333333333\n",
      "\n",
      "Class ID : 1 ||| Mislabelled ratio : 0.075\n",
      "\n",
      "Class ID : 2 ||| Mislabelled ratio : 0.00416666666667\n",
      "\n",
      "Class ID : 3 ||| Mislabelled ratio : 0.0133333333333\n",
      "\n",
      "Class ID : 4 ||| Mislabelled ratio : 0.0\n",
      "\n",
      "Class ID : 5 ||| Mislabelled ratio : 0.0904761904762\n",
      "\n",
      "Class ID : 6 ||| Mislabelled ratio : 0.0333333333333\n",
      "\n",
      "Class ID : 7 ||| Mislabelled ratio : 0.0466666666667\n",
      "\n",
      "Class ID : 8 ||| Mislabelled ratio : 0.0533333333333\n",
      "\n",
      "Class ID : 9 ||| Mislabelled ratio : 0.0866666666667\n",
      "\n",
      "Class ID : 10 ||| Mislabelled ratio : 0.0047619047619\n",
      "\n",
      "Class ID : 11 ||| Mislabelled ratio : 0.0266666666667\n",
      "\n",
      "Class ID : 12 ||| Mislabelled ratio : 0.0\n",
      "\n",
      "Class ID : 13 ||| Mislabelled ratio : 0.00416666666667\n",
      "\n",
      "Class ID : 14 ||| Mislabelled ratio : 0.0\n",
      "\n",
      "Class ID : 15 ||| Mislabelled ratio : 0.0555555555556\n",
      "\n",
      "Class ID : 16 ||| Mislabelled ratio : 0.466666666667\n",
      "\n",
      "Class ID : 17 ||| Mislabelled ratio : 0.0333333333333\n",
      "\n",
      "Class ID : 18 ||| Mislabelled ratio : 0.0166666666667\n",
      "\n",
      "Class ID : 19 ||| Mislabelled ratio : 0.0\n",
      "\n",
      "Class ID : 20 ||| Mislabelled ratio : 0.516666666667\n",
      "\n",
      "Class ID : 21 ||| Mislabelled ratio : 0.133333333333\n",
      "\n",
      "Class ID : 22 ||| Mislabelled ratio : 0.0\n",
      "\n",
      "Class ID : 23 ||| Mislabelled ratio : 0.0833333333333\n",
      "\n",
      "Class ID : 24 ||| Mislabelled ratio : 0.733333333333\n",
      "\n",
      "Class ID : 25 ||| Mislabelled ratio : 0.12\n",
      "\n",
      "Class ID : 26 ||| Mislabelled ratio : 0.05\n",
      "\n",
      "Class ID : 27 ||| Mislabelled ratio : 0.233333333333\n",
      "\n",
      "Class ID : 28 ||| Mislabelled ratio : 0.0\n",
      "\n",
      "Class ID : 29 ||| Mislabelled ratio : 0.1\n",
      "\n",
      "Class ID : 30 ||| Mislabelled ratio : 0.0666666666667\n",
      "\n",
      "Class ID : 31 ||| Mislabelled ratio : 0.0777777777778\n",
      "\n",
      "Class ID : 32 ||| Mislabelled ratio : 0.0333333333333\n",
      "\n",
      "Class ID : 33 ||| Mislabelled ratio : 0.122222222222\n",
      "\n",
      "Class ID : 34 ||| Mislabelled ratio : 0.0\n",
      "\n",
      "Class ID : 35 ||| Mislabelled ratio : 0.0\n",
      "\n",
      "Class ID : 36 ||| Mislabelled ratio : 0.0166666666667\n",
      "\n",
      "Class ID : 37 ||| Mislabelled ratio : 0.0\n",
      "\n",
      "Class ID : 38 ||| Mislabelled ratio : 0.00952380952381\n",
      "\n",
      "Class ID : 39 ||| Mislabelled ratio : 0.0\n",
      "\n",
      "Class ID : 40 ||| Mislabelled ratio : 0.3\n",
      "\n",
      "Class ID : 41 ||| Mislabelled ratio : 0.0333333333333\n",
      "\n",
      "Class ID : 42 ||| Mislabelled ratio : 0.1\n"
     ]
    }
   ],
   "source": [
    "# Average out the mislabellings by dividing count of mislabelled, with total number of samples for that class\n",
    "valid_labels_count_dict, valid_mean,valid_std_dev, valid_max_samples_per_class = generate_class_distribution(y_valid)\n",
    "\n",
    "valid_mislabelled_ratio_by_class_dict = dict()\n",
    "\n",
    "for class_id, total_samples in valid_labels_count_dict.items():\n",
    "    mislabelled_count = y_valid_inaccurate_classified_count_by_class_id_dict.get(class_id,0)\n",
    "    mislabelled_ratio = mislabelled_count / total_samples\n",
    "    valid_mislabelled_ratio_by_class_dict[class_id] = mislabelled_ratio\n",
    "    debugLog(\"Validation Class ID : \" + str(class_id) + \" ||| Mislabelled ratio : \" + str(mislabelled_ratio))"
   ]
  },
  {
   "cell_type": "code",
   "execution_count": 82,
   "metadata": {
    "collapsed": false,
    "deletable": true,
    "editable": true
   },
   "outputs": [
    {
     "data": {
      "image/png": "[encoded data removed]",
      "text/plain": [
       "<matplotlib.figure.Figure at 0x7f823ceafcf8>"
      ]
     },
     "metadata": {},
     "output_type": "display_data"
    }
   ],
   "source": [
    "# Visualize distribution of mislabelled classes in the validation set\n",
    "\n",
    "visualize_class_distribution(valid_mislabelled_ratio_by_class_dict)"
   ]
  },
  {
   "cell_type": "code",
   "execution_count": 83,
   "metadata": {
    "collapsed": false,
    "deletable": true,
    "editable": true
   },
   "outputs": [
    {
     "name": "stdout",
     "output_type": "stream",
     "text": [
      "\n",
      "List of top mislabelled validation data classes : [(24, 0.73333333333333328), (20, 0.51666666666666672), (16, 0.46666666666666667)]\n",
      "\n",
      "Class: Road narrows on the right ||| Mislabelled count : 0.733333333333\n",
      "\n",
      "Class: Dangerous curve to the right ||| Mislabelled count : 0.516666666667\n",
      "\n",
      "Class: Vehicles over 3.5 metric tons prohibited ||| Mislabelled count : 0.466666666667\n"
     ]
    }
   ],
   "source": [
    "# Pick Top mislabelled classes in validation set\n",
    "\n",
    "top_mislabelled_validation_data_list = get_classes_with_worst_performance(valid_mislabelled_ratio_by_class_dict,const_get_top_x_misclassified_classes)\n",
    "debugLog(\"List of top mislabelled validation data classes : \" + str(top_mislabelled_validation_data_list))\n",
    "\n",
    "for (class_id,mislabelled_count) in top_mislabelled_validation_data_list:\n",
    "    debugLog(\"Class: \" + getSignNameForClassId(class_id) + \" ||| Mislabelled ratio : \" + str(mislabelled_count))\n",
    "    "
   ]
  },
  {
   "cell_type": "markdown",
   "metadata": {},
   "source": [
    "### Detect overfitting versus underfitting"
   ]
  },
  {
   "cell_type": "code",
   "execution_count": 94,
   "metadata": {
    "collapsed": false
   },
   "outputs": [
    {
     "name": "stdout",
     "output_type": "stream",
     "text": [
      "\n",
      "Validation_accuracy : 0.939455782097 < Training_accuracy,0.998103393793 therefore we have under fitting.\n"
     ]
    }
   ],
   "source": [
    "\n",
    "if validation_accuracy > training_accuracy:\n",
    "    debugLog(\"Validation_accuracy : \" + str(validation_accuracy) + \" > Training_accuracy,\"  + str(training_accuracy) + \" therefore we have over fitting.\")\n",
    "else:\n",
    "    debugLog(\"Validation_accuracy : \" + str(validation_accuracy) + \" < Training_accuracy,\" + str(training_accuracy) + \" therefore we have under fitting.\")\n",
    "    "
   ]
  },
  {
   "cell_type": "markdown",
   "metadata": {
    "deletable": true,
    "editable": true
   },
   "source": [
    "### Accuracy against Testing data set"
   ]
  },
  {
   "cell_type": "markdown",
   "metadata": {
    "deletable": true,
    "editable": true
   },
   "source": [
    "### 91.7%"
   ]
  },
  {
   "cell_type": "code",
   "execution_count": 90,
   "metadata": {
    "collapsed": false,
    "deletable": true,
    "editable": true
   },
   "outputs": [
    {
     "name": "stdout",
     "output_type": "stream",
     "text": [
      "[============================================================] 99.3% ...\n",
      "Test Accuracy = 0.917\n"
     ]
    }
   ],
   "source": [
    "test_accuracy = None\n",
    "\n",
    "### Testing the trained model against test data\n",
    "with tf.Session() as sess:\n",
    "    saver.restore(sess, tf.train.latest_checkpoint('.'))\n",
    "\n",
    "    test_accuracy = evaluate(X_test, y_test)\n",
    "    debugLog(\"Test Accuracy = {:.3f}\".format(test_accuracy))"
   ]
  },
  {
   "cell_type": "markdown",
   "metadata": {
    "deletable": true,
    "editable": true
   },
   "source": [
    "### Inaccuracy against Testing data set\n",
    "\n",
    "Evaluate the classes in testing set for which the predictions are incorrect"
   ]
  },
  {
   "cell_type": "code",
   "execution_count": 51,
   "metadata": {
    "collapsed": false,
    "deletable": true,
    "editable": true
   },
   "outputs": [
    {
     "name": "stdout",
     "output_type": "stream",
     "text": [
      "[============================================================] 100.0% ...\n",
      "Dictionary of class IDs and mis-labelling count for testing data : {0: 3, 1: 23, 2: 35, 3: 41, 4: 30, 5: 121, 6: 35, 7: 85, 8: 42, 9: 21, 10: 17, 11: 17, 12: 27, 13: 11, 15: 49, 17: 36, 18: 43, 20: 37, 21: 29, 22: 20, 23: 2, 24: 49, 25: 30, 26: 33, 27: 36, 28: 8, 29: 3, 30: 33, 31: 44, 32: 1, 35: 15, 36: 1, 38: 28, 39: 10, 40: 12, 41: 7, 42: 20}\n"
     ]
    }
   ],
   "source": [
    "### Inaccuracy against Testing data set\n",
    "\n",
    "y_test_inaccurate_classified_count_by_class_id_dict = dict()\n",
    "\n",
    "with tf.Session() as sess:\n",
    "    saver.restore(sess, tf.train.latest_checkpoint('.'))\n",
    "    y_test_inaccurate_classified_count_by_class_id_dict = evaluate_inaccuracy(X_test, y_test)\n",
    "    \n",
    "debugLog(\"Dictionary of class IDs and mis-labelling count for testing data : \" + str(y_test_inaccurate_classified_count_by_class_id_dict))"
   ]
  },
  {
   "cell_type": "code",
   "execution_count": 85,
   "metadata": {
    "collapsed": false
   },
   "outputs": [
    {
     "name": "stdout",
     "output_type": "stream",
     "text": [
      "\n",
      "function: generate_class_distribution\n",
      "\n",
      "Labels Dictionary : {0: 60, 1: 720, 2: 750, 3: 450, 4: 660, 5: 630, 6: 150, 7: 450, 8: 450, 9: 480, 10: 660, 11: 420, 12: 690, 13: 720, 14: 270, 15: 210, 16: 150, 17: 360, 18: 390, 19: 60, 20: 90, 21: 90, 22: 120, 23: 150, 24: 90, 25: 480, 26: 180, 27: 60, 28: 150, 29: 90, 30: 150, 31: 270, 32: 60, 33: 210, 34: 120, 35: 390, 36: 120, 37: 60, 38: 690, 39: 90, 40: 90, 41: 60, 42: 90}\n",
      "\n",
      "Mean num classes per label: 293\n",
      "\n",
      "Standard Deviation of num classes per label: 230.711974426\n",
      "\n",
      "Max num classes per label : 750\n",
      "\n",
      "Test Class ID : 0 ||| Mislabelled ratio : 0.05\n",
      "\n",
      "Test Class ID : 1 ||| Mislabelled ratio : 0.0319444444444\n",
      "\n",
      "Test Class ID : 2 ||| Mislabelled ratio : 0.0466666666667\n",
      "\n",
      "Test Class ID : 3 ||| Mislabelled ratio : 0.0911111111111\n",
      "\n",
      "Test Class ID : 4 ||| Mislabelled ratio : 0.0454545454545\n",
      "\n",
      "Test Class ID : 5 ||| Mislabelled ratio : 0.192063492063\n",
      "\n",
      "Test Class ID : 6 ||| Mislabelled ratio : 0.233333333333\n",
      "\n",
      "Test Class ID : 7 ||| Mislabelled ratio : 0.188888888889\n",
      "\n",
      "Test Class ID : 8 ||| Mislabelled ratio : 0.0933333333333\n",
      "\n",
      "Test Class ID : 9 ||| Mislabelled ratio : 0.04375\n",
      "\n",
      "Test Class ID : 10 ||| Mislabelled ratio : 0.0257575757576\n",
      "\n",
      "Test Class ID : 11 ||| Mislabelled ratio : 0.0404761904762\n",
      "\n",
      "Test Class ID : 12 ||| Mislabelled ratio : 0.0391304347826\n",
      "\n",
      "Test Class ID : 13 ||| Mislabelled ratio : 0.0152777777778\n",
      "\n",
      "Test Class ID : 14 ||| Mislabelled ratio : 0.0\n",
      "\n",
      "Test Class ID : 15 ||| Mislabelled ratio : 0.233333333333\n",
      "\n",
      "Test Class ID : 16 ||| Mislabelled ratio : 0.0\n",
      "\n",
      "Test Class ID : 17 ||| Mislabelled ratio : 0.1\n",
      "\n",
      "Test Class ID : 18 ||| Mislabelled ratio : 0.110256410256\n",
      "\n",
      "Test Class ID : 19 ||| Mislabelled ratio : 0.0\n",
      "\n",
      "Test Class ID : 20 ||| Mislabelled ratio : 0.411111111111\n",
      "\n",
      "Test Class ID : 21 ||| Mislabelled ratio : 0.322222222222\n",
      "\n",
      "Test Class ID : 22 ||| Mislabelled ratio : 0.166666666667\n",
      "\n",
      "Test Class ID : 23 ||| Mislabelled ratio : 0.0133333333333\n",
      "\n",
      "Test Class ID : 24 ||| Mislabelled ratio : 0.544444444444\n",
      "\n",
      "Test Class ID : 25 ||| Mislabelled ratio : 0.0625\n",
      "\n",
      "Test Class ID : 26 ||| Mislabelled ratio : 0.183333333333\n",
      "\n",
      "Test Class ID : 27 ||| Mislabelled ratio : 0.6\n",
      "\n",
      "Test Class ID : 28 ||| Mislabelled ratio : 0.0533333333333\n",
      "\n",
      "Test Class ID : 29 ||| Mislabelled ratio : 0.0333333333333\n",
      "\n",
      "Test Class ID : 30 ||| Mislabelled ratio : 0.22\n",
      "\n",
      "Test Class ID : 31 ||| Mislabelled ratio : 0.162962962963\n",
      "\n",
      "Test Class ID : 32 ||| Mislabelled ratio : 0.0166666666667\n",
      "\n",
      "Test Class ID : 33 ||| Mislabelled ratio : 0.0\n",
      "\n",
      "Test Class ID : 34 ||| Mislabelled ratio : 0.0\n",
      "\n",
      "Test Class ID : 35 ||| Mislabelled ratio : 0.0384615384615\n",
      "\n",
      "Test Class ID : 36 ||| Mislabelled ratio : 0.00833333333333\n",
      "\n",
      "Test Class ID : 37 ||| Mislabelled ratio : 0.0\n",
      "\n",
      "Test Class ID : 38 ||| Mislabelled ratio : 0.0405797101449\n",
      "\n",
      "Test Class ID : 39 ||| Mislabelled ratio : 0.111111111111\n",
      "\n",
      "Test Class ID : 40 ||| Mislabelled ratio : 0.133333333333\n",
      "\n",
      "Test Class ID : 41 ||| Mislabelled ratio : 0.116666666667\n",
      "\n",
      "Test Class ID : 42 ||| Mislabelled ratio : 0.222222222222\n"
     ]
    }
   ],
   "source": [
    "# Average out the mislabellings by dividing count of mislabelled, with total number of samples for that class\n",
    "test_labels_count_dict, test_mean, test_std_dev, test_max_samples_per_class = generate_class_distribution(y_test)\n",
    "\n",
    "test_mislabelled_ratio_by_class_dict = dict()\n",
    "\n",
    "for class_id, total_samples in test_labels_count_dict.items():\n",
    "    mislabelled_count = y_test_inaccurate_classified_count_by_class_id_dict.get(class_id,0)\n",
    "    mislabelled_ratio = mislabelled_count / total_samples\n",
    "    test_mislabelled_ratio_by_class_dict[class_id] = mislabelled_ratio\n",
    "    debugLog(\"Test Class ID : \" + str(class_id) + \" ||| Mislabelled ratio : \" + str(mislabelled_ratio))"
   ]
  },
  {
   "cell_type": "code",
   "execution_count": 86,
   "metadata": {
    "collapsed": false,
    "deletable": true,
    "editable": true
   },
   "outputs": [
    {
     "data": {
      "image/png": "[encoded data removed]",
      "text/plain": [
       "<matplotlib.figure.Figure at 0x7f823c17ff60>"
      ]
     },
     "metadata": {},
     "output_type": "display_data"
    }
   ],
   "source": [
    "# Visualize distribution of mislabelled classes in the test set\n",
    "\n",
    "visualize_class_distribution(test_mislabelled_ratio_by_class_dict)"
   ]
  },
  {
   "cell_type": "code",
   "execution_count": 87,
   "metadata": {
    "collapsed": false,
    "deletable": true,
    "editable": true
   },
   "outputs": [
    {
     "name": "stdout",
     "output_type": "stream",
     "text": [
      "\n",
      "List of top mislabelled test data classes : [(27, 0.59999999999999998), (24, 0.5444444444444444), (20, 0.41111111111111109)]\n",
      "\n",
      "Class: Pedestrians ||| Mislabelled count : 0.6\n",
      "\n",
      "Class: Road narrows on the right ||| Mislabelled count : 0.544444444444\n",
      "\n",
      "Class: Dangerous curve to the right ||| Mislabelled count : 0.411111111111\n"
     ]
    }
   ],
   "source": [
    "# Pick Top mislabelled classes in validation set\n",
    "\n",
    "top_mislabelled_test_data_list = get_classes_with_worst_performance(test_mislabelled_ratio_by_class_dict,const_get_top_x_misclassified_classes)\n",
    "debugLog(\"List of top mislabelled test data classes : \" + str(top_mislabelled_test_data_list))\n",
    "\n",
    "for (class_id,mislabelled_count) in top_mislabelled_test_data_list:\n",
    "    debugLog(\"Class: \" + getSignNameForClassId(class_id) + \" ||| Mislabelled ratio : \" + str(mislabelled_count))"
   ]
  },
  {
   "cell_type": "markdown",
   "metadata": {
    "deletable": true,
    "editable": true
   },
   "source": [
    "---\n",
    "\n",
    "## Step 3: Test a Model on New Images\n",
    "\n",
    "To give yourself more insight into how your model is working, download at least five pictures of German traffic signs from the web and use your model to predict the traffic sign type.\n",
    "\n",
    "You may find `signnames.csv` useful as it contains mappings from the class id (integer) to the actual sign name."
   ]
  },
  {
   "cell_type": "markdown",
   "metadata": {
    "deletable": true,
    "editable": true
   },
   "source": [
    "### Load and Output the Images"
   ]
  },
  {
   "cell_type": "code",
   "execution_count": 58,
   "metadata": {
    "collapsed": false,
    "deletable": true,
    "editable": true
   },
   "outputs": [
    {
     "name": "stdout",
     "output_type": "stream",
     "text": [
      "\n",
      "NewImages/10.gif - Original image shape : (80, 120, 4)\n",
      "Resized image shape - (32, 32, 3)\n",
      "\n",
      "NewImages/10.gif Resized and converted to three channels - image shape : (32, 32, 3)\n",
      "\n",
      "NewImages/13.gif - Original image shape : (80, 120, 4)\n",
      "Resized image shape - (32, 32, 3)\n",
      "\n",
      "NewImages/13.gif Resized and converted to three channels - image shape : (32, 32, 3)\n",
      "\n",
      "NewImages/22.gif - Original image shape : (80, 120, 4)\n",
      "Resized image shape - (32, 32, 3)\n",
      "\n",
      "NewImages/22.gif Resized and converted to three channels - image shape : (32, 32, 3)\n",
      "\n",
      "NewImages/25.gif - Original image shape : (80, 120, 4)\n",
      "Resized image shape - (32, 32, 3)\n",
      "\n",
      "NewImages/25.gif Resized and converted to three channels - image shape : (32, 32, 3)\n",
      "\n",
      "NewImages/26.gif - Original image shape : (80, 120, 4)\n",
      "Resized image shape - (32, 32, 3)\n",
      "\n",
      "NewImages/26.gif Resized and converted to three channels - image shape : (32, 32, 3)\n",
      "\n",
      "NewImages/27.gif - Original image shape : (80, 120, 4)\n",
      "Resized image shape - (32, 32, 3)\n",
      "\n",
      "NewImages/27.gif Resized and converted to three channels - image shape : (32, 32, 3)\n",
      "\n",
      "NewImages/5.gif - Original image shape : (80, 120, 4)\n",
      "Resized image shape - (32, 32, 3)\n",
      "\n",
      "NewImages/5.gif Resized and converted to three channels - image shape : (32, 32, 3)\n",
      "\n",
      "NewImages/9.gif - Original image shape : (80, 120, 4)\n",
      "Resized image shape - (32, 32, 3)\n",
      "\n",
      "NewImages/9.gif Resized and converted to three channels - image shape : (32, 32, 3)\n",
      "\n",
      "NewImages/unknown.gif - Original image shape : (80, 120, 4)\n",
      "Resized image shape - (32, 32, 3)\n",
      "\n",
      "NewImages/unknown.gif Resized and converted to three channels - image shape : (32, 32, 3)\n",
      "\n",
      "NewImages/unknown2.gif - Original image shape : (80, 120, 4)\n",
      "Resized image shape - (32, 32, 3)\n",
      "\n",
      "NewImages/unknown2.gif Resized and converted to three channels - image shape : (32, 32, 3)\n",
      "\n",
      "(10, 32, 32, 3)\n"
     ]
    },
    {
     "data": {
      "image/png": "[encoded data removed]",
      "text/plain": [
       "<matplotlib.figure.Figure at 0x7f823d244780>"
      ]
     },
     "metadata": {},
     "output_type": "display_data"
    },
    {
     "data": {
      "image/png": "[encoded data removed]",
      "text/plain": [
       "<matplotlib.figure.Figure at 0x7f823d190828>"
      ]
     },
     "metadata": {},
     "output_type": "display_data"
    },
    {
     "data": {
      "image/png": "[encoded data removed]",
      "text/plain": [
       "<matplotlib.figure.Figure at 0x7f823c186160>"
      ]
     },
     "metadata": {},
     "output_type": "display_data"
    },
    {
     "data": {
      "image/png": "[encoded data removed]",
      "text/plain": [
       "<matplotlib.figure.Figure at 0x7f823c1bfb38>"
      ]
     },
     "metadata": {},
     "output_type": "display_data"
    },
    {
     "data": {
      "image/png": "[encoded data removed]",
      "text/plain": [
       "<matplotlib.figure.Figure at 0x7f823c1c8710>"
      ]
     },
     "metadata": {},
     "output_type": "display_data"
    },
    {
     "data": {
      "image/png": "[encoded data removed]",
      "text/plain": [
       "<matplotlib.figure.Figure at 0x7f823d16db38>"
      ]
     },
     "metadata": {},
     "output_type": "display_data"
    },
    {
     "data": {
      "image/png": "[encoded data removed]",
      "text/plain": [
       "<matplotlib.figure.Figure at 0x7f823d0bc0f0>"
      ]
     },
     "metadata": {},
     "output_type": "display_data"
    },
    {
     "data": {
      "image/png": "[encoded data removed]",
      "text/plain": [
       "<matplotlib.figure.Figure at 0x7f823d08e518>"
      ]
     },
     "metadata": {},
     "output_type": "display_data"
    },
    {
     "data": {
      "image/png": "[encoded data removed]",
      "text/plain": [
       "<matplotlib.figure.Figure at 0x7f823d057a90>"
      ]
     },
     "metadata": {},
     "output_type": "display_data"
    },
    {
     "data": {
      "image/png": "[encoded data removed]",
      "text/plain": [
       "<matplotlib.figure.Figure at 0x7f823d029eb8>"
      ]
     },
     "metadata": {},
     "output_type": "display_data"
    }
   ],
   "source": [
    "## Load the images from the folder 'const_new_images_folder'\n",
    "## Reduce dimensions to 32x32 so that they are compatible with our network\n",
    "## Reduce depth from 4 channels to 3 channels by discarding the alpha channel so that this is compatible with our network\n",
    "## Visualize the resized image\n",
    "\n",
    "def load_normalize_and_visualize_new_images():\n",
    "    new_images_list = list()\n",
    "    for filename in os.listdir(const_new_images_folder):\n",
    "        if filename.endswith(\".gif\"): \n",
    "            image_file_relative_path = os.path.join(const_new_images_folder, filename)\n",
    "            image = mpimg.imread(image_file_relative_path)\n",
    "            image_shape_string = str(image.shape)\n",
    "            debugLog(image_file_relative_path + \" - Original image shape : \" + image_shape_string)\n",
    "            resized_image = cv2.resize(image, (32, 32))\n",
    "            resized_image_three_channel = resized_image\n",
    "            if len(resized_image.shape) > 2 and resized_image.shape[2] == 4: # Check if image has >1 and <4 channels\n",
    "                resized_image_three_channel = cv2.cvtColor(resized_image, cv2.COLOR_BGRA2BGR)\n",
    "            new_images_list.append(resized_image_three_channel)\n",
    "            print(\"Resized image shape - \" + str(resized_image_three_channel.shape))\n",
    "            resized_image_three_channel_shape_string = str(resized_image_three_channel.shape)\n",
    "            debugLog(image_file_relative_path + \" Resized and converted to three channels - image shape : \" + resized_image_three_channel_shape_string)\n",
    "            plt.figure(figsize=(3,3))\n",
    "            plt.title(filename + \" - \" + resized_image_three_channel_shape_string)\n",
    "            plt.imshow(resized_image_three_channel)   \n",
    "    return new_images_list\n",
    "\n",
    "new_images = np.array(load_normalize_and_visualize_new_images(), dtype=np.float32) # Numpy array conversion to have properly formatted list data\n",
    "debugLog(new_images.shape)\n"
   ]
  },
  {
   "cell_type": "markdown",
   "metadata": {
    "deletable": true,
    "editable": true
   },
   "source": [
    "### Predict the Sign Type for Each Image"
   ]
  },
  {
   "cell_type": "code",
   "execution_count": null,
   "metadata": {
    "collapsed": true,
    "deletable": true,
    "editable": true
   },
   "outputs": [],
   "source": [
    "### Run the predictions here and use the model to output the prediction for each image.\n",
    "### Make sure to pre-process the images with the same pre-processing pipeline used earlier.\n",
    "### Feel free to use as many code cells as needed."
   ]
  },
  {
   "cell_type": "code",
   "execution_count": 59,
   "metadata": {
    "collapsed": false,
    "deletable": true,
    "editable": true
   },
   "outputs": [
    {
     "name": "stdout",
     "output_type": "stream",
     "text": [
      "\n",
      "Starting predictions against new images.\n",
      "\n",
      "Best Class predictions for new images are : [10 13 22 25 26 34 38  9 38  4]\n",
      "\n",
      "predicted_sign_name : No passing for vehicles over 3.5 metric tons\n",
      "\n",
      "predicted_sign_name : Yield\n",
      "\n",
      "predicted_sign_name : Bumpy road\n",
      "\n",
      "predicted_sign_name : Road work\n",
      "\n",
      "predicted_sign_name : Traffic signals\n",
      "\n",
      "predicted_sign_name : Turn left ahead\n",
      "\n",
      "predicted_sign_name : Keep right\n",
      "\n",
      "predicted_sign_name : No passing\n",
      "\n",
      "predicted_sign_name : Keep right\n",
      "\n",
      "predicted_sign_name : Speed limit (70km/h)\n",
      "\n",
      "Completed predictions against new images.\n"
     ]
    }
   ],
   "source": [
    "debugLog(\"Starting predictions against new images.\")\n",
    "\n",
    "### Testing the trained model against test data\n",
    "with tf.Session() as sess:\n",
    "    saver.restore(sess, tf.train.latest_checkpoint('.'))\n",
    "    prediction = tf.argmax(logits,1)\n",
    "    best_predictions = sess.run(prediction, feed_dict={x: new_images, keep_prob:1})\n",
    "    debugLog(\"Best Class predictions for new images are : \" + str(best_predictions))\n",
    "    for best_prediction in best_predictions:\n",
    "        predicted_sign_name = getSignNameForClassId(best_prediction)\n",
    "        debugLog(\"predicted_sign_name : \" + predicted_sign_name)\n",
    "        \n",
    "debugLog(\"Completed predictions against new images.\")"
   ]
  },
  {
   "cell_type": "markdown",
   "metadata": {
    "deletable": true,
    "editable": true
   },
   "source": [
    "### Analyze Performance"
   ]
  },
  {
   "cell_type": "markdown",
   "metadata": {
    "deletable": true,
    "editable": true
   },
   "source": [
    "### 60% ( 6 out of 10 new images predicted correctly )"
   ]
  },
  {
   "cell_type": "markdown",
   "metadata": {
    "deletable": true,
    "editable": true
   },
   "source": [
    "### Incorrectly classified images"
   ]
  },
  {
   "cell_type": "code",
   "execution_count": 60,
   "metadata": {
    "collapsed": false,
    "deletable": true,
    "editable": true
   },
   "outputs": [
    {
     "name": "stdout",
     "output_type": "stream",
     "text": [
      "\n",
      "NewImages/27.gif - Original image shape : (80, 120, 4)\n",
      "\n",
      "NewImages/5.gif - Original image shape : (80, 120, 4)\n",
      "\n",
      "NewImages/unknown.gif - Original image shape : (80, 120, 4)\n",
      "\n",
      "NewImages/unknown2.gif - Original image shape : (80, 120, 4)\n"
     ]
    },
    {
     "data": {
      "text/plain": [
       "array([[[  4,   2, 252,   0],\n",
       "        [  4,   2, 252,   0],\n",
       "        [  4,   2, 252,   0],\n",
       "        ..., \n",
       "        [  4,   2, 252,   0],\n",
       "        [  4,   2, 252,   0],\n",
       "        [  4,   2, 252,   0]],\n",
       "\n",
       "       [[  4,   2, 252,   0],\n",
       "        [  4,   2, 252,   0],\n",
       "        [  4,   2, 252,   0],\n",
       "        ..., \n",
       "        [  4,   2, 252,   0],\n",
       "        [  4,   2, 252,   0],\n",
       "        [  4,   2, 252,   0]],\n",
       "\n",
       "       [[  4,   2, 252,   0],\n",
       "        [  4,   2, 252,   0],\n",
       "        [  4,   2, 252,   0],\n",
       "        ..., \n",
       "        [  4,   2, 252,   0],\n",
       "        [  4,   2, 252,   0],\n",
       "        [  4,   2, 252,   0]],\n",
       "\n",
       "       ..., \n",
       "       [[  4,   2, 252,   0],\n",
       "        [  4,   2, 252,   0],\n",
       "        [  4,   2, 252,   0],\n",
       "        ..., \n",
       "        [  4,   2, 252,   0],\n",
       "        [  4,   2, 252,   0],\n",
       "        [  4,   2, 252,   0]],\n",
       "\n",
       "       [[  4,   2, 252,   0],\n",
       "        [  4,   2, 252,   0],\n",
       "        [  4,   2, 252,   0],\n",
       "        ..., \n",
       "        [  4,   2, 252,   0],\n",
       "        [  4,   2, 252,   0],\n",
       "        [  4,   2, 252,   0]],\n",
       "\n",
       "       [[  4,   2, 252,   0],\n",
       "        [  4,   2, 252,   0],\n",
       "        [  4,   2, 252,   0],\n",
       "        ..., \n",
       "        [  4,   2, 252,   0],\n",
       "        [  4,   2, 252,   0],\n",
       "        [  4,   2, 252,   0]]], dtype=uint8)"
      ]
     },
     "execution_count": 60,
     "metadata": {},
     "output_type": "execute_result"
    },
    {
     "data": {
      "image/png": "[encoded data removed]",
      "text/plain": [
       "<matplotlib.figure.Figure at 0x7f823d0317b8>"
      ]
     },
     "metadata": {},
     "output_type": "display_data"
    },
    {
     "data": {
      "image/png": "[encoded data removed]",
      "text/plain": [
       "<matplotlib.figure.Figure at 0x7f823c6a99e8>"
      ]
     },
     "metadata": {},
     "output_type": "display_data"
    },
    {
     "data": {
      "image/png": "[encoded data removed]",
      "text/plain": [
       "<matplotlib.figure.Figure at 0x7f823c640908>"
      ]
     },
     "metadata": {},
     "output_type": "display_data"
    },
    {
     "data": {
      "image/png": "[encoded data removed]",
      "text/plain": [
       "<matplotlib.figure.Figure at 0x7f823c5ce2b0>"
      ]
     },
     "metadata": {},
     "output_type": "display_data"
    }
   ],
   "source": [
    "# 27.gif\n",
    "\n",
    "# 5.gif\n",
    "\n",
    "# unknown.gif\n",
    "\n",
    "# unknown2.gif\n",
    "\n",
    "### Load the images and plot them here.\n",
    "### Feel free to use as many code cells as needed.\n",
    "\n",
    "def load_visualize_file_with_name(param_filename, title=\"\"):\n",
    "    return_image = None\n",
    "    for filename in os.listdir(const_new_images_folder):\n",
    "        if filename == param_filename: \n",
    "            image_file_relative_path = os.path.join(const_new_images_folder, filename)\n",
    "            image = mpimg.imread(image_file_relative_path)\n",
    "            return_image = image\n",
    "            image_shape_string = str(image.shape)\n",
    "            debugLog(image_file_relative_path + \" - Original image shape : \" + image_shape_string)\n",
    "            plt.figure(figsize=(3,3))\n",
    "            plt.title(\"File :\" + filename + \" - \" + title )\n",
    "            plt.imshow(image)   \n",
    "    return return_image\n",
    "\n",
    "load_visualize_file_with_name('27.gif','Wrong classification - Turn left ahead')\n",
    "load_visualize_file_with_name('5.gif','Wrong classification - Keep right')\n",
    "load_visualize_file_with_name('unknown.gif','Wrong classification - Keep right')\n",
    "load_visualize_file_with_name('unknown2.gif','Wrong classification - Speed limit ( 70 kmph)')"
   ]
  },
  {
   "cell_type": "markdown",
   "metadata": {
    "deletable": true,
    "editable": true
   },
   "source": [
    "### Output Top 5 Softmax Probabilities For Each Image Found on the Web"
   ]
  },
  {
   "cell_type": "markdown",
   "metadata": {
    "deletable": true,
    "editable": true
   },
   "source": [
    "For each of the new images, print out the model's softmax probabilities to show the **certainty** of the model's predictions (limit the output to the top 5 probabilities for each image). [`tf.nn.top_k`](https://www.tensorflow.org/versions/r0.12/api_docs/python/nn.html#top_k) could prove helpful here. \n",
    "\n",
    "The example below demonstrates how tf.nn.top_k can be used to find the top k predictions for each image.\n",
    "\n",
    "`tf.nn.top_k` will return the values and indices (class ids) of the top k predictions. So if k=3, for each sign, it'll return the 3 largest probabilities (out of a possible 43) and the correspoding class ids.\n",
    "\n",
    "Take this numpy array as an example. The values in the array represent predictions. The array contains softmax probabilities for five candidate images with six possible classes. `tk.nn.top_k` is used to choose the three classes with the highest probability:\n",
    "\n",
    "```\n",
    "# (5, 6) array\n",
    "a = np.array([[ 0.24879643,  0.07032244,  0.12641572,  0.34763842,  0.07893497,\n",
    "         0.12789202],\n",
    "       [ 0.28086119,  0.27569815,  0.08594638,  0.0178669 ,  0.18063401,\n",
    "         0.15899337],\n",
    "       [ 0.26076848,  0.23664738,  0.08020603,  0.07001922,  0.1134371 ,\n",
    "         0.23892179],\n",
    "       [ 0.11943333,  0.29198961,  0.02605103,  0.26234032,  0.1351348 ,\n",
    "         0.16505091],\n",
    "       [ 0.09561176,  0.34396535,  0.0643941 ,  0.16240774,  0.24206137,\n",
    "         0.09155967]])\n",
    "```\n",
    "\n",
    "Running it through `sess.run(tf.nn.top_k(tf.constant(a), k=3))` produces:\n",
    "\n",
    "```\n",
    "TopKV2(values=array([[ 0.34763842,  0.24879643,  0.12789202],\n",
    "       [ 0.28086119,  0.27569815,  0.18063401],\n",
    "       [ 0.26076848,  0.23892179,  0.23664738],\n",
    "       [ 0.29198961,  0.26234032,  0.16505091],\n",
    "       [ 0.34396535,  0.24206137,  0.16240774]]), indices=array([[3, 0, 5],\n",
    "       [0, 1, 4],\n",
    "       [0, 5, 1],\n",
    "       [1, 3, 5],\n",
    "       [1, 4, 3]], dtype=int32))\n",
    "```\n",
    "\n",
    "Looking just at the first row we get `[ 0.34763842,  0.24879643,  0.12789202]`, you can confirm these are the 3 largest probabilities in `a`. You'll also notice `[3, 0, 5]` are the corresponding indices."
   ]
  },
  {
   "cell_type": "code",
   "execution_count": 61,
   "metadata": {
    "collapsed": false,
    "deletable": true,
    "editable": true
   },
   "outputs": [
    {
     "name": "stdout",
     "output_type": "stream",
     "text": [
      "\n",
      "Starting top 5 Softmax probabilities for new German traffic images found on the web.\n",
      "\n",
      "Top five predicted classification IDs for each new image : \n",
      "[[10 42  9 23 20]\n",
      " [13 35 14 12 38]\n",
      " [22 29 25 26 20]\n",
      " [25  5 20  1 33]\n",
      " [26 18 25 14 12]\n",
      " [34 37 38 18 26]\n",
      " [38 39  4 40 34]\n",
      " [ 9 41 16 17 19]\n",
      " [38 34 37 26 18]\n",
      " [ 4 21 40  1  5]]\n",
      "\n",
      "Top five predicted softmax probabilities for each new image : \n",
      "[[  8335.83300781   2348.12255859   1901.12780762   1861.78588867\n",
      "    1805.05773926]\n",
      " [  8925.43261719    816.16271973    248.01979065   -347.30929565\n",
      "   -1119.0526123 ]\n",
      " [  5780.97265625   5295.85595703   2839.86523438   1358.33337402\n",
      "     351.11810303]\n",
      " [ 18895.16992188    385.11053467    109.29756165  -1021.15533447\n",
      "   -1568.81652832]\n",
      " [ 10750.28613281     40.41530609   -856.95379639  -1990.81176758\n",
      "   -2081.71484375]\n",
      " [  5866.06494141   3637.19189453   2145.17993164   2095.66210938\n",
      "    1761.33703613]\n",
      " [  4890.07373047    647.90124512    410.08132935    222.31037903\n",
      "   -1279.0090332 ]\n",
      " [  5422.94628906   2618.82104492   1696.76574707    330.7180481\n",
      "    -601.87249756]\n",
      " [  7466.10351562   3728.62011719   3375.50537109  -1669.81811523\n",
      "   -1713.71276855]\n",
      " [  1268.84423828    879.82836914    513.57202148    506.54882812\n",
      "     343.88961792]]\n",
      "\n",
      "Top five predicted classification Names for each new image : \n",
      "[[b'No passing for vehicles over 3.5 metric '\n",
      "  b'End of no passing by vehicles over 3.5 m' b'No passing'\n",
      "  b'Slippery road' b'Dangerous curve to the right']\n",
      " [b'Yield' b'Ahead only' b'Stop' b'Priority road' b'Keep right']\n",
      " [b'Bumpy road' b'Bicycles crossing' b'Road work' b'Traffic signals'\n",
      "  b'Dangerous curve to the right']\n",
      " [b'Road work' b'Speed limit (80km/h)' b'Dangerous curve to the right'\n",
      "  b'Speed limit (30km/h)' b'Turn right ahead']\n",
      " [b'Traffic signals' b'General caution' b'Road work' b'Stop'\n",
      "  b'Priority road']\n",
      " [b'Turn left ahead' b'Go straight or left' b'Keep right'\n",
      "  b'General caution' b'Traffic signals']\n",
      " [b'Keep right' b'Keep left' b'Speed limit (70km/h)'\n",
      "  b'Roundabout mandatory' b'Turn left ahead']\n",
      " [b'No passing' b'End of no passing'\n",
      "  b'Vehicles over 3.5 metric tons prohibited' b'No entry'\n",
      "  b'Dangerous curve to the left']\n",
      " [b'Keep right' b'Turn left ahead' b'Go straight or left'\n",
      "  b'Traffic signals' b'General caution']\n",
      " [b'Speed limit (70km/h)' b'Double curve' b'Roundabout mandatory'\n",
      "  b'Speed limit (30km/h)' b'Speed limit (80km/h)']]\n",
      "\n",
      "Completed top 5 Softmax probabilities for new German traffic images found on the web.\n"
     ]
    }
   ],
   "source": [
    "debugLog(\"Starting top 5 Softmax probabilities for new German traffic images found on the web.\")\n",
    "\n",
    "top_labels_list_for_new_images = None # List of predicted labels for the new images\n",
    "\n",
    "### Testing the trained model against test data\n",
    "with tf.Session() as sess:\n",
    "    saver.restore(sess, tf.train.latest_checkpoint('.'))\n",
    "    top_predictions = tf.nn.top_k(logits,const_top_k_softmax)\n",
    "    top_prediction_values, top_prediction_indices = sess.run(top_predictions, feed_dict={x: new_images, keep_prob:1})\n",
    "    \n",
    "    top_labels_list_for_new_images = np.empty(top_prediction_indices.shape,dtype=\"S40\")\n",
    "    \n",
    "    for index, classId in np.ndenumerate(top_prediction_indices):\n",
    "        label = getSignNameForClassId(classId)\n",
    "        top_labels_list_for_new_images[index] = label\n",
    "\n",
    "    debugLog(\"Top five predicted classification IDs for each new image : \" + \"\\n\" + str(top_prediction_indices))\n",
    "    debugLog(\"Top five predicted softmax probabilities for each new image : \" + \"\\n\" + str(top_prediction_values))\n",
    "    debugLog(\"Top five predicted classification Names for each new image : \" + \"\\n\" + str(top_labels_list_for_new_images))\n",
    "  \n",
    "debugLog(\"Completed top 5 Softmax probabilities for new German traffic images found on the web.\")"
   ]
  },
  {
   "cell_type": "markdown",
   "metadata": {
    "deletable": true,
    "editable": true
   },
   "source": [
    "### Project Writeup\n",
    "\n",
    "Once you have completed the code implementation, document your results in a project writeup using this [template](https://github.com/udacity/CarND-Traffic-Sign-Classifier-Project/blob/master/writeup_template.md) as a guide. The writeup can be in a markdown or pdf file. "
   ]
  },
  {
   "cell_type": "markdown",
   "metadata": {
    "deletable": true,
    "editable": true
   },
   "source": [
    "> **Note**: Once you have completed all of the code implementations and successfully answered each question above, you may finalize your work by exporting the iPython Notebook as an HTML document. You can do this by using the menu above and navigating to  \\n\",\n",
    "    \"**File -> Download as -> HTML (.html)**. Include the finished document along with this notebook as your submission."
   ]
  },
  {
   "cell_type": "markdown",
   "metadata": {
    "deletable": true,
    "editable": true
   },
   "source": [
    "---\n",
    "\n",
    "## Step 4 (Optional): Visualize the Neural Network's State with Test Images\n",
    "\n",
    " This Section is not required to complete but acts as an additional excersise for understaning the output of a neural network's weights. While neural networks can be a great learning device they are often referred to as a black box. We can understand what the weights of a neural network look like better by plotting their feature maps. After successfully training your neural network you can see what it's feature maps look like by plotting the output of the network's weight layers in response to a test stimuli image. From these plotted feature maps, it's possible to see what characteristics of an image the network finds interesting. For a sign, maybe the inner network feature maps react with high activation to the sign's boundary outline or to the contrast in the sign's painted symbol.\n",
    "\n",
    " Provided for you below is the function code that allows you to get the visualization output of any tensorflow weight layer you want. The inputs to the function should be a stimuli image, one used during training or a new one you provided, and then the tensorflow variable name that represents the layer's state during the training process, for instance if you wanted to see what the [LeNet lab's](https://classroom.udacity.com/nanodegrees/nd013/parts/fbf77062-5703-404e-b60c-95b78b2f3f9e/modules/6df7ae49-c61c-4bb2-a23e-6527e69209ec/lessons/601ae704-1035-4287-8b11-e2c2716217ad/concepts/d4aca031-508f-4e0b-b493-e7b706120f81) feature maps looked like for it's second convolutional layer you could enter conv2 as the tf_activation variable.\n",
    "\n",
    "For an example of what feature map outputs look like, check out NVIDIA's results in their paper [End-to-End Deep Learning for Self-Driving Cars](https://devblogs.nvidia.com/parallelforall/deep-learning-self-driving-cars/) in the section Visualization of internal CNN State. NVIDIA was able to show that their network's inner weights had high activations to road boundary lines by comparing feature maps from an image with a clear path to one without. Try experimenting with a similar test to show that your trained network's weights are looking for interesting features, whether it's looking at differences in feature maps from images with or without a sign, or even what feature maps look like in a trained network vs a completely untrained one on the same sign image.\n",
    "\n",
    "<figure>\n",
    " <img src=\"visualize_cnn.png\" width=\"380\" alt=\"Combined Image\" />\n",
    " <figcaption>\n",
    " <p></p> \n",
    " <p style=\"text-align: center;\"> Your output should look something like this (above)</p> \n",
    " </figcaption>\n",
    "</figure>\n",
    " <p></p> \n"
   ]
  },
  {
   "cell_type": "code",
   "execution_count": 67,
   "metadata": {
    "collapsed": true,
    "deletable": true,
    "editable": true
   },
   "outputs": [],
   "source": [
    "### Visualize your network's feature maps here.\n",
    "### Feel free to use as many code cells as needed.\n",
    "\n",
    "# image_input: the test image being fed into the network to produce the feature maps\n",
    "# tf_activation: should be a tf variable name used during your training procedure that represents the calculated state of a specific weight layer\n",
    "# activation_min/max: can be used to view the activation contrast in more detail, by default matplot sets min and max to the actual min and max values of the output\n",
    "# plt_num: used to plot out multiple different weight feature map sets on the same block, just extend the plt number for each new feature map entry\n",
    "\n",
    "def outputFeatureMap(image_input, tf_activation, activation_min=-1, activation_max=-1 ,plt_num=1):\n",
    "    # Here make sure to preprocess your image_input in a way your network expects\n",
    "    # with size, normalization, ect if needed\n",
    "    # image_input =\n",
    "    # Note: x should be the same name as your network's tensorflow data placeholder variable\n",
    "    # If you get an error tf_activation is not defined it may be having trouble accessing the variable from inside a function\n",
    "    activation = tf_activation.eval(session=sess,feed_dict={x : image_input})\n",
    "    featuremaps = activation.shape[3]\n",
    "    plt.figure(plt_num, figsize=(15,15))\n",
    "    for featuremap in range(featuremaps):\n",
    "        plt.subplot(6,8, featuremap+1) # sets the number of feature maps to show on each row and column\n",
    "        plt.title('FeatureMap ' + str(featuremap)) # displays the feature map number\n",
    "        if activation_min != -1 & activation_max != -1:\n",
    "            plt.imshow(activation[0,:,:, featuremap], interpolation=\"nearest\", vmin =activation_min, vmax=activation_max, cmap=\"gray\")\n",
    "        elif activation_max != -1:\n",
    "            plt.imshow(activation[0,:,:, featuremap], interpolation=\"nearest\", vmax=activation_max, cmap=\"gray\")\n",
    "        elif activation_min !=-1:\n",
    "            plt.imshow(activation[0,:,:, featuremap], interpolation=\"nearest\", vmin=activation_min, cmap=\"gray\")\n",
    "        else:\n",
    "            plt.imshow(activation[0,:,:, featuremap], interpolation=\"nearest\", cmap=\"gray\")"
   ]
  },
  {
   "cell_type": "markdown",
   "metadata": {
    "deletable": true,
    "editable": true
   },
   "source": [
    "### Additional exploration\n",
    "\n",
    "* A top level hyper parameter optimizer, which tweak(s) a hyper parameter, evaluates whether the model is improving ( e.g. in 10 epochs ), and then prints results of this evaluation to a human readable format, and then slowly does this for all the hyper parameters. This will automate a lot of the mundane task(s) around hyper parameter optimization.\n",
    "* I was a bit conservative with the model, in the sense that I took the LeNet model and tweaked it to achieve the necessary performance. An even better approach would be start off with other model(s) like GoogleNet, or to start building a model from scratch and to evaluate it at every stage. \n",
    "* You can use the concept of a TensorFlow Summary writer to save training summaries for a session.\n",
    "\n",
    "* Immediate Next - latest :\n",
    "* Iterate on the Write-up.\n",
    "* Export RC version of the notebook – HTML and Notebook.\n",
    "* Evaluate which validation classes are failing the most, and for those, generate new fake data and re-train the model on the new fake data, and then evaluate the performance on the validation data, and then eventually against the testing data.\n",
    "* Any additional tuning items like – L2, deeper CNN, other optimizers, other pooling strategies, preprocessing like greyscaling. \n",
    "\n",
    "* Explore visualization samples - The [Matplotlib](http://matplotlib.org/) [examples](http://matplotlib.org/examples/index.html) and [gallery](http://matplotlib.org/gallery.html) pages are a great resource for doing visualizations in Python.\n",
    "* Do visualization of activation.\n",
    "* Do visualization of prediction accuracy for validation data\n",
    "* Do visualization of softmax probabilities for a particular new image\n",
    "\n",
    "* Feature co ordinates within the image have been provided, so we could extract and use this information in some form.\n",
    "* Implement Learning Rate Decay if accuracy does not improve over x-iterations.\n",
    "* Review ConvNetJS to check out how they implement various Data Visualizations in real time and see if you can incorporate those.\n",
    "* For example using ConvNetJS, initiate a conv net training process, and see how the visualizations update in real time.\n",
    "* Start on Keras, Transfer learning, behavioral cloning. \n",
    "* Write a blog post on saving a model, and restoring it with Tensorflow."
   ]
  },
  {
   "cell_type": "markdown",
   "metadata": {
    "deletable": true,
    "editable": true
   },
   "source": [
    "### Retrospective - What went well\n",
    "\n",
    "* Defining Convenience functions up-front helped with using them from different contexts. Additionally, these functions are general purpose, and can be used for other projects / subsequent assignments as well.\n",
    "* Defining convenience functions and testing them right away also helped in reducing surprises.\n",
    "* Identifying hyper parameters, up front gave me a good visibility into the knobs which I had for tuning.\n",
    "* Became fairly comfortable with designing convolution layer(s) with different filter sizes, strides and depths.\n",
    "* Logging at different level(s) helped me in getting the right level of information, and the right time. During development of a new feature, I debugLogged anything that needed to be logged, and once dev / testing on that feature was complete, I changed it to infoLog.\n",
    "* For generated model(s), save them only if their validation accuracy improves.\n",
    "* For generated model(s), save their validation accuracy in the file name, so that you have quick visibility into that information.\n"
   ]
  },
  {
   "cell_type": "markdown",
   "metadata": {
    "deletable": true,
    "editable": true
   },
   "source": [
    "### Retrospective - Areas for improvement\n",
    "\n",
    "* I struggled a bit, with restoring saved Tensorflow model(s). Because I was able to successfully complete the LeNet Lab on my own, I did not review the solution ( where restoration code was provided ). At one time, I had achieved a validation performance of 96.5% but at the time I did not know how to restore that model, hence I 'lost' that model over subsequent runs. **Learning** : Review the solution, even if you succeed in doing things on your own because you might still get to learn something new.\n",
    "* The images loaded from the data set had a dtype of unit8, because of which when I tried to normalize and save them, the pixel intensities became integers, and so therefore always either 0 or 1. This naturally led to extremely low prediction accuracies. When I visualized the output images, it helped me detect the anomaly and then fix it. **Learning** : For image manipulation processes, visualize the output immediately after the manipulation to check if it looks as expected.\n",
    "* Not necessarily an area for improvement, but more of familiarization with the Jupyter notebooks was that often I ran into Memory issues after running the notebook for a few hours. Also, in certain situations, the kernel died randomly. **Learning** : If you are running out of memory issues, it might be because you have chosen a large batch size. To mitigate this, reduce the batch size, terminate all unnecessary applicatins, terminate and restart your browser, and Docker and the Jupyter notebook.\n",
    "* The process of training over multiple epochs took some time, and it took me some time to become patient and accept it as part of the dev workflow. **Learning** : Training a model is a time consuming process, so patience, coffee and liberal usage of GPUs is recommended ! Also, save good models aggresively, so that you can always restore them later if something goes wrong, and therefore you can 'save' all the effort that has been invested thus far into training the model.\n",
    "* I am still not as comfortable with TensorFlow model save and restore, as I would like to be. **Learning** : Continue exploring TF model save and restore."
   ]
  },
  {
   "cell_type": "markdown",
   "metadata": {},
   "source": [
    "### Tensorflow - best practices and other resources\n",
    "\n",
    "\n",
    "1. https://github.com/aicodes/tf-bestpractice\n",
    "2. https://www.tensorflow.org/performance/performance_guide#best_practices\n",
    "3. https://indico.io/blog/the-good-bad-ugly-of-tensorflow/\n",
    "4. https://www.hakkalabs.co/articles/fabrizio\n",
    "5. http://web.stanford.edu/class/cs20si/syllabus.html"
   ]
  },
  {
   "cell_type": "markdown",
   "metadata": {},
   "source": [
    "### Popular CNN architectures\n",
    "\n",
    "1. https://adeshpande3.github.io/adeshpande3.github.io/The-9-Deep-Learning-Papers-You-Need-To-Know-About.html\n",
    "2. http://slazebni.cs.illinois.edu/spring17/lec04_advanced_cnn.pdf\n",
    "3. https://www.tensorflow.org/tutorials/image_recognition\n",
    "4. https://culurciello.github.io/tech/2016/06/04/nets.html"
   ]
  },
  {
   "cell_type": "code",
   "execution_count": null,
   "metadata": {
    "collapsed": true
   },
   "outputs": [],
   "source": []
  }
 ],
 "metadata": {
  "anaconda-cloud": {},
  "kernelspec": {
   "display_name": "Python 3",
   "language": "python",
   "name": "python3"
  },
  "language_info": {
   "codemirror_mode": {
    "name": "ipython",
    "version": 3
   },
   "file_extension": ".py",
   "mimetype": "text/x-python",
   "name": "python",
   "nbconvert_exporter": "python",
   "pygments_lexer": "ipython3",
   "version": "3.5.2"
  },
  "widgets": {
   "state": {},
   "version": "1.1.2"
  }
 },
 "nbformat": 4,
 "nbformat_minor": 1
}
